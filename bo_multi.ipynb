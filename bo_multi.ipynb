{
 "cells": [
  {
   "cell_type": "code",
   "execution_count": 1,
   "id": "d7cb8a01-dc36-43d4-b07e-899323de1d0d",
   "metadata": {},
   "outputs": [
    {
     "name": "stderr",
     "output_type": "stream",
     "text": [
      "/home/jshe/smiles_vae/env/lib/python3.11/site-packages/tqdm/auto.py:21: TqdmWarning: IProgress not found. Please update jupyter and ipywidgets. See https://ipywidgets.readthedocs.io/en/stable/user_install.html\n",
      "  from .autonotebook import tqdm as notebook_tqdm\n"
     ]
    }
   ],
   "source": [
    "from utils.utils import *\n",
    "from utils.dataset import *\n",
    "from bo.multi_objective import *\n",
    "from models.RNN0 import Encoder, Decoder, Predictor\n",
    "\n",
    "import torch\n",
    "from torch.utils.data import DataLoader\n",
    "\n",
    "from botorch.utils.transforms import normalize, unnormalize\n",
    "\n",
    "%load_ext autoreload\n",
    "%autoreload 2"
   ]
  },
  {
   "cell_type": "code",
   "execution_count": 2,
   "id": "3fc05991-0be7-4ab7-8ce6-93a7b5552444",
   "metadata": {},
   "outputs": [],
   "source": [
    "sample_restrictions = None\n",
    "acquisition_function = 'qehvi'"
   ]
  },
  {
   "cell_type": "code",
   "execution_count": 3,
   "id": "4fcd96ab-c021-46fb-9c9d-0adf9f816338",
   "metadata": {},
   "outputs": [],
   "source": [
    "DATADIR = './data/gdb13/'\n",
    "RUNDIR = './runs/train11/'\n",
    "OUTDIR = './runs/bo02/'\n",
    "DATASPEC_FILE = os.path.join(DATADIR, 'spec.json')\n",
    "RUNSPEC_FILE = os.path.join(RUNDIR, 'spec.json')\n",
    "\n",
    "encoder_weights_file = os.path.join(RUNDIR, 'encoder_weights.pth')\n",
    "decoder_weights_file = os.path.join(RUNDIR, 'decoder_weights.pth')\n",
    "predictor_weights_file = os.path.join(RUNDIR, 'predictor_weights.pth')\n",
    "\n",
    "samples_z_file = os.path.join(OUTDIR, 'samples_z.pt')\n",
    "samples_scores_file = os.path.join(OUTDIR, 'samples_scores.pt')\n",
    "candidates_z_file = os.path.join(OUTDIR, 'candidates_z.pt')\n",
    "candidates_scores_file = os.path.join(OUTDIR, 'candidates_scores.pt')\n",
    "state_dict_file = os.path.join(OUTDIR, 'state_dict.pt')\n",
    "\n",
    "dataspec = fetch_params(DATASPEC_FILE)\n",
    "runspec = fetch_params(RUNSPEC_FILE)\n",
    "\n",
    "to_hot, from_hot = make_embedding_utils(dataspec)"
   ]
  },
  {
   "cell_type": "code",
   "execution_count": 4,
   "id": "06f69547-6109-4196-b4a6-40be530135bf",
   "metadata": {},
   "outputs": [],
   "source": [
    "encoder = Encoder(runspec.L)\n",
    "encoder.load_state_dict(torch.load(encoder_weights_file, map_location=torch.device('cpu')))\n",
    "encoder.eval()\n",
    "\n",
    "decoder = Decoder(runspec.L)\n",
    "decoder.load_state_dict(torch.load(decoder_weights_file, map_location=torch.device('cpu')))\n",
    "decoder.eval()\n",
    "\n",
    "predictor = Predictor(runspec.L)\n",
    "predictor.load_state_dict(torch.load(predictor_weights_file, map_location=torch.device('cpu')))\n",
    "predictor.eval()\n",
    "None"
   ]
  },
  {
   "cell_type": "code",
   "execution_count": 5,
   "id": "f654da50-5eaf-43aa-aa58-6428279c36f9",
   "metadata": {},
   "outputs": [],
   "source": [
    "_, testset = make_data(DATADIR, to_hot, n=500)\n",
    "dataiter = iter(DataLoader(\n",
    "    testset, \n",
    "    batch_size=16 if sample_restrictions is None else 1, \n",
    "    shuffle=True\n",
    "))\n",
    "\n",
    "means, stds = get_latent_distributions(encoder, testset.hots)\n",
    "strong_dims = get_important_dimensions(testset.hots, encoder, decoder)\n",
    "\n",
    "compressed_means = means[strong_dims]\n",
    "compressed_stds = stds[strong_dims]\n",
    "\n",
    "z_bounds = torch.stack((\n",
    "    (compressed_means - 4 * compressed_stds), \n",
    "    (compressed_means + 4 * compressed_stds)f\n",
    "))\n",
    "\n",
    "score_bounds = torch.Tensor(\n",
    "    [[0, -10], \n",
    "     [1, 0]]\n",
    ")\n",
    "\n",
    "unit_bounds = torch.zeros_like(z_bounds)\n",
    "unit_bounds[1] = 1"
   ]
  },
  {
   "cell_type": "code",
   "execution_count": 6,
   "id": "45f885f5-8381-4204-8504-6743e91e7797",
   "metadata": {},
   "outputs": [],
   "source": [
    "if all(os.path.isfile(f) for f in (samples_z_file, samples_scores_file, candidates_z_file, candidates_scores_file)):\n",
    "    samples_z = torch.load(samples_z_file)\n",
    "    samples_scores = torch.load(samples_scores_file)\n",
    "    candidates_z = torch.load(candidates_z_file)\n",
    "    candidates_scores = torch.load(candidates_scores_file)\n",
    "    state_dict = torch.load(state_dict_file)\n",
    "else:\n",
    "    samples_z, samples_scores = torch.Tensor(), torch.Tensor()\n",
    "    candidates_z, candidates_scores = torch.Tensor(), torch.Tensor()\n",
    "    state_dict = None"
   ]
  },
  {
   "cell_type": "code",
   "execution_count": null,
   "id": "d227d3f3-c0d1-4afd-a588-dd46779541ee",
   "metadata": {},
   "outputs": [],
   "source": [
    "for batch in range(1):\n",
    "\n",
    "    # Sample from dataset\n",
    "    if sample_restrictions is None:\n",
    "        sample_z, sample_scores = get_samples(encoder, dataiter)\n",
    "        sample_z = sample_z[:, strong_dims]\n",
    "    else:\n",
    "        sample_z, sample_scores = get_restricted_samples(encoder, dataiter, n=16, restriction=sample_restrictions)\n",
    "\n",
    "    # Append samples to progress\n",
    "    samples_z = torch.cat([samples_z, sample_z])\n",
    "    samples_scores = torch.cat([samples_scores, sample_scores])\n",
    "\n",
    "    # Optimization baseline\n",
    "    ref_point = samples_scores.min(0)[0]\n",
    "\n",
    "    # Acquisition loop\n",
    "    for _ in range(8):\n",
    "        z = normalize(torch.cat([samples_z, candidates_z]), z_bounds).detach()\n",
    "        scores = normalize(torch.cat([samples_scores, candidates_scores]), score_bounds).detach()\n",
    "\n",
    "        # Fit GP surrogate\n",
    "        print('Fitting surrogate...')\n",
    "        surrogate = fit_surrogate(z, scores, state_dict)\n",
    "        state_dict = surrogate.state_dict()\n",
    "        \n",
    "        # Acquire candidate samples\n",
    "        print('Aquiring candidates...')\n",
    "        if acquisition_function == 'qehvi':\n",
    "            new_candidates = optimize_qehvi(surrogate, z, scores, ref_point, unit_bounds)\n",
    "        elif acquisition_function == 'qnparego':\n",
    "            new_candidates = optimize_qnparego(surrogate, z, scores)\n",
    "\n",
    "        # Unnormalize, decompress, filter, and score candidates\n",
    "        new_candidates = unnormalize(new_candidates, z_bounds)\n",
    "        new_candidates = decompress(new_candidates, strong_dims, runspec.L)\n",
    "        new_z, new_scores = filter_and_score(new_candidates, decoder, from_hot)\n",
    "        if new_z.dim() > 1: new_z = new_z[:, strong_dims]\n",
    "\n",
    "        # Update samples\n",
    "        candidates_z = torch.cat([candidates_z, new_z])\n",
    "        candidates_scores = torch.cat([candidates_scores, new_scores])"
   ]
  },
  {
   "cell_type": "code",
   "execution_count": 9,
   "id": "ba75b9eb-1b4d-46c1-9d00-8a3467673e76",
   "metadata": {},
   "outputs": [
    {
     "data": {
      "text/plain": [
       "(-10.0, 0.0)"
      ]
     },
     "execution_count": 9,
     "metadata": {},
     "output_type": "execute_result"
    },
    {
     "data": {
      "image/png": "[encoded data removed]",
      "text/plain": [
       "<Figure size 400x400 with 1 Axes>"
      ]
     },
     "metadata": {},
     "output_type": "display_data"
    }
   ],
   "source": [
    "plt.figure(figsize=(4,4))\n",
    "\n",
    "plt.hexbin(testset.qed, -testset.sas, cmap='binary')\n",
    "\n",
    "# Candidate Scores\n",
    "plt.scatter(candidates_scores[:, 0].detach(), candidates_scores[:, 1].detach(), c=range(len(candidates_scores)), s=16)\n",
    "\n",
    "#plt.scatter(samples_scores[:, 0].detach(), samples_scores[:, 1].detach(), color='red', s=16)\n",
    "\n",
    "plt.xlabel('qed')\n",
    "plt.ylabel('-sas')\n",
    "plt.xlim([0, 1])\n",
    "plt.ylim([-10, 0])"
   ]
  },
  {
   "cell_type": "code",
   "execution_count": 10,
   "id": "ef439447-1392-4852-80f7-ddd12937f025",
   "metadata": {},
   "outputs": [
    {
     "data": {
      "text/html": [
       "<div>\n",
       "<style scoped>\n",
       "    .dataframe tbody tr th:only-of-type {\n",
       "        vertical-align: middle;\n",
       "    }\n",
       "\n",
       "    .dataframe tbody tr th {\n",
       "        vertical-align: top;\n",
       "    }\n",
       "\n",
       "    .dataframe thead th {\n",
       "        text-align: right;\n",
       "    }\n",
       "</style>\n",
       "<table border=\"1\" class=\"dataframe\">\n",
       "  <thead>\n",
       "    <tr style=\"text-align: right;\">\n",
       "      <th></th>\n",
       "      <th>smile</th>\n",
       "      <th>qed</th>\n",
       "      <th>sas</th>\n",
       "    </tr>\n",
       "  </thead>\n",
       "  <tbody>\n",
       "    <tr>\n",
       "      <th>46</th>\n",
       "      <td>[O-]CCSSN=CCCCOO</td>\n",
       "      <td>0.161513</td>\n",
       "      <td>4.870240</td>\n",
       "    </tr>\n",
       "    <tr>\n",
       "      <th>31</th>\n",
       "      <td>C1CNCNNC[NH2+]CNNC1</td>\n",
       "      <td>0.231444</td>\n",
       "      <td>5.770748</td>\n",
       "    </tr>\n",
       "    <tr>\n",
       "      <th>40</th>\n",
       "      <td>[NH2+]COOCC1CCOO1</td>\n",
       "      <td>0.231955</td>\n",
       "      <td>5.455442</td>\n",
       "    </tr>\n",
       "    <tr>\n",
       "      <th>15</th>\n",
       "      <td>N=C1C=C[SH]=C[NH+]=CN1</td>\n",
       "      <td>0.239234</td>\n",
       "      <td>6.688378</td>\n",
       "    </tr>\n",
       "    <tr>\n",
       "      <th>9</th>\n",
       "      <td>ClNC=C1C=CC[SH]=C1</td>\n",
       "      <td>0.256886</td>\n",
       "      <td>5.756095</td>\n",
       "    </tr>\n",
       "    <tr>\n",
       "      <th>...</th>\n",
       "      <td>...</td>\n",
       "      <td>...</td>\n",
       "      <td>...</td>\n",
       "    </tr>\n",
       "    <tr>\n",
       "      <th>1</th>\n",
       "      <td>Nc1[nH]c(=O)sc1-c1ccccc1</td>\n",
       "      <td>0.721865</td>\n",
       "      <td>2.367261</td>\n",
       "    </tr>\n",
       "    <tr>\n",
       "      <th>74</th>\n",
       "      <td>Nc1[nH]c(=O)oc1-c1cnccc1Cl</td>\n",
       "      <td>0.743895</td>\n",
       "      <td>3.006863</td>\n",
       "    </tr>\n",
       "    <tr>\n",
       "      <th>60</th>\n",
       "      <td>NC1=C(c2sccc2Cl)CC(=O)N1</td>\n",
       "      <td>0.745469</td>\n",
       "      <td>3.242651</td>\n",
       "    </tr>\n",
       "    <tr>\n",
       "      <th>21</th>\n",
       "      <td>Nc1ccc(Nc2cccs2)cn1</td>\n",
       "      <td>0.766269</td>\n",
       "      <td>2.450693</td>\n",
       "    </tr>\n",
       "    <tr>\n",
       "      <th>67</th>\n",
       "      <td>Nc1[nH]c(=O)sc1-c1sccc1Cl</td>\n",
       "      <td>0.793386</td>\n",
       "      <td>3.214113</td>\n",
       "    </tr>\n",
       "  </tbody>\n",
       "</table>\n",
       "<p>76 rows × 3 columns</p>\n",
       "</div>"
      ],
      "text/plain": [
       "                         smile       qed       sas\n",
       "46            [O-]CCSSN=CCCCOO  0.161513  4.870240\n",
       "31         C1CNCNNC[NH2+]CNNC1  0.231444  5.770748\n",
       "40           [NH2+]COOCC1CCOO1  0.231955  5.455442\n",
       "15      N=C1C=C[SH]=C[NH+]=CN1  0.239234  6.688378\n",
       "9           ClNC=C1C=CC[SH]=C1  0.256886  5.756095\n",
       "..                         ...       ...       ...\n",
       "1     Nc1[nH]c(=O)sc1-c1ccccc1  0.721865  2.367261\n",
       "74  Nc1[nH]c(=O)oc1-c1cnccc1Cl  0.743895  3.006863\n",
       "60    NC1=C(c2sccc2Cl)CC(=O)N1  0.745469  3.242651\n",
       "21         Nc1ccc(Nc2cccs2)cn1  0.766269  2.450693\n",
       "67   Nc1[nH]c(=O)sc1-c1sccc1Cl  0.793386  3.214113\n",
       "\n",
       "[76 rows x 3 columns]"
      ]
     },
     "execution_count": 10,
     "metadata": {},
     "output_type": "execute_result"
    }
   ],
   "source": [
    "import pandas as pd\n",
    "\n",
    "x_hat = decoder(decompress(candidates_z, strong_dims, runspec.L))\n",
    "\n",
    "mols = [MolFromSmiles(smile) for smile in from_hot(x_hat)]\n",
    "smiles = set([MolToSmiles(mol) for mol in mols if mol is not None])\n",
    "\n",
    "candidates = pd.DataFrame(columns=['smile', 'qed', 'sas'])\n",
    "\n",
    "for i, smile in enumerate(smiles):\n",
    "    candidates.loc[i] = [smile, QED(MolFromSmiles(smile)), SAS(MolFromSmiles(smile))]\n",
    "\n",
    "candidates.sort_values(by=['qed'])"
   ]
  },
  {
   "cell_type": "code",
   "execution_count": 22,
   "id": "cc2e9746-331b-41a4-82de-d14390eb015c",
   "metadata": {},
   "outputs": [
    {
     "data": {
      "image/png": "[encoded data removed]",
      "text/plain": [
       "<rdkit.Chem.rdchem.Mol at 0x7f2828d285f0>"
      ]
     },
     "execution_count": 22,
     "metadata": {},
     "output_type": "execute_result"
    }
   ],
   "source": [
    "MolFromSmiles('Nc1ccc(Nc2cccs2)cn1')"
   ]
  },
  {
   "cell_type": "code",
   "execution_count": null,
   "id": "d8049854-897e-4782-b00a-72ed3063bc49",
   "metadata": {},
   "outputs": [],
   "source": []
  }
 ],
 "metadata": {
  "kernelspec": {
   "display_name": "Python 3 (ipykernel)",
   "language": "python",
   "name": "python3"
  },
  "language_info": {
   "codemirror_mode": {
    "name": "ipython",
    "version": 3
   },
   "file_extension": ".py",
   "mimetype": "text/x-python",
   "name": "python",
   "nbconvert_exporter": "python",
   "pygments_lexer": "ipython3",
   "version": "3.11.5"
  }
 },
 "nbformat": 4,
 "nbformat_minor": 5
}
