{
 "cells": [
  {
   "cell_type": "code",
   "execution_count": 1,
   "id": "fe1e2601-7424-447d-89de-be2be00ae309",
   "metadata": {
    "tags": []
   },
   "outputs": [],
   "source": [
    "import torch\n",
    "\n",
    "import matplotlib.pyplot as plt\n",
    "import seaborn\n",
    "import numpy as np\n",
    "import pandas as pd\n",
    "import seaborn\n",
    "\n",
    "import sys\n",
    "import time\n",
    "import os\n",
    "from math import log\n",
    "import random\n",
    "from tqdm import tqdm\n",
    "\n",
    "from rdkit.Chem import MolFromSmiles, MolToSmiles, RDConfig\n",
    "from rdkit.Chem.Crippen import MolLogP as LogP\n",
    "from rdkit.Chem.QED import qed as QED\n",
    "sys.path.append(os.path.join(RDConfig.RDContribDir, 'SA_Score'))\n",
    "from sascorer import calculateScore as SAS\n",
    "\n",
    "from utils.utils import *\n",
    "from utils.dataset import *\n",
    "from models.MixedNN import Encoder, Decoder, Predictor\n",
    "\n",
    "%load_ext autoreload\n",
    "%autoreload 2"
   ]
  },
  {
   "cell_type": "code",
   "execution_count": 2,
   "id": "896024f1-9dc9-4385-9876-0a9a8c5667ad",
   "metadata": {},
   "outputs": [],
   "source": [
    "DATADIR = './data/gdb13-augmented/'\n",
    "RUNDIR = './runs/train16-64/'\n",
    "DATASPEC_FILE = os.path.join(DATADIR, 'spec.json')\n",
    "RUNSPEC_FILE = os.path.join(RUNDIR, 'spec.json')\n",
    "\n",
    "encoder_weights_file = os.path.join(RUNDIR, 'encoder_weights.pth')\n",
    "decoder_weights_file = os.path.join(RUNDIR, 'decoder_weights.pth')\n",
    "predictor_weights_file = os.path.join(RUNDIR, 'predictor_weights.pth')\n",
    "\n",
    "dataspec = fetch_params(DATASPEC_FILE)\n",
    "runspec = fetch_params(RUNSPEC_FILE)\n",
    "\n",
    "to_indices, from_distribution = make_embed_utils(dataspec)"
   ]
  },
  {
   "cell_type": "markdown",
   "id": "90749430-827f-43a8-b9d1-2f5cbec1bc3d",
   "metadata": {},
   "source": [
    "### Models"
   ]
  },
  {
   "cell_type": "code",
   "execution_count": 3,
   "id": "bf2c97b9-870d-4ad0-9244-dbe71fdbadfc",
   "metadata": {
    "tags": []
   },
   "outputs": [
    {
     "name": "stdout",
     "output_type": "stream",
     "text": [
      "Encoder: 1990680 parameters\n",
      "Predictor: 7427 parameters\n",
      "Decoder: 229408 parameters\n"
     ]
    }
   ],
   "source": [
    "kwargs = {\n",
    "    'L': runspec.L, \n",
    "    'alphabet_len': len(dataspec.alphabet), \n",
    "    'smile_len': dataspec.smile_len\n",
    "}\n",
    "\n",
    "encoder = Encoder(**kwargs)\n",
    "encoder.load_state_dict(torch.load(RUNDIR + 'encoder_weights.pth', map_location=torch.device('cpu')))\n",
    "encoder.eval()\n",
    "\n",
    "predictor = Predictor(**kwargs)\n",
    "predictor.load_state_dict(torch.load(RUNDIR + 'predictor_weights.pth', map_location=torch.device('cpu')))\n",
    "predictor.eval()\n",
    "\n",
    "decoder = Decoder(**kwargs)\n",
    "decoder.load_state_dict(torch.load(RUNDIR + 'decoder_weights.pth', map_location=torch.device('cpu')))\n",
    "decoder.eval()\n",
    "\n",
    "print(f'Encoder: {sum(p.numel() for p in encoder.parameters())} parameters')\n",
    "print(f'Predictor: {sum(p.numel() for p in predictor.parameters())} parameters')\n",
    "print(f'Decoder: {sum(p.numel() for p in decoder.parameters())} parameters')"
   ]
  },
  {
   "cell_type": "markdown",
   "id": "4827d16a-0f16-46f9-870f-75fc065c3c24",
   "metadata": {},
   "source": [
    "### Data"
   ]
  },
  {
   "cell_type": "code",
   "execution_count": 4,
   "id": "ffe99441-478a-49f9-83ba-8e9104d41585",
   "metadata": {
    "tags": []
   },
   "outputs": [],
   "source": [
    "trainset, testset = make_data(DATADIR, to_indices, n=1000)"
   ]
  },
  {
   "cell_type": "markdown",
   "id": "7e1e35f7-9bd4-482f-a0c5-fac07fbe3f8b",
   "metadata": {},
   "source": [
    "### Important Dimensions"
   ]
  },
  {
   "cell_type": "code",
   "execution_count": 5,
   "id": "bdea34a7-8909-4ee0-9e92-c36102a4665c",
   "metadata": {
    "tags": []
   },
   "outputs": [
    {
     "name": "stdout",
     "output_type": "stream",
     "text": [
      "64 Variant Dimensions:  [0, 1, 2, 3, 4, 5, 6, 7, 8, 9, 10, 11, 12, 13, 14, 15, 16, 17, 18, 19, 20, 21, 22, 23, 24, 25, 26, 27, 28, 29, 30, 31, 32, 33, 34, 35, 36, 37, 38, 39, 40, 41, 42, 43, 44, 45, 46, 47, 48, 49, 50, 51, 52, 53, 54, 55, 56, 57, 58, 59, 60, 61, 62, 63]\n"
     ]
    },
    {
     "data": {
      "text/plain": [
       "Text(0.5, 0, 'dimension')"
      ]
     },
     "execution_count": 5,
     "metadata": {},
     "output_type": "execute_result"
    },
    {
     "data": {
      "image/png": "[encoded data removed]",
      "text/plain": [
       "<Figure size 640x480 with 1 Axes>"
      ]
     },
     "metadata": {},
     "output_type": "display_data"
    }
   ],
   "source": [
    "means, stds = get_latent_distributions(encoder, testset.hots)\n",
    "\n",
    "# Standard Deviation\n",
    "variant_dimensions = [i for i, std in enumerate(stds) if std > 0.05]\n",
    "print(f'{len(variant_dimensions)} Variant Dimensions: ', variant_dimensions)\n",
    "plt.bar(range(runspec.L), stds.detach())\n",
    "plt.xlabel('variance')\n",
    "plt.xlabel('dimension')\n",
    "\n",
    "# Loss\n",
    "#dims = get_important_dimensions(trainset.hots, encoder=encoder, decoder=decoder, use_loss=True)\n",
    "#print(f'{len(dims)} Sensitive Dimensions: ', dims)"
   ]
  },
  {
   "cell_type": "markdown",
   "id": "9e1842ae-4a9d-4648-adaa-eb6059601837",
   "metadata": {},
   "source": [
    "### Property Prediction"
   ]
  },
  {
   "cell_type": "code",
   "execution_count": null,
   "id": "c0a8f03d-132f-4f16-bab3-61167a1773fb",
   "metadata": {
    "tags": []
   },
   "outputs": [],
   "source": [
    "%%capture --no-display\n",
    "\n",
    "n = 64\n",
    "\n",
    "fig, (ax0, ax1, ax2) = plt.subplots(1, 3, figsize=(12, 4))\n",
    "\n",
    "x, logp, qed, sas = testset.sample(n)\n",
    "z, _, _ = encoder(x)\n",
    "logp_hat, qed_hat, sas_hat = predictor(z)\n",
    "\n",
    "ax0.scatter(logp.detach(), logp_hat.detach(), s=1, alpha=0.5)\n",
    "ax0.set_xlim([-5, 5])\n",
    "ax0.set_ylim([-5, 5])\n",
    "ax0.set_title('logp')\n",
    "\n",
    "ax1.scatter(qed.detach(), qed_hat.detach(), s=1, alpha=0.5)\n",
    "ax1.set_xlim([0, 1])\n",
    "ax1.set_ylim([0, 1])\n",
    "ax1.set_title('qed')\n",
    "\n",
    "ax2.scatter(sas.detach(), sas_hat.detach(), s=1, alpha=0.5)\n",
    "ax2.set_xlim([0, 10])\n",
    "ax2.set_ylim([0, 10])\n",
    "ax2.set_title('sas')\n",
    "\n",
    "means, stds = get_latent_distributions(encoder, testset.hots)\n",
    "i = 0\n",
    "while i < n:\n",
    "    z = torch.normal(means, stds).unsqueeze(0)\n",
    "    smile = from_distribution(decoder(z))[0]\n",
    "    \n",
    "    mol = MolFromSmiles(smile)\n",
    "    if mol is not None:\n",
    "        logp, qed, sas = predictor(z)\n",
    "        logp_hat, qed_hat, sas_hat = LogP(mol), QED(mol), SAS(mol)\n",
    "        \n",
    "        ax0.scatter(float(logp), logp_hat, color='red', s=2)\n",
    "        ax1.scatter(float(qed), qed_hat, color='red', s=2)\n",
    "        ax2.scatter(float(sas), sas_hat, color='red', s=2)\n",
    "        \n",
    "        i += 1"
   ]
  },
  {
   "cell_type": "code",
   "execution_count": null,
   "id": "5aa0e7ed-27e3-417d-9f2c-01bf6e319b89",
   "metadata": {},
   "outputs": [],
   "source": []
  },
  {
   "cell_type": "markdown",
   "id": "f8a8e30a-55b7-4419-b923-02850772271a",
   "metadata": {},
   "source": [
    "### Diversity and Validity"
   ]
  },
  {
   "cell_type": "code",
   "execution_count": null,
   "id": "db70f510-c9d3-4d3e-9846-a680eb5f64fb",
   "metadata": {
    "tags": []
   },
   "outputs": [],
   "source": [
    "%%capture\n",
    "\n",
    "stds = [float(std) for std in list(stds)]\n",
    "\n",
    "dim1 = dims[0]\n",
    "dim1_n = 10\n",
    "\n",
    "dim2 = dims[3]\n",
    "dim2_n = 10\n",
    "\n",
    "x = testset.sample(1)\n",
    "sample_smile = from_hot(x, dataspec.alphabet)[0]\n",
    "print(sample_smile)\n",
    "z, _, _ = encoder(x)\n",
    "\n",
    "dim1_values = torch.arange(start=-stds[dim1], end=stds[dim1], step=(2*stds[dim1])/dim1_n) + z[:, dim1]\n",
    "dim2_values = torch.arange(start=-stds[dim2], end=stds[dim2], step=(2*stds[dim2])/dim2_n) + z[:, dim2]\n",
    "dim1_values = dim1_values.detach()\n",
    "dim2_values = dim2_values.detach()\n",
    "\n",
    "res = torch.empty((dim1_values.size(0), dim2_values.size(0)))\n",
    "\n",
    "for i, v1 in enumerate(dim1_values):\n",
    "    for j, v2 in enumerate(dim2_values):\n",
    "        z[:, dim1] = v1\n",
    "        z[:, dim2] = v2\n",
    "        \n",
    "        smile = from_hot(decoder(z), dataspec.alphabet)[0]\n",
    "\n",
    "        mol = MolFromSmiles(smile)\n",
    "        \n",
    "        if mol:\n",
    "            if smile == sample_smile: res[i, j] = 2\n",
    "            else: res[i, j] = 1\n",
    "        else:\n",
    "            res[i, j] = 0"
   ]
  },
  {
   "cell_type": "code",
   "execution_count": null,
   "id": "cfb6e507-2b49-40af-99cb-1d72db638682",
   "metadata": {
    "tags": []
   },
   "outputs": [],
   "source": [
    "%%capture\n",
    "\n",
    "smiles = set()\n",
    "invalid = 0\n",
    "\n",
    "n = 1000\n",
    "\n",
    "for i in range(n):\n",
    "    z = torch.normal(means, stds).unsqueeze(0)\n",
    "    x_hat = decoder(z)\n",
    "    smile = from_hot(x_hat, dataspec.alphabet)[0].replace('L', 'Cl')\n",
    "    \n",
    "    mol = MolFromSmiles(smile)\n",
    "    \n",
    "    if mol:\n",
    "        smile = MolToSmiles(mol)\n",
    "        smiles.add(smile)\n",
    "    else:\n",
    "        invalid += 1\n",
    "    \n",
    "    clear_output()"
   ]
  },
  {
   "cell_type": "code",
   "execution_count": null,
   "id": "8ebc25a3-a29d-4337-aa94-ec336426bddf",
   "metadata": {
    "tags": []
   },
   "outputs": [],
   "source": [
    "print('Diversity:\\t', len(smiles)/(n - invalid))\n",
    "print('Proportion Valid:\\t', 1 - invalid/n)"
   ]
  },
  {
   "cell_type": "markdown",
   "id": "cbe2d4ad-fcac-464e-a6ed-241cc4fe19be",
   "metadata": {},
   "source": [
    "### Latent Space Property Smoothness"
   ]
  },
  {
   "cell_type": "code",
   "execution_count": null,
   "id": "4a2cf7d4-d546-4811-be48-e6f825988b51",
   "metadata": {
    "tags": []
   },
   "outputs": [],
   "source": [
    "predictor.eval()\n",
    "\n",
    "z, _, _ = encoder(testset.sample(1))\n",
    "z = z.squeeze()\n",
    "\n",
    "dim = 0\n",
    "\n",
    "#interval = torch.randn(1000) * stds[dim] + means[dim]\n",
    "\n",
    "logps = []\n",
    "qeds = []\n",
    "sass = []\n",
    "\n",
    "mean = float(means[dim])\n",
    "std = float(stds[dim])\n",
    "\n",
    "interval = torch.arange(start=mean-3*std, end=mean+3*std, step=2*std/1000)\n",
    "\n",
    "for d in interval:\n",
    "    z[dim] = d\n",
    "\n",
    "    logp, qed, sas = predictor(z.unsqueeze(0))\n",
    "    \n",
    "    logps.append(float(logp))\n",
    "    qeds.append(float(qed))\n",
    "    sass.append(float(sas))\n",
    "\n",
    "fig, (ax0, ax1, ax2) = plt.subplots(3, 1, sharex=True)\n",
    "ax0.scatter(interval, logps, s=0.1)\n",
    "ax1.scatter(interval, qeds, s=0.1)\n",
    "ax2.scatter(interval, sass, s=0.1)"
   ]
  },
  {
   "cell_type": "code",
   "execution_count": null,
   "id": "76899699-c6bb-46d4-9506-e8268a6e9c1c",
   "metadata": {},
   "outputs": [],
   "source": []
  }
 ],
 "metadata": {
  "kernelspec": {
   "display_name": "Python 3 (ipykernel)",
   "language": "python",
   "name": "python3"
  },
  "language_info": {
   "codemirror_mode": {
    "name": "ipython",
    "version": 3
   },
   "file_extension": ".py",
   "mimetype": "text/x-python",
   "name": "python",
   "nbconvert_exporter": "python",
   "pygments_lexer": "ipython3",
   "version": "3.11.5"
  }
 },
 "nbformat": 4,
 "nbformat_minor": 5
}
