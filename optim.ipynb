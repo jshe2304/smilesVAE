{
 "cells": [
  {
   "cell_type": "markdown",
   "id": "28dcff94-3df8-4910-8f6b-4645ddacf416",
   "metadata": {
    "tags": []
   },
   "source": [
    "# Bayesian Optimization"
   ]
  },
  {
   "cell_type": "code",
   "execution_count": 1,
   "id": "a7d3f2ab-1bb3-4d60-b699-afca04e7005d",
   "metadata": {
    "tags": []
   },
   "outputs": [
    {
     "name": "stderr",
     "output_type": "stream",
     "text": [
      "/home/jshe/smiles_vae/env/lib/python3.11/site-packages/tqdm/auto.py:21: TqdmWarning: IProgress not found. Please update jupyter and ipywidgets. See https://ipywidgets.readthedocs.io/en/stable/user_install.html\n",
      "  from .autonotebook import tqdm as notebook_tqdm\n"
     ]
    }
   ],
   "source": [
    "from botorch.models import SingleTaskGP\n",
    "from gpytorch.mlls import ExactMarginalLogLikelihood\n",
    "from botorch.utils.transforms import normalize, unnormalize\n",
    "from botorch.models.transforms import Standardize, Normalize\n",
    "from botorch.optim import optimize_acqf\n",
    "from botorch.fit import fit_gpytorch_mll\n",
    "from botorch.acquisition.monte_carlo import qExpectedImprovement\n",
    "from botorch.sampling.normal import SobolQMCNormalSampler\n",
    "\n",
    "from utils import *\n",
    "from dataset import *\n",
    "from encoder import Encoder\n",
    "from decoder import DecodeNext, Decoder\n",
    "from predictor import Predictor\n",
    "\n",
    "from rdkit.Chem import MolFromSmiles\n",
    "\n",
    "\n",
    "from matplotlib import pyplot as plt\n",
    "\n",
    "import warnings\n",
    "warnings.filterwarnings(\"ignore\")\n",
    "%load_ext autoreload\n",
    "%autoreload 2"
   ]
  },
  {
   "cell_type": "markdown",
   "id": "5544bdfe-7ac1-444b-81de-1f08724234fa",
   "metadata": {},
   "source": [
    "### Models"
   ]
  },
  {
   "cell_type": "code",
   "execution_count": 2,
   "id": "66b93607-5e96-427e-bdd4-f48df11e5520",
   "metadata": {
    "tags": []
   },
   "outputs": [],
   "source": [
    "dataspec = fetch_params('./data/gdb13/spec.json')\n",
    "\n",
    "encoder = torch.load('run9/encoder.pth')\n",
    "decoder = torch.load('run9/decoder.pth')\n",
    "decoder.smile_len = dataspec.smile_len\n",
    "decoder.alphabet = dataspec.alphabet\n",
    "decoder.stoi = dataspec.stoi\n",
    "predictor = torch.load('run9/predictor.pth')\n",
    "\n",
    "L = 256 # Latent dimensions"
   ]
  },
  {
   "cell_type": "markdown",
   "id": "8d8a474f-086c-4f98-944e-a520350c5ce4",
   "metadata": {},
   "source": [
    "### Data"
   ]
  },
  {
   "cell_type": "code",
   "execution_count": 3,
   "id": "229ad950-9b1b-4de2-9ec6-3a9222f83554",
   "metadata": {
    "tags": []
   },
   "outputs": [],
   "source": [
    "trainset, testset = make_data('./data/gdb13', n=1000)\n",
    "\n",
    "means, stds = get_latent_distributions(encoder, testset.hots)\n",
    "uncompressed_dims = [i for i, std in enumerate(stds) if std > 0.1]\n",
    "\n",
    "compressed_means = means[uncompressed_dims]\n",
    "compressed_stds = stds[uncompressed_dims]\n",
    "\n",
    "bounds = torch.cat((\n",
    "    (compressed_means + 2 * compressed_stds).unsqueeze(0), \n",
    "    (compressed_means - 2 * compressed_stds).unsqueeze(0)\n",
    "))"
   ]
  },
  {
   "cell_type": "markdown",
   "id": "9544e28e-acf9-4029-8041-bfd4275f2b6b",
   "metadata": {},
   "source": [
    "## Optimization"
   ]
  },
  {
   "cell_type": "markdown",
   "id": "47bb3173-80db-4c75-aa43-95e5fc95c542",
   "metadata": {},
   "source": [
    "### Objective Function"
   ]
  },
  {
   "cell_type": "code",
   "execution_count": 4,
   "id": "cb47ff69-decf-44a3-afbe-13fbecb504c7",
   "metadata": {
    "tags": []
   },
   "outputs": [],
   "source": [
    "def score(z, compressed=True):\n",
    "    # Decompress from only critical dimensions to full latent vector\n",
    "    if compressed:\n",
    "        z = decompress(z, uncompressed_dims, L)\n",
    "\n",
    "    logp, qed, sas = predictor(z)\n",
    "    \n",
    "    return 5 * qed - sas"
   ]
  },
  {
   "cell_type": "markdown",
   "id": "3e59f63f-1865-4f48-a2d5-ab96d7ccfb38",
   "metadata": {},
   "source": [
    "### Get Initial Sample"
   ]
  },
  {
   "cell_type": "code",
   "execution_count": 5,
   "id": "38cf7ce4-f9a5-4361-9147-2a0a91a294b5",
   "metadata": {
    "tags": []
   },
   "outputs": [],
   "source": [
    "def get_sample(n=10):\n",
    "    # Grid sample\n",
    "    z = unnormalize(\n",
    "        torch.rand(n, len(uncompressed_dims), dtype=torch.float32), \n",
    "        bounds=bounds # Bounds specified by dimension statistics\n",
    "    )\n",
    "    \n",
    "    scores = score(z)\n",
    "    best_score = scores.max().item()\n",
    "    \n",
    "    return z, scores"
   ]
  },
  {
   "cell_type": "markdown",
   "id": "76590d29-d709-4a38-ac78-5c9c04ce3d5d",
   "metadata": {},
   "source": [
    "### Surrogate Model"
   ]
  },
  {
   "cell_type": "code",
   "execution_count": 6,
   "id": "ec7f6fd3-2945-415a-b249-ceb3244a3f68",
   "metadata": {
    "tags": []
   },
   "outputs": [],
   "source": [
    "def fit_surrogate(x, scores, state_dict=None):\n",
    "    \n",
    "    # Define Gaussian Process Surrogate Model\n",
    "    model = SingleTaskGP(\n",
    "        train_X=normalize(x, bounds).detach(), \n",
    "        train_Y=scores.detach()\n",
    "    )\n",
    "    \n",
    "    if state_dict is not None:\n",
    "        model.load_state_dict(state_dict)\n",
    "\n",
    "    # Optimize on Data\n",
    "    mll = ExactMarginalLogLikelihood(model.likelihood, model).to(x)\n",
    "    fit_gpytorch_mll(mll)\n",
    "    \n",
    "    return model"
   ]
  },
  {
   "cell_type": "markdown",
   "id": "c437d507-fd63-4dcb-a868-e4a817da8292",
   "metadata": {},
   "source": [
    "### Acquisition Function"
   ]
  },
  {
   "cell_type": "code",
   "execution_count": 7,
   "id": "37390fa8-5da0-4997-8647-d90a9d88df15",
   "metadata": {
    "tags": []
   },
   "outputs": [],
   "source": [
    "def get_candidates(acq_func):\n",
    "    # Optimize Acquisition Function on Normalized Bounds\n",
    "    candidates, _ = optimize_acqf(\n",
    "        acq_function=acq_func,\n",
    "        bounds=torch.stack([\n",
    "            torch.zeros(len(uncompressed_dims)),\n",
    "            torch.ones(len(uncompressed_dims)),\n",
    "        ]),\n",
    "        q=10, \n",
    "        num_restarts=10,\n",
    "        raw_samples=256,\n",
    "    )\n",
    "    \n",
    "    # Unnormalize and Score\n",
    "    x = unnormalize(candidates.detach(), bounds=bounds)\n",
    "    y = score(x)\n",
    "    \n",
    "    return x, y"
   ]
  },
  {
   "cell_type": "markdown",
   "id": "18e1240b-a092-4388-ba87-9a21ab6b7077",
   "metadata": {},
   "source": [
    "### Optimization Loop"
   ]
  },
  {
   "cell_type": "code",
   "execution_count": 8,
   "id": "431286c1-21ea-482d-9f19-ca02bf87dfed",
   "metadata": {
    "tags": []
   },
   "outputs": [
    {
     "name": "stdout",
     "output_type": "stream",
     "text": [
      "\n",
      "Running BO................................................................Done\n"
     ]
    }
   ],
   "source": [
    "# Best candidate from each iteration\n",
    "candidates = []\n",
    "\n",
    "# Initial Sample\n",
    "x, scores = get_sample(n=5)\n",
    "candidates.append(x[torch.argmax(scores)])\n",
    "\n",
    "state_dict = None\n",
    "\n",
    "print(f\"\\nRunning BO\", end=\"\")\n",
    "for iteration in range(64):\n",
    "    \n",
    "    # Get new surrogate model\n",
    "    surrogate = fit_surrogate(x, scores, state_dict)\n",
    "\n",
    "    # Get new candidates\n",
    "    acq_function = qExpectedImprovement(\n",
    "        model=surrogate, best_f=scores.max()\n",
    "    )\n",
    "    new_x, new_scores = get_candidates(acq_function)\n",
    "    \n",
    "    # Add new candidates to list of past candidates\n",
    "    x = torch.cat((x, new_x))\n",
    "    scores = torch.cat((scores, new_scores))\n",
    "    \n",
    "    # Check for new best\n",
    "    best = x[torch.argmax(scores)]\n",
    "    candidates.append(best)\n",
    "\n",
    "    state_dict = surrogate.state_dict()\n",
    "\n",
    "    print(\".\", end=\"\")\n",
    "\n",
    "print(\"Done\")"
   ]
  },
  {
   "cell_type": "code",
   "execution_count": null,
   "id": "7644cc19-4925-40fe-a779-1216a25e07f4",
   "metadata": {
    "tags": []
   },
   "outputs": [],
   "source": [
    "valid_candidates = []\n",
    "\n",
    "for candidate in candidates:\n",
    "    \n",
    "    z = decompress(candidate, uncompressed_dims, L)\n",
    "    \n",
    "    for i in range(32):\n",
    "        noised_z = z + 0.005 * torch.randn(L).unsqueeze(0)\n",
    "        \n",
    "        x_hat = decoder(noised_z)\n",
    "        \n",
    "        smile = from_hot(x_hat, dataspec.alphabet)[0].replace('L', 'Cl')\n",
    "        \n",
    "        mol = MolFromSmiles(smile)\n",
    "        \n",
    "        if mol:\n",
    "            valid_candidates.append((smile, float(score(noised_z, compressed=False))))\n",
    "            continue"
   ]
  },
  {
   "cell_type": "code",
   "execution_count": 13,
   "id": "62650809-05ef-4367-ace4-8c9931169c0c",
   "metadata": {
    "tags": []
   },
   "outputs": [
    {
     "name": "stdout",
     "output_type": "stream",
     "text": [
      "ClC1=CC=CCCC=C1CN=NO \t 3.3780176639556885\n",
      "OC1CCCCCN2C1=SN=CS2 \t 0.5567731857299805\n",
      "ClC1=CC=CNC2=C1SN=C2 \t 2.152163028717041\n",
      "ClC1=CC=CCC2=C1CN=C2 \t 2.690091609954834\n",
      "OC1CCCCCN2C1=CN=CS2 \t 0.5556225776672363\n",
      "ClC1=CC=CCC2=C1SN=C2 \t 2.6932640075683594\n",
      "ClC1=CC=CCCC=C1CC=NO \t 3.381655693054199\n"
     ]
    }
   ],
   "source": [
    "candidate_smiles = set(smile for smile, score in valid_candidates)\n",
    "\n",
    "for candidate in candidate_smiles:\n",
    "    for smile, score in valid_candidates:\n",
    "        if smile == candidate:\n",
    "            print(smile, '\\t', score)\n",
    "            break"
   ]
  },
  {
   "cell_type": "code",
   "execution_count": 14,
   "id": "071e52bc-1e50-46aa-aaa3-87f3d33bcf15",
   "metadata": {
    "tags": []
   },
   "outputs": [
    {
     "data": {
      "image/png": "[encoded data removed]",
      "text/plain": [
       "<rdkit.Chem.rdchem.Mol at 0x7fbdc191ace0>"
      ]
     },
     "execution_count": 14,
     "metadata": {},
     "output_type": "execute_result"
    }
   ],
   "source": [
    "MolFromSmiles('ClC1=CC=CCCC=C1CC=NO')"
   ]
  },
  {
   "cell_type": "code",
   "execution_count": 15,
   "id": "1a2c67f4-b22b-483a-9df7-f663615811de",
   "metadata": {
    "tags": []
   },
   "outputs": [
    {
     "data": {
      "image/png": "[encoded data removed]",
      "text/plain": [
       "<rdkit.Chem.rdchem.Mol at 0x7fbdc191a570>"
      ]
     },
     "execution_count": 15,
     "metadata": {},
     "output_type": "execute_result"
    }
   ],
   "source": [
    "MolFromSmiles('ClC1=CC=CCCC=C1CN=NO')"
   ]
  },
  {
   "cell_type": "code",
   "execution_count": null,
   "id": "5d5d2bb5-79bb-47da-a51a-90299cc99fdf",
   "metadata": {},
   "outputs": [],
   "source": []
  }
 ],
 "metadata": {
  "kernelspec": {
   "display_name": "Python 3 (ipykernel)",
   "language": "python",
   "name": "python3"
  },
  "language_info": {
   "codemirror_mode": {
    "name": "ipython",
    "version": 3
   },
   "file_extension": ".py",
   "mimetype": "text/x-python",
   "name": "python",
   "nbconvert_exporter": "python",
   "pygments_lexer": "ipython3",
   "version": "3.11.5"
  }
 },
 "nbformat": 4,
 "nbformat_minor": 5
}
