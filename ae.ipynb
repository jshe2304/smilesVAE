{
 "cells": [
  {
   "cell_type": "code",
   "execution_count": 1,
   "id": "31a54e9b-fa99-41a4-a20c-f51a562d7dd9",
   "metadata": {
    "tags": []
   },
   "outputs": [],
   "source": [
    "import torch\n",
    "import torch.nn as nn\n",
    "import torch.nn.functional as F\n",
    "import torch.optim as optim\n",
    "from torch.utils.data import DataLoader\n",
    "\n",
    "import matplotlib.pyplot as plt\n",
    "import numpy as np\n",
    "import pandas as pd\n",
    "\n",
    "import time\n",
    "import os\n",
    "import random\n",
    "\n",
    "from utils import *\n",
    "from encoder import Encoder\n",
    "from decoder import DecodeNext, Decoder\n",
    "\n",
    "%load_ext autoreload\n",
    "%autoreload 2\n",
    "\n",
    "# KL Divergence\n",
    "# Noise for variational autoencoder\n",
    "# larger training set"
   ]
  },
  {
   "cell_type": "markdown",
   "id": "d35b48d8-6721-45ed-b02b-cfc930beca36",
   "metadata": {},
   "source": [
    "### Data & Model Parameters"
   ]
  },
  {
   "cell_type": "code",
   "execution_count": 2,
   "id": "0502c3c8-8d00-4168-944e-b97398dba0e5",
   "metadata": {
    "tags": []
   },
   "outputs": [],
   "source": [
    "smiles = list(fetch_smiles_gdb13('./data/gdb13/')[0])"
   ]
  },
  {
   "cell_type": "code",
   "execution_count": 3,
   "id": "fb0dadff-a3a2-4e62-aaef-fa3ee61ef1c0",
   "metadata": {
    "tags": []
   },
   "outputs": [],
   "source": [
    "params = make_params(smiles=smiles, GRU_HIDDEN_DIM=256, LATENT_DIM=128, to_file='gdb13_params.json')\n",
    "#params = make_params(from_file='gdb13_params.json')"
   ]
  },
  {
   "cell_type": "code",
   "execution_count": 4,
   "id": "d8d5af9c-9dd9-4146-af19-c3526b9745b3",
   "metadata": {
    "tags": []
   },
   "outputs": [
    {
     "name": "stdout",
     "output_type": "stream",
     "text": [
      "total_n = 100000\n",
      "train_n = 100000\n",
      "test_n = 0\n"
     ]
    }
   ],
   "source": [
    "total_n = 100000\n",
    "train_n = 100000\n",
    "test_n = total_n - train_n\n",
    "\n",
    "one_hots = to_one_hot(random.sample(smiles, total_n), params)\n",
    "\n",
    "train_dataloader = DataLoader(one_hots[:train_n], batch_size=32, shuffle=True)\n",
    "#test_dataloader = DataLoader(one_hots[train_n:], batch_size=5, shuffle=True)\n",
    "\n",
    "print(f'total_n = {total_n}')\n",
    "print(f'train_n = {train_n}')\n",
    "print(f'test_n = {test_n}')"
   ]
  },
  {
   "cell_type": "markdown",
   "id": "a5af90e7-e697-4a7d-8267-397ec07f8e01",
   "metadata": {},
   "source": [
    "### Model"
   ]
  },
  {
   "cell_type": "code",
   "execution_count": 5,
   "id": "448dd116-efbd-48c4-b88b-fe3c1dcbe967",
   "metadata": {
    "tags": []
   },
   "outputs": [],
   "source": [
    "encoder = Encoder(params)\n",
    "decoder = Decoder(params)"
   ]
  },
  {
   "cell_type": "code",
   "execution_count": 6,
   "id": "1e64e725-0e16-4fba-8afa-6020018896fe",
   "metadata": {
    "tags": []
   },
   "outputs": [],
   "source": [
    "#encoder.load_state_dict(torch.load('encoder_weights.pth'))\n",
    "#decoder.load_state_dict(torch.load('decoder_weights.pth'))"
   ]
  },
  {
   "cell_type": "markdown",
   "id": "ed4473a9-fe6a-40e3-8861-49787af4901c",
   "metadata": {
    "tags": []
   },
   "source": [
    "### Train"
   ]
  },
  {
   "cell_type": "code",
   "execution_count": 7,
   "id": "d50f6ffe-2ccd-4e0b-ab0f-3d571d65c0fd",
   "metadata": {
    "tags": []
   },
   "outputs": [],
   "source": [
    "LR = 0.0001\n",
    "EPOCHS = 3"
   ]
  },
  {
   "cell_type": "code",
   "execution_count": 8,
   "id": "f8f4c48e-4b4f-44de-8280-c4538ee4cfa6",
   "metadata": {
    "tags": []
   },
   "outputs": [],
   "source": [
    "encoder_optimizer = optim.Adam(encoder.parameters(), lr=LR)\n",
    "decoder_optimizer = optim.Adam(decoder.parameters(), lr=LR)\n",
    "\n",
    "encoder.train()\n",
    "decoder.train()\n",
    "\n",
    "# Losses\n",
    "\n",
    "CE_loss = nn.CrossEntropyLoss()\n",
    "\n",
    "KL_divergence = lambda z_mean, z_logvar : -0.5 * torch.sum(1 + z_logvar - z_mean ** 2 - torch.exp(z_logvar))\n",
    "\n",
    "# Training Loop\n",
    "\n",
    "losses = []\n",
    "\n",
    "for epoch_n in range(EPOCHS):\n",
    "    for x in train_dataloader:\n",
    "        \n",
    "        # x.shape = (N, L, C)\n",
    "        \n",
    "        encoder_optimizer.zero_grad()\n",
    "        decoder_optimizer.zero_grad()\n",
    "        \n",
    "        z_mean, z_logvar, z = encoder(x)\n",
    "        \n",
    "        y = decoder(z, target=x)\n",
    "        \n",
    "        loss = CE_loss(y.transpose(1, 2), torch.argmax(x, dim=2)) + \\\n",
    "               KL_divergence(z_mean, z_logvar) * 0.01\n",
    "        \n",
    "        losses.append(float(loss))\n",
    "        \n",
    "        loss.backward()\n",
    "        \n",
    "        encoder_optimizer.step()\n",
    "        decoder_optimizer.step()\n",
    "        \n",
    "torch.save(encoder.state_dict(), 'encoder_weights.pth')\n",
    "torch.save(decoder.state_dict(), 'decoder_weights.pth')"
   ]
  },
  {
   "cell_type": "code",
   "execution_count": 9,
   "id": "60be97bf-56ed-495a-bf17-2fbba02d660b",
   "metadata": {
    "tags": []
   },
   "outputs": [
    {
     "data": {
      "text/plain": [
       "[<matplotlib.lines.Line2D at 0x7fb429d67090>]"
      ]
     },
     "execution_count": 9,
     "metadata": {},
     "output_type": "execute_result"
    },
    {
     "data": {
      "image/png": "[encoded data removed]",
      "text/plain": [
       "<Figure size 640x480 with 1 Axes>"
      ]
     },
     "metadata": {},
     "output_type": "display_data"
    }
   ],
   "source": [
    "plt.plot(losses)"
   ]
  },
  {
   "cell_type": "markdown",
   "id": "c03e54ee-e95d-472a-a8f9-36ad587fb6ee",
   "metadata": {},
   "source": [
    "## Test"
   ]
  },
  {
   "cell_type": "code",
   "execution_count": 10,
   "id": "5b7067bd-1055-4927-9f61-6d4355e4c8cb",
   "metadata": {
    "tags": []
   },
   "outputs": [
    {
     "name": "stdout",
     "output_type": "stream",
     "text": [
      "mean token matching: 0.3771750330924988\n",
      "\n",
      "['C1C2CCOC1C1[NH+]=CNCCC21', '[NH3+]C1CCC2C3CCC2(CCO3)C1', 'OC1C2CCC3C1C1CCCC23[NH2+]1', 'C1OC2OC3CC2C1C1=C3OC=N1', 'ClC1=C2CCOC2=NC2=C1N=CS2', 'C1[NH2+]C2C3CC11OC(C3)CCNC21', 'OC12CCC3CCC1C(=O)NC3C2', '[NH3+]C1CCN2C3CC4OCC3CC124', '[CH-]1C2=CON=C2C2=C1C=NS2', 'C1CC2=C(C1)C1=C(NC=N1)O2']\n",
      "['OHH]1=C1=4C[[[4[HHH]21=NH)]C2', '', ']]22', '', 'H]]', 'H+]2=C=4+]', '', 'CHH]1=C=CCCCCCCCCCCCCCCCCCCCC[[[[[HH', '', '']\n"
     ]
    }
   ],
   "source": [
    "evaluate_ae(encoder, decoder, smiles, 1000, params=params)"
   ]
  }
 ],
 "metadata": {
  "kernelspec": {
   "display_name": "Python 3 (ipykernel)",
   "language": "python",
   "name": "python3"
  },
  "language_info": {
   "codemirror_mode": {
    "name": "ipython",
    "version": 3
   },
   "file_extension": ".py",
   "mimetype": "text/x-python",
   "name": "python",
   "nbconvert_exporter": "python",
   "pygments_lexer": "ipython3",
   "version": "3.11.5"
  }
 },
 "nbformat": 4,
 "nbformat_minor": 5
}
