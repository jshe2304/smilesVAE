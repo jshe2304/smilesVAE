{
 "cells": [
  {
   "cell_type": "code",
   "execution_count": 1,
   "id": "31a54e9b-fa99-41a4-a20c-f51a562d7dd9",
   "metadata": {
    "tags": []
   },
   "outputs": [],
   "source": [
    "import torch\n",
    "import torch.nn as nn\n",
    "import torch.nn.functional as F\n",
    "import torch.optim as optim\n",
    "from torch.utils.data import DataLoader\n",
    "\n",
    "import matplotlib.pyplot as plt\n",
    "import numpy as np\n",
    "import pandas as pd\n",
    "\n",
    "import time\n",
    "import os\n",
    "import random\n",
    "\n",
    "from utils import *\n",
    "from encoder import Encoder\n",
    "from decoder import DecodeNext, Decoder\n",
    "\n",
    "%load_ext autoreload\n",
    "%autoreload 2"
   ]
  },
  {
   "cell_type": "markdown",
   "id": "d35b48d8-6721-45ed-b02b-cfc930beca36",
   "metadata": {},
   "source": [
    "### Data & Model Parameters"
   ]
  },
  {
   "cell_type": "code",
   "execution_count": 2,
   "id": "0502c3c8-8d00-4168-944e-b97398dba0e5",
   "metadata": {
    "tags": []
   },
   "outputs": [],
   "source": [
    "smiles = list(fetch_smiles_gdb13('./data/gdb13/')[0])"
   ]
  },
  {
   "cell_type": "code",
   "execution_count": 3,
   "id": "fb0dadff-a3a2-4e62-aaef-fa3ee61ef1c0",
   "metadata": {
    "tags": []
   },
   "outputs": [],
   "source": [
    "params = make_params(smiles=smiles, GRU_HIDDEN_DIM=256, LATENT_DIM=128, to_file='gdb13_params.json')\n",
    "#params = make_params(from_file='gdb13_params.json')"
   ]
  },
  {
   "cell_type": "code",
   "execution_count": 4,
   "id": "d8d5af9c-9dd9-4146-af19-c3526b9745b3",
   "metadata": {
    "tags": []
   },
   "outputs": [
    {
     "name": "stdout",
     "output_type": "stream",
     "text": [
      "total_n = 100000\n",
      "train_n = 100000\n",
      "test_n = 0\n"
     ]
    }
   ],
   "source": [
    "total_n = 100000\n",
    "train_n = 100000\n",
    "test_n = total_n - train_n\n",
    "\n",
    "one_hots = to_one_hot(random.sample(smiles, total_n), params)\n",
    "\n",
    "train_dataloader = DataLoader(one_hots[:train_n], batch_size=10, shuffle=True)\n",
    "#test_dataloader = DataLoader(one_hots[train_n:], batch_size=5, shuffle=True)\n",
    "\n",
    "print(f'total_n = {total_n}')\n",
    "print(f'train_n = {train_n}')\n",
    "print(f'test_n = {test_n}')"
   ]
  },
  {
   "cell_type": "markdown",
   "id": "a5af90e7-e697-4a7d-8267-397ec07f8e01",
   "metadata": {},
   "source": [
    "### Model"
   ]
  },
  {
   "cell_type": "code",
   "execution_count": 5,
   "id": "448dd116-efbd-48c4-b88b-fe3c1dcbe967",
   "metadata": {
    "tags": []
   },
   "outputs": [],
   "source": [
    "encoder = Encoder(params)\n",
    "decoder = Decoder(params)"
   ]
  },
  {
   "cell_type": "code",
   "execution_count": 6,
   "id": "1e64e725-0e16-4fba-8afa-6020018896fe",
   "metadata": {
    "tags": []
   },
   "outputs": [],
   "source": [
    "#encoder.load_state_dict(torch.load('encoder_weights.pth'))\n",
    "#decoder.load_state_dict(torch.load('decoder_weights.pth'))"
   ]
  },
  {
   "cell_type": "markdown",
   "id": "ed4473a9-fe6a-40e3-8861-49787af4901c",
   "metadata": {
    "tags": []
   },
   "source": [
    "### Train"
   ]
  },
  {
   "cell_type": "code",
   "execution_count": 7,
   "id": "d50f6ffe-2ccd-4e0b-ab0f-3d571d65c0fd",
   "metadata": {
    "tags": []
   },
   "outputs": [],
   "source": [
    "LR = 0.0001\n",
    "EPOCHS = 3"
   ]
  },
  {
   "cell_type": "code",
   "execution_count": 8,
   "id": "f8f4c48e-4b4f-44de-8280-c4538ee4cfa6",
   "metadata": {},
   "outputs": [],
   "source": [
    "encoder_optimizer = optim.Adam(encoder.parameters(), lr=LR)\n",
    "decoder_optimizer = optim.Adam(decoder.parameters(), lr=LR)\n",
    "\n",
    "criterion = nn.CrossEntropyLoss()\n",
    "\n",
    "losses = []\n",
    "\n",
    "encoder.train()\n",
    "decoder.train()\n",
    "\n",
    "for epoch_n in range(EPOCHS):\n",
    "    for x in train_dataloader:\n",
    "        \n",
    "        # x.shape = (N, L, C)\n",
    "        \n",
    "        encoder_optimizer.zero_grad()\n",
    "        decoder_optimizer.zero_grad()\n",
    "        \n",
    "        latents = encoder(x)\n",
    "        \n",
    "        y = decoder(latents, target=x)\n",
    "        \n",
    "        loss = criterion(y.transpose(1, 2), torch.argmax(x, dim=2))\n",
    "\n",
    "        losses.append(float(loss))\n",
    "        \n",
    "        loss.backward()\n",
    "        \n",
    "        encoder_optimizer.step()\n",
    "        decoder_optimizer.step()\n",
    "        \n",
    "torch.save(encoder.state_dict(), 'encoder_weights.pth')\n",
    "torch.save(decoder.state_dict(), 'decoder_weights.pth')"
   ]
  },
  {
   "cell_type": "code",
   "execution_count": 9,
   "id": "60be97bf-56ed-495a-bf17-2fbba02d660b",
   "metadata": {
    "tags": []
   },
   "outputs": [
    {
     "data": {
      "text/plain": [
       "[<matplotlib.lines.Line2D at 0x7fad07d69f90>]"
      ]
     },
     "execution_count": 9,
     "metadata": {},
     "output_type": "execute_result"
    },
    {
     "data": {
      "image/png": "[encoded data removed]",
      "text/plain": [
       "<Figure size 640x480 with 1 Axes>"
      ]
     },
     "metadata": {},
     "output_type": "display_data"
    }
   ],
   "source": [
    "plt.plot(losses)"
   ]
  },
  {
   "cell_type": "markdown",
   "id": "c03e54ee-e95d-472a-a8f9-36ad587fb6ee",
   "metadata": {},
   "source": [
    "## Test"
   ]
  },
  {
   "cell_type": "code",
   "execution_count": 11,
   "id": "5b7067bd-1055-4927-9f61-6d4355e4c8cb",
   "metadata": {
    "tags": []
   },
   "outputs": [
    {
     "name": "stdout",
     "output_type": "stream",
     "text": [
      "torch.Size([1000, 128])\n"
     ]
    },
    {
     "ename": "RuntimeError",
     "evalue": "For unbatched 2-D input, hx should also be 2-D but got 3-D tensor",
     "output_type": "error",
     "traceback": [
      "\u001b[0;31m---------------------------------------------------------------------------\u001b[0m",
      "\u001b[0;31mRuntimeError\u001b[0m                              Traceback (most recent call last)",
      "Cell \u001b[0;32mIn[11], line 1\u001b[0m\n\u001b[0;32m----> 1\u001b[0m evaluate_ae(encoder, decoder, smiles, \u001b[38;5;241m1000\u001b[39m, params\u001b[38;5;241m=\u001b[39mparams)\n",
      "File \u001b[0;32m~/smiles_vae/utils.py:134\u001b[0m, in \u001b[0;36mevaluate_ae\u001b[0;34m(encoder, decoder, smiles, eval_n, params)\u001b[0m\n\u001b[1;32m    130\u001b[0m latents \u001b[38;5;241m=\u001b[39m encoder(x)\n\u001b[1;32m    132\u001b[0m \u001b[38;5;28mprint\u001b[39m(latents\u001b[38;5;241m.\u001b[39mshape)\n\u001b[0;32m--> 134\u001b[0m y \u001b[38;5;241m=\u001b[39m decoder(latents)\n\u001b[1;32m    136\u001b[0m \u001b[38;5;28mprint\u001b[39m(\u001b[38;5;124mf\u001b[39m\u001b[38;5;124m\"\u001b[39m\u001b[38;5;124mmean token matching: \u001b[39m\u001b[38;5;132;01m{\u001b[39;00mmean_similarity(x,\u001b[38;5;250m \u001b[39my)\u001b[38;5;132;01m}\u001b[39;00m\u001b[38;5;130;01m\\n\u001b[39;00m\u001b[38;5;124m\"\u001b[39m)\n\u001b[1;32m    138\u001b[0m \u001b[38;5;28;01mfor\u001b[39;00m smile \u001b[38;5;129;01min\u001b[39;00m random\u001b[38;5;241m.\u001b[39msample(smiles, \u001b[38;5;241m10\u001b[39m):\n",
      "File \u001b[0;32m~/smiles_vae/env/lib/python3.11/site-packages/torch/nn/modules/module.py:1501\u001b[0m, in \u001b[0;36mModule._call_impl\u001b[0;34m(self, *args, **kwargs)\u001b[0m\n\u001b[1;32m   1496\u001b[0m \u001b[38;5;66;03m# If we don't have any hooks, we want to skip the rest of the logic in\u001b[39;00m\n\u001b[1;32m   1497\u001b[0m \u001b[38;5;66;03m# this function, and just call forward.\u001b[39;00m\n\u001b[1;32m   1498\u001b[0m \u001b[38;5;28;01mif\u001b[39;00m \u001b[38;5;129;01mnot\u001b[39;00m (\u001b[38;5;28mself\u001b[39m\u001b[38;5;241m.\u001b[39m_backward_hooks \u001b[38;5;129;01mor\u001b[39;00m \u001b[38;5;28mself\u001b[39m\u001b[38;5;241m.\u001b[39m_backward_pre_hooks \u001b[38;5;129;01mor\u001b[39;00m \u001b[38;5;28mself\u001b[39m\u001b[38;5;241m.\u001b[39m_forward_hooks \u001b[38;5;129;01mor\u001b[39;00m \u001b[38;5;28mself\u001b[39m\u001b[38;5;241m.\u001b[39m_forward_pre_hooks\n\u001b[1;32m   1499\u001b[0m         \u001b[38;5;129;01mor\u001b[39;00m _global_backward_pre_hooks \u001b[38;5;129;01mor\u001b[39;00m _global_backward_hooks\n\u001b[1;32m   1500\u001b[0m         \u001b[38;5;129;01mor\u001b[39;00m _global_forward_hooks \u001b[38;5;129;01mor\u001b[39;00m _global_forward_pre_hooks):\n\u001b[0;32m-> 1501\u001b[0m     \u001b[38;5;28;01mreturn\u001b[39;00m forward_call(\u001b[38;5;241m*\u001b[39margs, \u001b[38;5;241m*\u001b[39m\u001b[38;5;241m*\u001b[39mkwargs)\n\u001b[1;32m   1502\u001b[0m \u001b[38;5;66;03m# Do not call functions when jit is used\u001b[39;00m\n\u001b[1;32m   1503\u001b[0m full_backward_hooks, non_full_backward_hooks \u001b[38;5;241m=\u001b[39m [], []\n",
      "File \u001b[0;32m~/smiles_vae/decoder.py:106\u001b[0m, in \u001b[0;36mDecoder.forward\u001b[0;34m(self, latent, target)\u001b[0m\n\u001b[1;32m    102\u001b[0m y[:, \u001b[38;5;241m0\u001b[39m, :] \u001b[38;5;241m=\u001b[39m inp\u001b[38;5;241m.\u001b[39msqueeze()\n\u001b[1;32m    104\u001b[0m \u001b[38;5;28;01mfor\u001b[39;00m i \u001b[38;5;129;01min\u001b[39;00m \u001b[38;5;28mrange\u001b[39m(\u001b[38;5;241m1\u001b[39m, \u001b[38;5;28mself\u001b[39m\u001b[38;5;241m.\u001b[39mparams\u001b[38;5;241m.\u001b[39mSMILE_LEN):\n\u001b[0;32m--> 106\u001b[0m     prediction, hidden \u001b[38;5;241m=\u001b[39m \u001b[38;5;28mself\u001b[39m\u001b[38;5;241m.\u001b[39mdecode_next(inp, hidden)\n\u001b[1;32m    108\u001b[0m     y[:, i, :] \u001b[38;5;241m=\u001b[39m prediction\u001b[38;5;241m.\u001b[39msqueeze()\n\u001b[1;32m    110\u001b[0m     \u001b[38;5;28;01mif\u001b[39;00m target \u001b[38;5;241m!=\u001b[39m \u001b[38;5;28;01mNone\u001b[39;00m:\n",
      "File \u001b[0;32m~/smiles_vae/env/lib/python3.11/site-packages/torch/nn/modules/module.py:1501\u001b[0m, in \u001b[0;36mModule._call_impl\u001b[0;34m(self, *args, **kwargs)\u001b[0m\n\u001b[1;32m   1496\u001b[0m \u001b[38;5;66;03m# If we don't have any hooks, we want to skip the rest of the logic in\u001b[39;00m\n\u001b[1;32m   1497\u001b[0m \u001b[38;5;66;03m# this function, and just call forward.\u001b[39;00m\n\u001b[1;32m   1498\u001b[0m \u001b[38;5;28;01mif\u001b[39;00m \u001b[38;5;129;01mnot\u001b[39;00m (\u001b[38;5;28mself\u001b[39m\u001b[38;5;241m.\u001b[39m_backward_hooks \u001b[38;5;129;01mor\u001b[39;00m \u001b[38;5;28mself\u001b[39m\u001b[38;5;241m.\u001b[39m_backward_pre_hooks \u001b[38;5;129;01mor\u001b[39;00m \u001b[38;5;28mself\u001b[39m\u001b[38;5;241m.\u001b[39m_forward_hooks \u001b[38;5;129;01mor\u001b[39;00m \u001b[38;5;28mself\u001b[39m\u001b[38;5;241m.\u001b[39m_forward_pre_hooks\n\u001b[1;32m   1499\u001b[0m         \u001b[38;5;129;01mor\u001b[39;00m _global_backward_pre_hooks \u001b[38;5;129;01mor\u001b[39;00m _global_backward_hooks\n\u001b[1;32m   1500\u001b[0m         \u001b[38;5;129;01mor\u001b[39;00m _global_forward_hooks \u001b[38;5;129;01mor\u001b[39;00m _global_forward_pre_hooks):\n\u001b[0;32m-> 1501\u001b[0m     \u001b[38;5;28;01mreturn\u001b[39;00m forward_call(\u001b[38;5;241m*\u001b[39margs, \u001b[38;5;241m*\u001b[39m\u001b[38;5;241m*\u001b[39mkwargs)\n\u001b[1;32m   1502\u001b[0m \u001b[38;5;66;03m# Do not call functions when jit is used\u001b[39;00m\n\u001b[1;32m   1503\u001b[0m full_backward_hooks, non_full_backward_hooks \u001b[38;5;241m=\u001b[39m [], []\n",
      "File \u001b[0;32m~/smiles_vae/decoder.py:44\u001b[0m, in \u001b[0;36mDecodeNext.forward\u001b[0;34m(self, inp, hidden)\u001b[0m\n\u001b[1;32m     41\u001b[0m \u001b[38;5;28;01mdef\u001b[39;00m \u001b[38;5;21mforward\u001b[39m(\u001b[38;5;28mself\u001b[39m, inp, hidden):\n\u001b[1;32m     42\u001b[0m     \u001b[38;5;66;03m# inp shape: (N, L, H_in) (10, 1, 21)\u001b[39;00m\n\u001b[1;32m     43\u001b[0m     \u001b[38;5;66;03m# hidden shape: (D * num_layers, N, H_out) (1, 10, 256)\u001b[39;00m\n\u001b[0;32m---> 44\u001b[0m     out, hidden \u001b[38;5;241m=\u001b[39m \u001b[38;5;28mself\u001b[39m\u001b[38;5;241m.\u001b[39mgru(inp, hidden)\n\u001b[1;32m     45\u001b[0m     \u001b[38;5;66;03m# out shape: (N, L, D * H_out)\u001b[39;00m\n\u001b[1;32m     46\u001b[0m     \u001b[38;5;66;03m# hidden shape: (D * num_layers, N, H_hout) (1, 10, 256)\u001b[39;00m\n\u001b[1;32m     48\u001b[0m     out \u001b[38;5;241m=\u001b[39m \u001b[38;5;28mself\u001b[39m\u001b[38;5;241m.\u001b[39mdense_decoder(out\u001b[38;5;241m.\u001b[39msqueeze())\n",
      "File \u001b[0;32m~/smiles_vae/env/lib/python3.11/site-packages/torch/nn/modules/module.py:1501\u001b[0m, in \u001b[0;36mModule._call_impl\u001b[0;34m(self, *args, **kwargs)\u001b[0m\n\u001b[1;32m   1496\u001b[0m \u001b[38;5;66;03m# If we don't have any hooks, we want to skip the rest of the logic in\u001b[39;00m\n\u001b[1;32m   1497\u001b[0m \u001b[38;5;66;03m# this function, and just call forward.\u001b[39;00m\n\u001b[1;32m   1498\u001b[0m \u001b[38;5;28;01mif\u001b[39;00m \u001b[38;5;129;01mnot\u001b[39;00m (\u001b[38;5;28mself\u001b[39m\u001b[38;5;241m.\u001b[39m_backward_hooks \u001b[38;5;129;01mor\u001b[39;00m \u001b[38;5;28mself\u001b[39m\u001b[38;5;241m.\u001b[39m_backward_pre_hooks \u001b[38;5;129;01mor\u001b[39;00m \u001b[38;5;28mself\u001b[39m\u001b[38;5;241m.\u001b[39m_forward_hooks \u001b[38;5;129;01mor\u001b[39;00m \u001b[38;5;28mself\u001b[39m\u001b[38;5;241m.\u001b[39m_forward_pre_hooks\n\u001b[1;32m   1499\u001b[0m         \u001b[38;5;129;01mor\u001b[39;00m _global_backward_pre_hooks \u001b[38;5;129;01mor\u001b[39;00m _global_backward_hooks\n\u001b[1;32m   1500\u001b[0m         \u001b[38;5;129;01mor\u001b[39;00m _global_forward_hooks \u001b[38;5;129;01mor\u001b[39;00m _global_forward_pre_hooks):\n\u001b[0;32m-> 1501\u001b[0m     \u001b[38;5;28;01mreturn\u001b[39;00m forward_call(\u001b[38;5;241m*\u001b[39margs, \u001b[38;5;241m*\u001b[39m\u001b[38;5;241m*\u001b[39mkwargs)\n\u001b[1;32m   1502\u001b[0m \u001b[38;5;66;03m# Do not call functions when jit is used\u001b[39;00m\n\u001b[1;32m   1503\u001b[0m full_backward_hooks, non_full_backward_hooks \u001b[38;5;241m=\u001b[39m [], []\n",
      "File \u001b[0;32m~/smiles_vae/env/lib/python3.11/site-packages/torch/nn/modules/rnn.py:975\u001b[0m, in \u001b[0;36mGRU.forward\u001b[0;34m(self, input, hx)\u001b[0m\n\u001b[1;32m    973\u001b[0m     \u001b[38;5;28;01mif\u001b[39;00m hx \u001b[38;5;129;01mis\u001b[39;00m \u001b[38;5;129;01mnot\u001b[39;00m \u001b[38;5;28;01mNone\u001b[39;00m:\n\u001b[1;32m    974\u001b[0m         \u001b[38;5;28;01mif\u001b[39;00m hx\u001b[38;5;241m.\u001b[39mdim() \u001b[38;5;241m!=\u001b[39m \u001b[38;5;241m2\u001b[39m:\n\u001b[0;32m--> 975\u001b[0m             \u001b[38;5;28;01mraise\u001b[39;00m \u001b[38;5;167;01mRuntimeError\u001b[39;00m(\n\u001b[1;32m    976\u001b[0m                 \u001b[38;5;124mf\u001b[39m\u001b[38;5;124m\"\u001b[39m\u001b[38;5;124mFor unbatched 2-D input, hx should also be 2-D but got \u001b[39m\u001b[38;5;132;01m{\u001b[39;00mhx\u001b[38;5;241m.\u001b[39mdim()\u001b[38;5;132;01m}\u001b[39;00m\u001b[38;5;124m-D tensor\u001b[39m\u001b[38;5;124m\"\u001b[39m)\n\u001b[1;32m    977\u001b[0m         hx \u001b[38;5;241m=\u001b[39m hx\u001b[38;5;241m.\u001b[39munsqueeze(\u001b[38;5;241m1\u001b[39m)\n\u001b[1;32m    978\u001b[0m \u001b[38;5;28;01melse\u001b[39;00m:\n",
      "\u001b[0;31mRuntimeError\u001b[0m: For unbatched 2-D input, hx should also be 2-D but got 3-D tensor"
     ]
    }
   ],
   "source": [
    "evaluate_ae(encoder, decoder, smiles, 1000, params=params)"
   ]
  },
  {
   "cell_type": "code",
   "execution_count": null,
   "id": "56202c24-4505-4f93-a3f6-e35e76b5b1bd",
   "metadata": {},
   "outputs": [],
   "source": []
  }
 ],
 "metadata": {
  "kernelspec": {
   "display_name": "Python 3 (ipykernel)",
   "language": "python",
   "name": "python3"
  },
  "language_info": {
   "codemirror_mode": {
    "name": "ipython",
    "version": 3
   },
   "file_extension": ".py",
   "mimetype": "text/x-python",
   "name": "python",
   "nbconvert_exporter": "python",
   "pygments_lexer": "ipython3",
   "version": "3.11.5"
  }
 },
 "nbformat": 4,
 "nbformat_minor": 5
}
