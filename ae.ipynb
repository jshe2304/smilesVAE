{
 "cells": [
  {
   "cell_type": "code",
   "execution_count": 2,
   "id": "31a54e9b-fa99-41a4-a20c-f51a562d7dd9",
   "metadata": {
    "tags": []
   },
   "outputs": [],
   "source": [
    "import torch\n",
    "import torchvision\n",
    "import torchvision.transforms as transforms\n",
    "import torch.nn as nn\n",
    "import torch.nn.functional as F\n",
    "import torch.optim as optim\n",
    "from torch.utils.data import DataLoader\n",
    "\n",
    "import matplotlib.pyplot as plt\n",
    "import numpy as np\n",
    "import pandas as pd\n",
    "\n",
    "import time\n",
    "import os\n",
    "\n",
    "from utils import *\n",
    "from encoder import Encoder\n",
    "from decoder import DecodeNext, Decoder\n",
    "\n",
    "%load_ext autoreload\n",
    "%autoreload 2"
   ]
  },
  {
   "cell_type": "markdown",
   "id": "d35b48d8-6721-45ed-b02b-cfc930beca36",
   "metadata": {},
   "source": [
    "### Data & Model Parameters"
   ]
  },
  {
   "cell_type": "code",
   "execution_count": 3,
   "id": "0502c3c8-8d00-4168-944e-b97398dba0e5",
   "metadata": {
    "tags": []
   },
   "outputs": [],
   "source": [
    "smiles = fetch_smiles_gdb13('./data/gdb13/')[0]"
   ]
  },
  {
   "cell_type": "code",
   "execution_count": 4,
   "id": "fb0dadff-a3a2-4e62-aaef-fa3ee61ef1c0",
   "metadata": {
    "tags": []
   },
   "outputs": [],
   "source": [
    "params = make_params(smiles=smiles, to_file='gdb13_params.json')\n",
    "#params = make_params(from_file='gdb13_params.json')"
   ]
  },
  {
   "cell_type": "code",
   "execution_count": 5,
   "id": "d8d5af9c-9dd9-4146-af19-c3526b9745b3",
   "metadata": {
    "tags": []
   },
   "outputs": [
    {
     "name": "stdout",
     "output_type": "stream",
     "text": [
      "total_n = 10000\n",
      "train_n = 7500\n",
      "test_n = 2500\n"
     ]
    }
   ],
   "source": [
    "total_n = 10000\n",
    "train_n = 7500\n",
    "test_n = total_n - train_n\n",
    "\n",
    "one_hots = to_one_hot(smiles[:total_n], params)\n",
    "\n",
    "train_dataloader = DataLoader(one_hots[:train_n], batch_size=50, shuffle=True)\n",
    "test_dataloader = DataLoader(one_hots[train_n:], batch_size=50, shuffle=True)\n",
    "\n",
    "print(f'total_n = {total_n}')\n",
    "print(f'train_n = {train_n}')\n",
    "print(f'test_n = {test_n}')"
   ]
  },
  {
   "cell_type": "markdown",
   "id": "a5af90e7-e697-4a7d-8267-397ec07f8e01",
   "metadata": {},
   "source": [
    "### Model"
   ]
  },
  {
   "cell_type": "code",
   "execution_count": 6,
   "id": "448dd116-efbd-48c4-b88b-fe3c1dcbe967",
   "metadata": {
    "tags": []
   },
   "outputs": [],
   "source": [
    "encoder = Encoder(params)\n",
    "decoder = Decoder(params)"
   ]
  },
  {
   "cell_type": "markdown",
   "id": "ed4473a9-fe6a-40e3-8861-49787af4901c",
   "metadata": {},
   "source": [
    "### Train"
   ]
  },
  {
   "cell_type": "code",
   "execution_count": 7,
   "id": "d50f6ffe-2ccd-4e0b-ab0f-3d571d65c0fd",
   "metadata": {
    "tags": []
   },
   "outputs": [],
   "source": [
    "LR = 0.01\n",
    "EPOCHS = 3"
   ]
  },
  {
   "cell_type": "code",
   "execution_count": null,
   "id": "f8f4c48e-4b4f-44de-8280-c4538ee4cfa6",
   "metadata": {},
   "outputs": [
    {
     "name": "stdout",
     "output_type": "stream",
     "text": [
      "C1CC2=C(CC[NH2+]1)N=CS2\n",
      "tensor([ 0, 12,  5, 12, 12,  6, 11, 12,  1, 12, 12, 17, 14, 13,  6,  3, 18,  5,\n",
      "         2, 14, 11, 12, 16,  6, 20, 20, 20, 20, 20, 20, 20, 20, 20, 20, 20, 20,\n",
      "        20, 20, 20, 20])\n",
      "666666666666666666666666666666666666666\n",
      "tensor([[ 1.0000e+00,  0.0000e+00,  0.0000e+00,  0.0000e+00,  0.0000e+00,\n",
      "          0.0000e+00,  0.0000e+00,  0.0000e+00,  0.0000e+00,  0.0000e+00,\n",
      "          0.0000e+00,  0.0000e+00,  0.0000e+00,  0.0000e+00,  0.0000e+00,\n",
      "          0.0000e+00,  0.0000e+00,  0.0000e+00,  0.0000e+00,  0.0000e+00,\n",
      "          0.0000e+00],\n",
      "        [ 3.3673e-02, -2.5604e-02,  7.1391e-02,  9.4713e-03,  5.6154e-02,\n",
      "          2.3122e-02,  6.0636e-02,  3.6659e-02, -4.8780e-02,  4.2339e-02,\n",
      "          1.5330e-01,  4.7870e-02,  6.5408e-02, -4.2293e-05, -3.0652e-02,\n",
      "          2.4990e-02, -7.2293e-02,  5.1455e-02,  1.7830e-02,  6.3333e-03,\n",
      "          2.3439e-02],\n",
      "        [ 2.9601e-02, -1.8758e-02,  8.5355e-02, -1.0166e-05,  4.6622e-02,\n",
      "          1.8456e-02,  7.5640e-02,  3.5367e-02, -4.4496e-02,  2.2805e-02,\n",
      "          1.4367e-01,  5.8011e-02,  7.0692e-02,  1.4744e-02, -2.0853e-02,\n",
      "          3.4276e-02, -6.6112e-02,  5.1107e-02,  1.3782e-02, -5.8263e-03,\n",
      "          3.2207e-02],\n",
      "        [ 1.8897e-02, -3.5588e-02,  8.9961e-02,  9.7629e-03,  5.7767e-02,\n",
      "          1.2876e-02,  9.8796e-02,  1.1501e-02, -4.8435e-02, -4.9223e-04,\n",
      "          1.5919e-01,  5.9059e-02,  7.4237e-02,  7.4003e-03, -1.3828e-02,\n",
      "          4.9055e-02, -4.8424e-02,  6.1901e-02,  1.4410e-02, -6.3029e-03,\n",
      "          4.1600e-02],\n",
      "        [ 1.9191e-02, -2.7903e-02,  9.6568e-02,  1.9238e-03,  4.7362e-02,\n",
      "          1.1834e-02,  9.5160e-02,  2.4853e-02, -4.4187e-02, -1.1763e-04,\n",
      "          1.4728e-01,  6.2264e-02,  7.4779e-02,  1.6702e-02, -1.4611e-02,\n",
      "          4.5171e-02, -5.5497e-02,  5.9538e-02,  1.0434e-02, -1.0224e-02,\n",
      "          4.3309e-02],\n",
      "        [ 1.8410e-02, -2.3993e-02,  9.9201e-02, -6.8630e-04,  4.2613e-02,\n",
      "          1.0603e-02,  9.4666e-02,  3.0697e-02, -4.2507e-02, -4.3637e-05,\n",
      "          1.4298e-01,  6.2473e-02,  7.5554e-02,  2.1405e-02, -1.4771e-02,\n",
      "          4.3544e-02, -5.8294e-02,  5.8159e-02,  7.2682e-03, -1.5033e-02,\n",
      "          4.5566e-02],\n",
      "        [ 3.3512e-02, -2.8392e-02,  9.8852e-02,  1.5620e-02,  4.5120e-02,\n",
      "          1.0252e-02,  8.3492e-02,  3.3477e-02, -3.7217e-02, -7.3076e-03,\n",
      "          1.6442e-01,  5.7060e-02,  7.9519e-02,  1.1719e-02, -1.8133e-02,\n",
      "          5.6358e-02, -5.1328e-02,  2.6918e-02,  1.1990e-02,  1.2353e-02,\n",
      "          4.2284e-02],\n",
      "        [ 3.8713e-02, -3.0877e-02,  8.8591e-02,  1.7869e-02,  4.2908e-02,\n",
      "          1.5280e-02,  7.7846e-02,  3.6590e-02, -4.7767e-02, -7.5600e-03,\n",
      "          1.5208e-01,  4.0236e-02,  7.6157e-02,  1.0224e-03, -1.7977e-02,\n",
      "          5.8275e-02, -4.7505e-02,  4.0812e-02,  1.8192e-02, -9.8025e-03,\n",
      "          3.7847e-02],\n",
      "        [ 2.9092e-02, -2.2295e-02,  9.4841e-02,  3.6553e-03,  3.9633e-02,\n",
      "          1.5577e-02,  8.5502e-02,  3.6126e-02, -4.3408e-02, -4.0937e-03,\n",
      "          1.4322e-01,  4.8156e-02,  7.9369e-02,  1.1752e-02, -1.5175e-02,\n",
      "          4.9387e-02, -5.6923e-02,  4.8501e-02,  1.1455e-02, -1.5645e-02,\n",
      "          4.2138e-02],\n",
      "        [ 3.9358e-02, -2.8248e-02,  9.7287e-02, -1.9448e-03,  4.6356e-02,\n",
      "          7.0590e-03,  8.9854e-02,  3.8052e-02, -4.0318e-02, -1.2731e-02,\n",
      "          1.5985e-01,  5.9381e-02,  7.8944e-02, -1.8295e-03, -2.5320e-02,\n",
      "          4.9100e-02, -5.6689e-02,  4.1343e-02,  1.9719e-02, -1.1081e-02,\n",
      "          3.5182e-02],\n",
      "        [ 2.9033e-02, -2.2408e-02,  9.8980e-02, -4.8252e-03,  4.5039e-02,\n",
      "          1.0486e-02,  9.0914e-02,  3.7256e-02, -4.0912e-02, -5.5493e-03,\n",
      "          1.4889e-01,  5.9517e-02,  8.0688e-02,  1.1954e-02, -2.0356e-02,\n",
      "          4.6416e-02, -6.1832e-02,  4.7920e-02,  1.1756e-02, -1.4985e-02,\n",
      "          4.1160e-02],\n",
      "        [ 2.3259e-02, -2.0736e-02,  9.9753e-02, -4.3107e-03,  4.3390e-02,\n",
      "          1.0652e-02,  9.3061e-02,  3.5961e-02, -4.1507e-02, -2.8141e-03,\n",
      "          1.4483e-01,  5.9437e-02,  8.0374e-02,  1.9061e-02, -1.7901e-02,\n",
      "          4.4802e-02, -6.2754e-02,  5.1989e-02,  6.9238e-03, -1.8101e-02,\n",
      "          4.4799e-02],\n",
      "        [ 2.8445e-02, -2.6252e-02,  9.2611e-02,  1.2130e-02,  3.5639e-02,\n",
      "          3.2938e-02,  7.0994e-02,  3.5116e-02, -4.8873e-02,  3.2921e-03,\n",
      "          1.5613e-01,  4.9164e-02,  7.4199e-02,  5.6434e-03, -1.3031e-02,\n",
      "          5.8392e-02, -4.2588e-02,  4.3990e-02,  1.1069e-02, -1.3219e-02,\n",
      "          4.7995e-02],\n",
      "        [ 2.3023e-02, -2.9819e-02,  9.0582e-02,  1.4158e-02,  4.3095e-02,\n",
      "          2.3938e-02,  5.5552e-02,  8.7635e-03, -5.7152e-02, -7.9005e-03,\n",
      "          1.6246e-01,  3.7145e-02,  6.4598e-02, -1.3549e-02, -1.7572e-02,\n",
      "          5.2556e-02, -4.7258e-02,  4.1833e-02,  9.8838e-03,  5.1709e-03,\n",
      "          3.9154e-02],\n",
      "        [ 2.0881e-02, -2.9213e-02,  8.4061e-02,  3.2396e-02,  5.2215e-02,\n",
      "          2.4378e-02,  6.9148e-02,  2.4248e-02, -5.9293e-02,  1.6503e-02,\n",
      "          1.5406e-01,  4.7553e-02,  8.0549e-02,  1.0530e-02, -7.9233e-03,\n",
      "          4.1914e-02, -5.1870e-02,  3.6870e-02, -3.7802e-03, -3.3197e-03,\n",
      "          3.7816e-02],\n",
      "        [ 3.6847e-02, -3.0251e-02,  9.1465e-02,  3.0214e-02,  4.8948e-02,\n",
      "          2.1042e-02,  6.8423e-02,  2.7235e-02, -4.7099e-02,  3.3807e-03,\n",
      "          1.6878e-01,  5.0404e-02,  8.4198e-02,  5.3303e-03, -1.5101e-02,\n",
      "          5.3172e-02, -5.0061e-02,  1.6456e-02,  4.3457e-03,  2.1297e-02,\n",
      "          3.5525e-02],\n",
      "        [ 3.3182e-02, -2.3301e-02,  8.8836e-02,  2.3656e-02,  4.3864e-02,\n",
      "          2.6421e-02,  6.3771e-02,  2.7753e-02, -4.9125e-02, -8.7322e-03,\n",
      "          1.6572e-01,  4.0450e-02,  9.4023e-02,  1.3736e-02, -2.4744e-02,\n",
      "          5.3066e-02, -4.7268e-02,  3.7509e-02,  2.7579e-02,  1.4274e-02,\n",
      "          3.0101e-02],\n",
      "        [ 3.3961e-02, -3.6735e-02,  8.4477e-02,  3.0254e-02,  5.3689e-02,\n",
      "          1.1276e-02,  7.2034e-02,  1.4440e-02, -6.8158e-02,  8.5552e-03,\n",
      "          1.5638e-01,  3.6321e-02,  8.7971e-02, -6.4474e-04, -2.4389e-02,\n",
      "          4.2361e-02, -3.6639e-02,  3.2742e-02,  3.0019e-02,  1.4928e-03,\n",
      "          3.0215e-02],\n",
      "        [ 2.1670e-02, -4.4090e-02,  9.1341e-02,  2.1457e-02,  6.1499e-02,\n",
      "          7.7413e-03,  9.7770e-02, -3.4340e-04, -5.7596e-02, -6.6526e-03,\n",
      "          1.6248e-01,  4.6947e-02,  8.6418e-02, -2.4809e-03, -1.7549e-02,\n",
      "          4.9188e-02, -3.7014e-02,  5.2354e-02,  2.2859e-02, -3.4254e-04,\n",
      "          3.8695e-02],\n",
      "        [ 3.9626e-02, -3.8731e-02,  9.1520e-02,  2.0678e-02,  6.9710e-02,\n",
      "          4.9393e-03,  7.9085e-02,  2.1366e-02, -6.4025e-02,  1.2311e-02,\n",
      "          1.6034e-01,  3.7337e-02,  7.7894e-02,  4.2225e-03, -2.5262e-02,\n",
      "          3.8101e-02, -5.3960e-02,  4.9609e-02,  3.0442e-02,  8.7139e-03,\n",
      "          3.8168e-02],\n",
      "        [ 2.9525e-02, -3.5432e-02,  9.0582e-02,  1.7430e-02,  6.1264e-02,\n",
      "          7.4601e-03,  5.9879e-02,  7.5198e-03, -6.2416e-02, -2.3922e-03,\n",
      "          1.6205e-01,  3.3851e-02,  6.3817e-02, -1.4590e-02, -2.2661e-02,\n",
      "          4.4659e-02, -5.3027e-02,  4.2585e-02,  2.2045e-02,  1.6814e-02,\n",
      "          3.3643e-02],\n",
      "        [ 3.5806e-02, -3.3502e-02,  8.3051e-02,  1.8049e-02,  4.8964e-02,\n",
      "          1.4410e-02,  6.6156e-02,  2.5454e-02, -5.7528e-02, -1.0731e-03,\n",
      "          1.5073e-01,  3.0228e-02,  6.7654e-02, -1.1840e-02, -2.1146e-02,\n",
      "          4.9412e-02, -5.2047e-02,  5.0112e-02,  2.6488e-02, -6.2743e-03,\n",
      "          3.4080e-02],\n",
      "        [ 2.7456e-02, -2.3114e-02,  9.0949e-02,  3.3497e-03,  4.1730e-02,\n",
      "          1.4485e-02,  7.9459e-02,  3.1571e-02, -4.6980e-02,  1.0956e-03,\n",
      "          1.4275e-01,  4.3553e-02,  7.5035e-02,  5.4081e-03, -1.7190e-02,\n",
      "          4.3381e-02, -6.1270e-02,  5.3275e-02,  1.7030e-02, -1.3221e-02,\n",
      "          4.0580e-02],\n",
      "        [ 3.6611e-02, -3.5129e-02,  8.2391e-02,  2.9482e-03,  6.3763e-02,\n",
      "         -2.8355e-03,  9.3907e-02,  1.1325e-02, -4.0917e-02, -1.6402e-02,\n",
      "          1.4019e-01,  5.6618e-02,  7.8582e-02, -1.4491e-02, -2.0987e-02,\n",
      "          4.4014e-02, -4.2528e-02,  4.5724e-02,  1.1557e-02, -8.8670e-03,\n",
      "          3.2670e-02],\n",
      "        [ 4.3801e-02, -3.3804e-02,  9.0343e-02,  1.5582e-02,  5.4540e-02,\n",
      "          4.9634e-03,  8.2649e-02,  2.3025e-02, -3.8037e-02, -1.5123e-02,\n",
      "          1.6154e-01,  5.4418e-02,  8.2752e-02, -7.7855e-03, -2.1481e-02,\n",
      "          5.6663e-02, -4.6819e-02,  2.0762e-02,  1.4518e-02,  1.8900e-02,\n",
      "          3.4918e-02],\n",
      "        [ 3.7480e-02, -3.4418e-02,  6.1584e-02,  9.8368e-03,  6.7132e-02,\n",
      "          1.5793e-02,  8.5079e-02,  5.3697e-03, -3.3001e-02, -1.5386e-02,\n",
      "          1.6021e-01,  5.3454e-02,  7.0605e-02, -8.2253e-03, -1.6085e-02,\n",
      "          5.2136e-02, -6.5894e-02,  2.9229e-02,  9.4424e-03,  8.9721e-03,\n",
      "          3.9085e-02],\n",
      "        [ 3.2933e-02, -3.2595e-02,  4.8986e-02,  4.5953e-03,  7.2451e-02,\n",
      "          1.9333e-02,  8.6739e-02, -2.3049e-03, -2.6136e-02, -1.6158e-02,\n",
      "          1.5810e-01,  5.4663e-02,  6.6502e-02, -1.0436e-02, -1.3520e-02,\n",
      "          4.9366e-02, -7.5394e-02,  3.5960e-02,  9.6374e-03,  5.4837e-03,\n",
      "          4.0913e-02],\n",
      "        [ 3.0632e-02, -3.0990e-02,  4.3801e-02,  9.0618e-04,  7.4952e-02,\n",
      "          2.0182e-02,  8.7666e-02, -5.4015e-03, -2.0832e-02, -1.6740e-02,\n",
      "          1.5644e-01,  5.5809e-02,  6.5558e-02, -1.2147e-02, -1.2334e-02,\n",
      "          4.7877e-02, -8.0260e-02,  4.0437e-02,  1.1288e-02,  4.5129e-03,\n",
      "          4.1590e-02],\n",
      "        [ 2.9760e-02, -2.9960e-02,  4.1818e-02, -1.4598e-03,  7.6310e-02,\n",
      "          2.0163e-02,  8.8161e-02, -6.5043e-03, -1.7310e-02, -1.7114e-02,\n",
      "          1.5542e-01,  5.6500e-02,  6.5750e-02, -1.3115e-02, -1.1854e-02,\n",
      "          4.7156e-02, -8.2826e-02,  4.3147e-02,  1.2918e-02,  4.4656e-03,\n",
      "          4.1771e-02],\n",
      "        [ 2.9590e-02, -2.9370e-02,  4.1133e-02, -2.9089e-03,  7.7153e-02,\n",
      "          1.9941e-02,  8.8432e-02, -6.8011e-03, -1.5112e-02, -1.7361e-02,\n",
      "          1.5491e-01,  5.6814e-02,  6.6252e-02, -1.3562e-02, -1.1721e-02,\n",
      "          4.6852e-02, -8.4217e-02,  4.4694e-02,  1.4123e-02,  4.6990e-03,\n",
      "          4.1771e-02],\n",
      "        [ 2.9694e-02, -2.9050e-02,  4.0933e-02, -3.7722e-03,  7.7723e-02,\n",
      "          1.9727e-02,  8.8585e-02, -6.8086e-03, -1.3781e-02, -1.7535e-02,\n",
      "          1.5471e-01,  5.6901e-02,  6.6751e-02, -1.3715e-02, -1.1736e-02,\n",
      "          4.6757e-02, -8.4989e-02,  4.5545e-02,  1.4907e-02,  4.9666e-03,\n",
      "          4.1723e-02],\n",
      "        [ 2.9863e-02, -2.8879e-02,  4.0894e-02, -4.2768e-03,  7.8119e-02,\n",
      "          1.9571e-02,  8.8676e-02, -6.7363e-03, -1.2986e-02, -1.7661e-02,\n",
      "          1.5469e-01,  5.6875e-02,  6.7149e-02, -1.3728e-02, -1.1800e-02,\n",
      "          4.6756e-02, -8.5426e-02,  4.6005e-02,  1.5381e-02,  5.1874e-03,\n",
      "          4.1675e-02],\n",
      "        [ 3.0015e-02, -2.8787e-02,  4.0897e-02, -4.5678e-03,  7.8396e-02,\n",
      "          1.9471e-02,  8.8729e-02, -6.6598e-03, -1.2515e-02, -1.7751e-02,\n",
      "          1.5473e-01,  5.6808e-02,  6.7435e-02, -1.3687e-02, -1.1868e-02,\n",
      "          4.6790e-02, -8.5677e-02,  4.6253e-02,  1.5655e-02,  5.3465e-03,\n",
      "          4.1640e-02],\n",
      "        [ 3.0128e-02, -2.8736e-02,  4.0904e-02, -4.7339e-03,  7.8587e-02,\n",
      "          1.9413e-02,  8.8759e-02, -6.6004e-03, -1.2236e-02, -1.7814e-02,\n",
      "          1.5480e-01,  5.6734e-02,  6.7629e-02, -1.3632e-02, -1.1923e-02,\n",
      "          4.6832e-02, -8.5824e-02,  4.6389e-02,  1.5808e-02,  5.4525e-03,\n",
      "          4.1619e-02],\n",
      "        [ 3.0203e-02, -2.8707e-02,  4.0906e-02, -4.8279e-03,  7.8715e-02,\n",
      "          1.9383e-02,  8.8776e-02, -6.5598e-03, -1.2071e-02, -1.7856e-02,\n",
      "          1.5486e-01,  5.6670e-02,  6.7755e-02, -1.3583e-02, -1.1963e-02,\n",
      "          4.6870e-02, -8.5912e-02,  4.6466e-02,  1.5893e-02,  5.5193e-03,\n",
      "          4.1607e-02],\n",
      "        [ 3.0249e-02, -2.8689e-02,  4.0904e-02, -4.8809e-03,  7.8800e-02,\n",
      "          1.9369e-02,  8.8785e-02, -6.5338e-03, -1.1974e-02, -1.7883e-02,\n",
      "          1.5491e-01,  5.6622e-02,  6.7834e-02, -1.3543e-02, -1.1989e-02,\n",
      "          4.6900e-02, -8.5965e-02,  4.6512e-02,  1.5940e-02,  5.5596e-03,\n",
      "          4.1601e-02],\n",
      "        [ 3.0277e-02, -2.8678e-02,  4.0900e-02, -4.9106e-03,  7.8854e-02,\n",
      "          1.9364e-02,  8.8790e-02, -6.5178e-03, -1.1917e-02, -1.7900e-02,\n",
      "          1.5494e-01,  5.6587e-02,  6.7883e-02, -1.3515e-02, -1.2005e-02,\n",
      "          4.6922e-02, -8.5997e-02,  4.6540e-02,  1.5966e-02,  5.5829e-03,\n",
      "          4.1598e-02],\n",
      "        [ 3.0292e-02, -2.8671e-02,  4.0896e-02, -4.9270e-03,  7.8889e-02,\n",
      "          1.9364e-02,  8.8792e-02, -6.5081e-03, -1.1884e-02, -1.7909e-02,\n",
      "          1.5497e-01,  5.6563e-02,  6.7912e-02, -1.3494e-02, -1.2015e-02,\n",
      "          4.6938e-02, -8.6018e-02,  4.6558e-02,  1.5981e-02,  5.5961e-03,\n",
      "          4.1597e-02],\n",
      "        [ 3.0300e-02, -2.8666e-02,  4.0892e-02, -4.9360e-03,  7.8911e-02,\n",
      "          1.9367e-02,  8.8793e-02, -6.5024e-03, -1.1864e-02, -1.7914e-02,\n",
      "          1.5499e-01,  5.6547e-02,  6.7930e-02, -1.3481e-02, -1.2020e-02,\n",
      "          4.6949e-02, -8.6030e-02,  4.6570e-02,  1.5989e-02,  5.6033e-03,\n",
      "          4.1597e-02],\n",
      "        [ 3.0304e-02, -2.8663e-02,  4.0889e-02, -4.9409e-03,  7.8925e-02,\n",
      "          1.9369e-02,  8.8793e-02, -6.4990e-03, -1.1852e-02, -1.7917e-02,\n",
      "          1.5500e-01,  5.6538e-02,  6.7940e-02, -1.3472e-02, -1.2024e-02,\n",
      "          4.6956e-02, -8.6039e-02,  4.6577e-02,  1.5995e-02,  5.6070e-03,\n",
      "          4.1598e-02]], grad_fn=<SelectBackward0>)\n",
      "tensor(3.0038, grad_fn=<NllLoss2DBackward0>)\n"
     ]
    }
   ],
   "source": [
    "encoder_optimizer = optim.Adam(encoder.parameters(), lr=LR)\n",
    "decoder_optimizer = optim.Adam(decoder.parameters(), lr=LR)\n",
    "\n",
    "criterion = nn.CrossEntropyLoss()\n",
    "\n",
    "losses = []\n",
    "\n",
    "encoder.train()\n",
    "decoder.train()\n",
    "\n",
    "for epoch_n in range(EPOCHS):\n",
    "    for x in train_dataloader:\n",
    "        \n",
    "        # x.shape = (N, L, C)\n",
    "        \n",
    "        encoder_optimizer.zero_grad()\n",
    "        decoder_optimizer.zero_grad()\n",
    "        \n",
    "        latents = encoder(x)\n",
    "        \n",
    "        y = decoder(latents, x)\n",
    "        \n",
    "        print(from_one_hot(x, params)[0])\n",
    "        print(torch.argmax(x, dim=2)[0])\n",
    "        \n",
    "        print(from_one_hot(y, params)[0])\n",
    "        print(y[0])\n",
    "        \n",
    "        loss = criterion(y.transpose(1, 2), torch.argmax(x, dim=2))\n",
    "        #loss = criterion(x, y)\n",
    "        \n",
    "        print(loss)\n",
    "        \n",
    "        input()\n",
    "\n",
    "        losses.append(float(loss))\n",
    "        \n",
    "        loss.backward()\n",
    "        \n",
    "        encoder_optimizer.step()\n",
    "        decoder_optimizer.step()"
   ]
  },
  {
   "cell_type": "code",
   "execution_count": 8,
   "id": "60be97bf-56ed-495a-bf17-2fbba02d660b",
   "metadata": {
    "tags": []
   },
   "outputs": [
    {
     "data": {
      "text/plain": [
       "[<matplotlib.lines.Line2D at 0x17c441870>]"
      ]
     },
     "execution_count": 8,
     "metadata": {},
     "output_type": "execute_result"
    },
    {
     "data": {
      "image/png": "[encoded data removed]",
      "text/plain": [
       "<Figure size 640x480 with 1 Axes>"
      ]
     },
     "metadata": {},
     "output_type": "display_data"
    }
   ],
   "source": [
    "plt.plot(losses)"
   ]
  },
  {
   "cell_type": "code",
   "execution_count": 21,
   "id": "95a23828-ba46-4187-8c17-5bba0ce6130d",
   "metadata": {
    "tags": []
   },
   "outputs": [],
   "source": [
    "x = one_hots[100:110]\n",
    "latent = encoder(x)\n",
    "y = decoder(latent)"
   ]
  },
  {
   "cell_type": "code",
   "execution_count": 22,
   "id": "7f5524d0-077d-4a23-8b85-0411447d0356",
   "metadata": {
    "tags": []
   },
   "outputs": [
    {
     "data": {
      "text/plain": [
       "['O=C1NCCCN1',\n",
       " 'C1CC[NH+]=CNC1',\n",
       " 'NC1=CC=CC=N1',\n",
       " 'NC1=CC=CN=C1',\n",
       " 'O=C1NC=CC=N1',\n",
       " 'OC1CCCC1=O',\n",
       " 'OC1CCC(=O)C1',\n",
       " 'O=C1COCCN1',\n",
       " 'O=C1CCCNC1',\n",
       " 'O1C=CC=CC=CC=C1']"
      ]
     },
     "execution_count": 22,
     "metadata": {},
     "output_type": "execute_result"
    }
   ],
   "source": [
    "from_one_hot(x, params)"
   ]
  },
  {
   "cell_type": "code",
   "execution_count": 23,
   "id": "9cb0de1b-3308-4cb3-9805-1f61a177f423",
   "metadata": {
    "tags": []
   },
   "outputs": [
    {
     "data": {
      "text/plain": [
       "['C1C1=2',\n",
       " 'C1C1=2',\n",
       " 'O1C112',\n",
       " 'O1C112',\n",
       " 'C1C1=2',\n",
       " 'C1C1=2',\n",
       " 'C1C1=2',\n",
       " 'C1C1=2',\n",
       " 'C1C1=2',\n",
       " 'C1C1=2']"
      ]
     },
     "execution_count": 23,
     "metadata": {},
     "output_type": "execute_result"
    }
   ],
   "source": [
    "from_one_hot(y, params)"
   ]
  },
  {
   "cell_type": "code",
   "execution_count": null,
   "id": "a250f71c-0e08-4c15-9874-e715818d0af0",
   "metadata": {},
   "outputs": [],
   "source": []
  }
 ],
 "metadata": {
  "kernelspec": {
   "display_name": "Python 3 (ipykernel)",
   "language": "python",
   "name": "python3"
  },
  "language_info": {
   "codemirror_mode": {
    "name": "ipython",
    "version": 3
   },
   "file_extension": ".py",
   "mimetype": "text/x-python",
   "name": "python",
   "nbconvert_exporter": "python",
   "pygments_lexer": "ipython3",
   "version": "3.10.6"
  }
 },
 "nbformat": 4,
 "nbformat_minor": 5
}
