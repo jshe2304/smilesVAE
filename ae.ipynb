{
 "cells": [
  {
   "cell_type": "code",
   "execution_count": 2,
   "id": "31a54e9b-fa99-41a4-a20c-f51a562d7dd9",
   "metadata": {
    "tags": []
   },
   "outputs": [
    {
     "name": "stdout",
     "output_type": "stream",
     "text": [
      "The autoreload extension is already loaded. To reload it, use:\n",
      "  %reload_ext autoreload\n"
     ]
    }
   ],
   "source": [
    "import torch\n",
    "import torch.nn as nn\n",
    "import torch.nn.functional as F\n",
    "import torch.optim as optim\n",
    "from torch.utils.data import DataLoader\n",
    "\n",
    "import matplotlib.pyplot as plt\n",
    "import numpy as np\n",
    "import pandas as pd\n",
    "\n",
    "import time\n",
    "import os\n",
    "import random\n",
    "\n",
    "from utils import *\n",
    "from encoder import Encoder\n",
    "from decoder import DecodeNext, Decoder\n",
    "\n",
    "%load_ext autoreload\n",
    "%autoreload 2"
   ]
  },
  {
   "cell_type": "markdown",
   "id": "d35b48d8-6721-45ed-b02b-cfc930beca36",
   "metadata": {
    "tags": []
   },
   "source": [
    "### Data & Model Parameters"
   ]
  },
  {
   "cell_type": "code",
   "execution_count": 3,
   "id": "0502c3c8-8d00-4168-944e-b97398dba0e5",
   "metadata": {
    "tags": []
   },
   "outputs": [],
   "source": [
    "smiles = list(fetch_smiles_gdb13('./data/gdb13/')[0])"
   ]
  },
  {
   "cell_type": "code",
   "execution_count": 4,
   "id": "fb0dadff-a3a2-4e62-aaef-fa3ee61ef1c0",
   "metadata": {
    "tags": []
   },
   "outputs": [],
   "source": [
    "params = make_params(smiles=smiles, GRU_HIDDEN_DIM=256, LATENT_DIM=128)"
   ]
  },
  {
   "cell_type": "markdown",
   "id": "a5af90e7-e697-4a7d-8267-397ec07f8e01",
   "metadata": {},
   "source": [
    "### Model"
   ]
  },
  {
   "cell_type": "code",
   "execution_count": 5,
   "id": "448dd116-efbd-48c4-b88b-fe3c1dcbe967",
   "metadata": {
    "tags": []
   },
   "outputs": [],
   "source": [
    "encoder = Encoder(params)\n",
    "decoder = Decoder(params)"
   ]
  },
  {
   "cell_type": "code",
   "execution_count": 6,
   "id": "1e64e725-0e16-4fba-8afa-6020018896fe",
   "metadata": {
    "tags": []
   },
   "outputs": [
    {
     "data": {
      "text/plain": [
       "<All keys matched successfully>"
      ]
     },
     "execution_count": 6,
     "metadata": {},
     "output_type": "execute_result"
    }
   ],
   "source": [
    "encoder.load_state_dict(torch.load('weights/encoder_weights.pth'))\n",
    "decoder.load_state_dict(torch.load('weights/decoder_weights.pth'))"
   ]
  },
  {
   "cell_type": "markdown",
   "id": "c03e54ee-e95d-472a-a8f9-36ad587fb6ee",
   "metadata": {},
   "source": [
    "## Test"
   ]
  },
  {
   "cell_type": "code",
   "execution_count": 7,
   "id": "5b7067bd-1055-4927-9f61-6d4355e4c8cb",
   "metadata": {
    "tags": []
   },
   "outputs": [
    {
     "name": "stdout",
     "output_type": "stream",
     "text": [
      "mean token matching: 0.052525006234645844\n",
      "\n",
      "['C1C2COC3C(O2)C1N1N=CC=C31', 'NC1=C(C=CO1)C1CCCC(=O)C1', 'OC1CC2C3CC4C(CC1C24)CC3', 'C1NC2=[NH+]CCCC3OCC1(C2)O3', 'C1OC2C3CC4CC3CC1C2O4', 'C1CC2C3CC4C2C1COC4C[NH2+]3', 'C1C2[NH2+]C3CC4COC2C(CO4)C13', 'C1CC23CC4OC1C2C1CC3C4[NH2+]1', '[NH3+]C1C2CCC1C1CCC(OC1)O2', 'C1[NH2+]C23CN4CCOC2OCC3C14']\n",
      "['<BOS>C]]]]]]]]]]]]]]]]]]]]]]]]]]]]]]]]]]]]]]', '<BOS>C]]]]]]]]]]]]]]]]]]]]]]]]]]]]]]]]]]]]]]', '<BOS>C]]]]]]]]]]]]]]]]]]]]]]]]]]]]]]]]]]]]]]', '<BOS>C]]]]]]]]]]]]]]]]]]]]]]]]]]]]]]]]]]]]]]', '<BOS>C]]]]]]]]]]]]]]]]]]]]]]]]]]]]]]]]]]]]]]', '<BOS>C]]]]]]]]]]]]]]]]]]]]]]]]]]]]]]]]]]]]]]', '<BOS>O]]]]]]]]]]]]]]]]]]]]]]]]]]]]]]]]]]]]]]', '<BOS>C]]]]]]]]]]]]]]]]]]]]]]]]]]]]]]]]]]]]]]', '<BOS>C]]]]]]]]]]]]]]]]]]]]]]]]]]]]]]]]]]]]]]', '<BOS>C]]]]]]]]]]]]]]]]]]]]]]]]]]]]]]]]]]]]]]']\n"
     ]
    }
   ],
   "source": [
    "evaluate_ae(encoder, decoder, smiles, 1000, params=params)"
   ]
  },
  {
   "cell_type": "code",
   "execution_count": null,
   "id": "2ecad31b-c318-4255-bf1a-546b82477594",
   "metadata": {},
   "outputs": [],
   "source": []
  }
 ],
 "metadata": {
  "kernelspec": {
   "display_name": "Python 3 (ipykernel)",
   "language": "python",
   "name": "python3"
  },
  "language_info": {
   "codemirror_mode": {
    "name": "ipython",
    "version": 3
   },
   "file_extension": ".py",
   "mimetype": "text/x-python",
   "name": "python",
   "nbconvert_exporter": "python",
   "pygments_lexer": "ipython3",
   "version": "3.9.12"
  }
 },
 "nbformat": 4,
 "nbformat_minor": 5
}
