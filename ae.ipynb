{
 "cells": [
  {
   "cell_type": "code",
   "execution_count": 1,
   "id": "31a54e9b-fa99-41a4-a20c-f51a562d7dd9",
   "metadata": {
    "tags": []
   },
   "outputs": [],
   "source": [
    "import torch\n",
    "import torch.nn as nn\n",
    "import torch.nn.functional as F\n",
    "import torch.optim as optim\n",
    "from torch.utils.data import DataLoader\n",
    "\n",
    "import matplotlib.pyplot as plt\n",
    "from matplotlib import gridspec\n",
    "import numpy as np\n",
    "import pandas as pd\n",
    "\n",
    "import time\n",
    "import os\n",
    "import random\n",
    "\n",
    "from utils import *\n",
    "from embedding_utils import *\n",
    "from encoder import Encoder\n",
    "from decoder import DecodeNext, Decoder\n",
    "\n",
    "%load_ext autoreload\n",
    "%autoreload 2\n",
    "\n",
    "# percentage of fully reconstructed smiles"
   ]
  },
  {
   "cell_type": "markdown",
   "id": "d35b48d8-6721-45ed-b02b-cfc930beca36",
   "metadata": {
    "tags": []
   },
   "source": [
    "### Data & Model Parameters"
   ]
  },
  {
   "cell_type": "code",
   "execution_count": 2,
   "id": "3ffb1156-7e1b-461a-bbd2-2710e68f2cba",
   "metadata": {
    "tags": []
   },
   "outputs": [],
   "source": [
    "smiles = fetch_smiles_gdb13('./data/gdb13').values.tolist()\n",
    "\n",
    "for i, smile in enumerate(smiles):\n",
    "    smiles[i] = smile.replace('Cl', 'L')"
   ]
  },
  {
   "cell_type": "markdown",
   "id": "a5af90e7-e697-4a7d-8267-397ec07f8e01",
   "metadata": {
    "tags": []
   },
   "source": [
    "### Model"
   ]
  },
  {
   "cell_type": "code",
   "execution_count": 3,
   "id": "fb0dadff-a3a2-4e62-aaef-fa3ee61ef1c0",
   "metadata": {
    "tags": []
   },
   "outputs": [],
   "source": [
    "params = make_params(smiles=smiles, GRU_HIDDEN_DIM=512, LATENT_DIM=256)"
   ]
  },
  {
   "cell_type": "code",
   "execution_count": 4,
   "id": "448dd116-efbd-48c4-b88b-fe3c1dcbe967",
   "metadata": {
    "tags": []
   },
   "outputs": [
    {
     "data": {
      "text/plain": [
       "<All keys matched successfully>"
      ]
     },
     "execution_count": 4,
     "metadata": {},
     "output_type": "execute_result"
    }
   ],
   "source": [
    "encoder = Encoder(params)\n",
    "encoder.load_state_dict(torch.load('weights-5/encoder_weights.pth'))\n",
    "\n",
    "decoder = Decoder(params)\n",
    "decoder.load_state_dict(torch.load('weights-5/decoder_weights.pth'))"
   ]
  },
  {
   "cell_type": "code",
   "execution_count": 5,
   "id": "78c613d9-f2df-4033-84e3-9f0b75ac5cec",
   "metadata": {
    "tags": []
   },
   "outputs": [
    {
     "name": "stdout",
     "output_type": "stream",
     "text": [
      "[NH3+]C1C2CC34CC5OC(C2C3)C14O5\t\tO1C=CC2=NN=C3C=COC1=C23\n",
      "[NH3+]C1C2CC34CC5CC(C1)C)C14O5\t\tO1C=CC2=CC=C3=C=CC1=C23\n",
      "Euclidean Distance of Means: 35.94603729248047\n",
      "Euclidean Distance of Samples: 35.94768142700195\n"
     ]
    },
    {
     "data": {
      "text/plain": [
       "<matplotlib.image.AxesImage at 0x7f94d5ed2610>"
      ]
     },
     "execution_count": 5,
     "metadata": {},
     "output_type": "execute_result"
    },
    {
     "data": {
      "image/png": "[encoded data removed]",
      "text/plain": [
       "<Figure size 640x480 with 4 Axes>"
      ]
     },
     "metadata": {},
     "output_type": "display_data"
    }
   ],
   "source": [
    "s1, s2 = random.sample(smiles, 2)\n",
    "print(f'{s1}\\t\\t{s2}')\n",
    "\n",
    "s1 = to_one_hot(s1, params)\n",
    "s2 = to_one_hot(s2, params)\n",
    "\n",
    "mu1, logvar1, z1 = encoder(s1)\n",
    "mu2, logvar2, z2 = encoder(s2)\n",
    "\n",
    "s1_pred = decoder(z1)\n",
    "s2_pred = decoder(z2)\n",
    "\n",
    "print(f'{from_one_hot(s1_pred, params)[0]}\\t\\t{from_one_hot(s2_pred, params)[0]}')\n",
    "\n",
    "print(f\"Euclidean Distance of Means: {float(torch.pow(torch.sum(torch.pow(mu1 - mu2, 2)), 0.5))}\")\n",
    "print(f\"Euclidean Distance of Samples: {float(torch.pow(torch.sum(torch.pow(z1 - z2, 2)), 0.5))}\")\n",
    "\n",
    "fig, ((ax1, ax2), (ax3, ax4)) = plt.subplots(2, 2, sharex=True, sharey=True)\n",
    "\n",
    "ax1.imshow(torch.softmax(s1_pred, dim=2).squeeze(0).detach().numpy())\n",
    "ax2.imshow(torch.softmax(s1, dim=2).squeeze(0).detach().numpy())\n",
    "\n",
    "ax3.imshow(torch.softmax(s2_pred, dim=2).squeeze(0).detach().numpy())\n",
    "ax4.imshow(torch.softmax(s2, dim=2).squeeze(0).detach().numpy())"
   ]
  },
  {
   "cell_type": "markdown",
   "id": "c03e54ee-e95d-472a-a8f9-36ad587fb6ee",
   "metadata": {
    "tags": []
   },
   "source": [
    "## Test"
   ]
  },
  {
   "cell_type": "code",
   "execution_count": 6,
   "id": "5b7067bd-1055-4927-9f61-6d4355e4c8cb",
   "metadata": {
    "tags": []
   },
   "outputs": [
    {
     "data": {
      "text/html": [
       "<div>\n",
       "<style scoped>\n",
       "    .dataframe tbody tr th:only-of-type {\n",
       "        vertical-align: middle;\n",
       "    }\n",
       "\n",
       "    .dataframe tbody tr th {\n",
       "        vertical-align: top;\n",
       "    }\n",
       "\n",
       "    .dataframe thead th {\n",
       "        text-align: right;\n",
       "    }\n",
       "</style>\n",
       "<table border=\"1\" class=\"dataframe\">\n",
       "  <thead>\n",
       "    <tr style=\"text-align: right;\">\n",
       "      <th></th>\n",
       "      <th>target</th>\n",
       "      <th>predicted</th>\n",
       "    </tr>\n",
       "  </thead>\n",
       "  <tbody>\n",
       "    <tr>\n",
       "      <th>0</th>\n",
       "      <td>C1OCC2CC3=C(CC12)NC=N3</td>\n",
       "      <td>C1OCC2CC3=C(CCC2)C=CN3</td>\n",
       "    </tr>\n",
       "    <tr>\n",
       "      <th>1</th>\n",
       "      <td>C1OCC23CCC4(COC(C4)C12)O3</td>\n",
       "      <td>C1OCC23CCC4(COCCCC)C13)O3</td>\n",
       "    </tr>\n",
       "    <tr>\n",
       "      <th>2</th>\n",
       "      <td>NC1=CC2=C(CCC3=COC=C23)S1</td>\n",
       "      <td>NC1=CC2=C(CCC3=CSC=C23)S1</td>\n",
       "    </tr>\n",
       "    <tr>\n",
       "      <th>3</th>\n",
       "      <td>C1OC2C3NC=[NH+]C33COC2C1C3</td>\n",
       "      <td>C1OC2C3CC=[NH+]CCC3CC1C1C3</td>\n",
       "    </tr>\n",
       "    <tr>\n",
       "      <th>4</th>\n",
       "      <td>C1CC2OC3C[NH2+]C2CC1OCC3</td>\n",
       "      <td>C1CC2OC3C[NH2+]C2CCCCCC3</td>\n",
       "    </tr>\n",
       "    <tr>\n",
       "      <th>5</th>\n",
       "      <td>NC1=NNC2=C1CN1C=CC=C1C2</td>\n",
       "      <td>NC1=NNC2=C1CC1==CC=C1C2</td>\n",
       "    </tr>\n",
       "    <tr>\n",
       "      <th>6</th>\n",
       "      <td>OC1C2CC34CCC(OC(C3)O2)C14</td>\n",
       "      <td>OC1C2CC34CCC(CCCCCCO2)C14</td>\n",
       "    </tr>\n",
       "    <tr>\n",
       "      <th>7</th>\n",
       "      <td>OC12CCC3CC(C1)CC23O</td>\n",
       "      <td>OC12CCC3CC(C1)CCC2O</td>\n",
       "    </tr>\n",
       "    <tr>\n",
       "      <th>8</th>\n",
       "      <td>C1[NH2+]C2CC1CN1N=CC(CC2)=N1</td>\n",
       "      <td>C1[NH2+]C2CC1CC11=N(CCC2)=N1</td>\n",
       "    </tr>\n",
       "    <tr>\n",
       "      <th>9</th>\n",
       "      <td>C1[NH2+]C2CN3C4CC5CC4NC25C13</td>\n",
       "      <td>C1[NH2+]C2CN3C4CC5CCCCC25C13</td>\n",
       "    </tr>\n",
       "  </tbody>\n",
       "</table>\n",
       "</div>"
      ],
      "text/plain": [
       "                         target                     predicted\n",
       "0        C1OCC2CC3=C(CC12)NC=N3        C1OCC2CC3=C(CCC2)C=CN3\n",
       "1     C1OCC23CCC4(COC(C4)C12)O3     C1OCC23CCC4(COCCCC)C13)O3\n",
       "2     NC1=CC2=C(CCC3=COC=C23)S1     NC1=CC2=C(CCC3=CSC=C23)S1\n",
       "3    C1OC2C3NC=[NH+]C33COC2C1C3    C1OC2C3CC=[NH+]CCC3CC1C1C3\n",
       "4      C1CC2OC3C[NH2+]C2CC1OCC3      C1CC2OC3C[NH2+]C2CCCCCC3\n",
       "5       NC1=NNC2=C1CN1C=CC=C1C2       NC1=NNC2=C1CC1==CC=C1C2\n",
       "6     OC1C2CC34CCC(OC(C3)O2)C14     OC1C2CC34CCC(CCCCCCO2)C14\n",
       "7           OC12CCC3CC(C1)CC23O           OC12CCC3CC(C1)CCC2O\n",
       "8  C1[NH2+]C2CC1CN1N=CC(CC2)=N1  C1[NH2+]C2CC1CC11=N(CCC2)=N1\n",
       "9  C1[NH2+]C2CN3C4CC5CC4NC25C13  C1[NH2+]C2CN3C4CC5CCCCC25C13"
      ]
     },
     "execution_count": 6,
     "metadata": {},
     "output_type": "execute_result"
    }
   ],
   "source": [
    "evaluate_ae(encoder, decoder, smiles, 10, params=params)"
   ]
  },
  {
   "cell_type": "code",
   "execution_count": 10,
   "id": "7fc46e16-71e9-4e44-9c81-5fb60ef5641d",
   "metadata": {
    "tags": []
   },
   "outputs": [
    {
     "data": {
      "image/png": "[encoded data removed]",
      "text/plain": [
       "<Figure size 640x480 with 2 Axes>"
      ]
     },
     "metadata": {},
     "output_type": "display_data"
    }
   ],
   "source": [
    "log = pd.read_csv('./logs/log-5.csv')\n",
    "\n",
    "fig, (ax1, ax2) = plt.subplots(2, 1, sharex=True)\n",
    "\n",
    "every = 1\n",
    "\n",
    "ax1.set_ylabel('loss')\n",
    "ax1.plot(log['loss'][::every], color='red')\n",
    "\n",
    "ax2.set_ylabel('accuracy')\n",
    "ax2.plot(log['similarity'][::every])\n",
    "\n",
    "plt.tight_layout()"
   ]
  },
  {
   "cell_type": "code",
   "execution_count": null,
   "id": "7cf2f498-3020-490f-8096-f7c071309bbf",
   "metadata": {},
   "outputs": [],
   "source": []
  }
 ],
 "metadata": {
  "kernelspec": {
   "display_name": "Python 3 (ipykernel)",
   "language": "python",
   "name": "python3"
  },
  "language_info": {
   "codemirror_mode": {
    "name": "ipython",
    "version": 3
   },
   "file_extension": ".py",
   "mimetype": "text/x-python",
   "name": "python",
   "nbconvert_exporter": "python",
   "pygments_lexer": "ipython3",
   "version": "3.11.5"
  }
 },
 "nbformat": 4,
 "nbformat_minor": 5
}
