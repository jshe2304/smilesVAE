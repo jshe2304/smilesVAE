{
 "cells": [
  {
   "cell_type": "code",
   "execution_count": 1,
   "id": "31a54e9b-fa99-41a4-a20c-f51a562d7dd9",
   "metadata": {
    "tags": []
   },
   "outputs": [],
   "source": [
    "import torch\n",
    "import torchvision\n",
    "import torchvision.transforms as transforms\n",
    "import torch.nn as nn\n",
    "import torch.nn.functional as F\n",
    "import torch.optim as optim\n",
    "from torch.utils.data import DataLoader\n",
    "\n",
    "import matplotlib.pyplot as plt\n",
    "import numpy as np\n",
    "import pandas as pd\n",
    "\n",
    "import time\n",
    "import os\n",
    "import random\n",
    "\n",
    "from utils import *\n",
    "from encoder import Encoder\n",
    "from decoder import DecodeNext, Decoder\n",
    "\n",
    "%load_ext autoreload\n",
    "%autoreload 2"
   ]
  },
  {
   "cell_type": "markdown",
   "id": "d35b48d8-6721-45ed-b02b-cfc930beca36",
   "metadata": {},
   "source": [
    "### Data & Model Parameters"
   ]
  },
  {
   "cell_type": "code",
   "execution_count": 2,
   "id": "0502c3c8-8d00-4168-944e-b97398dba0e5",
   "metadata": {
    "tags": []
   },
   "outputs": [],
   "source": [
    "smiles = list(fetch_smiles_gdb13('./data/gdb13/')[0])\n",
    "smiles = random.sample(smiles, 25000)"
   ]
  },
  {
   "cell_type": "code",
   "execution_count": 3,
   "id": "fb0dadff-a3a2-4e62-aaef-fa3ee61ef1c0",
   "metadata": {
    "tags": []
   },
   "outputs": [],
   "source": [
    "params = make_params(smiles=smiles, to_file='gdb13_params.json')\n",
    "#params = make_params(from_file='gdb13_params.json')"
   ]
  },
  {
   "cell_type": "code",
   "execution_count": 4,
   "id": "d8d5af9c-9dd9-4146-af19-c3526b9745b3",
   "metadata": {
    "tags": []
   },
   "outputs": [
    {
     "name": "stdout",
     "output_type": "stream",
     "text": [
      "total_n = 25000\n",
      "train_n = 25000\n",
      "test_n = 0\n"
     ]
    }
   ],
   "source": [
    "total_n = 25000\n",
    "train_n = 25000\n",
    "test_n = total_n - train_n\n",
    "\n",
    "one_hots = to_one_hot(smiles, params)\n",
    "\n",
    "train_dataloader = DataLoader(one_hots[:train_n], batch_size=5, shuffle=True)\n",
    "#test_dataloader = DataLoader(one_hots[train_n:], batch_size=5, shuffle=True)\n",
    "\n",
    "print(f'total_n = {total_n}')\n",
    "print(f'train_n = {train_n}')\n",
    "print(f'test_n = {test_n}')"
   ]
  },
  {
   "cell_type": "markdown",
   "id": "a5af90e7-e697-4a7d-8267-397ec07f8e01",
   "metadata": {},
   "source": [
    "### Model"
   ]
  },
  {
   "cell_type": "code",
   "execution_count": 5,
   "id": "448dd116-efbd-48c4-b88b-fe3c1dcbe967",
   "metadata": {
    "tags": []
   },
   "outputs": [],
   "source": [
    "encoder = Encoder(params)\n",
    "decoder = Decoder(params)"
   ]
  },
  {
   "cell_type": "markdown",
   "id": "ed4473a9-fe6a-40e3-8861-49787af4901c",
   "metadata": {},
   "source": [
    "### Train"
   ]
  },
  {
   "cell_type": "code",
   "execution_count": 6,
   "id": "d50f6ffe-2ccd-4e0b-ab0f-3d571d65c0fd",
   "metadata": {
    "tags": []
   },
   "outputs": [],
   "source": [
    "LR = 0.001\n",
    "EPOCHS = 3"
   ]
  },
  {
   "cell_type": "code",
   "execution_count": 7,
   "id": "f8f4c48e-4b4f-44de-8280-c4538ee4cfa6",
   "metadata": {},
   "outputs": [],
   "source": [
    "encoder_optimizer = optim.Adam(encoder.parameters(), lr=LR)\n",
    "decoder_optimizer = optim.Adam(decoder.parameters(), lr=LR)\n",
    "\n",
    "criterion = nn.CrossEntropyLoss()\n",
    "\n",
    "losses = []\n",
    "\n",
    "encoder.train()\n",
    "decoder.train()\n",
    "\n",
    "for epoch_n in range(EPOCHS):\n",
    "    for x in train_dataloader:\n",
    "        \n",
    "        # x.shape = (N, L, C)\n",
    "        \n",
    "        encoder_optimizer.zero_grad()\n",
    "        decoder_optimizer.zero_grad()\n",
    "        \n",
    "        latents = encoder(x)\n",
    "        \n",
    "        y = decoder(latents, x)\n",
    "        \n",
    "        loss = criterion(y.transpose(1, 2), torch.argmax(x, dim=2))\n",
    "\n",
    "        losses.append(float(loss))\n",
    "        \n",
    "        loss.backward()\n",
    "        \n",
    "        encoder_optimizer.step()\n",
    "        decoder_optimizer.step()"
   ]
  },
  {
   "cell_type": "code",
   "execution_count": 10,
   "id": "60be97bf-56ed-495a-bf17-2fbba02d660b",
   "metadata": {
    "tags": []
   },
   "outputs": [
    {
     "data": {
      "text/plain": [
       "[<matplotlib.lines.Line2D at 0x16ce8dab0>]"
      ]
     },
     "execution_count": 10,
     "metadata": {},
     "output_type": "execute_result"
    },
    {
     "data": {
      "image/png": "[encoded data removed]",
      "text/plain": [
       "<Figure size 640x480 with 1 Axes>"
      ]
     },
     "metadata": {},
     "output_type": "display_data"
    }
   ],
   "source": [
    "plt.plot(losses)"
   ]
  },
  {
   "cell_type": "code",
   "execution_count": 29,
   "id": "44cc54ff-7012-493b-b432-4d9fa619f146",
   "metadata": {
    "tags": []
   },
   "outputs": [],
   "source": [
    "x = one_hots[0:1]\n",
    "\n",
    "latent = encoder(x)\n",
    "\n",
    "y = decoder(latent)"
   ]
  },
  {
   "cell_type": "code",
   "execution_count": 30,
   "id": "6bb7f05f-a15a-4031-9165-025e259315fb",
   "metadata": {
    "tags": []
   },
   "outputs": [
    {
     "data": {
      "text/plain": [
       "tensor(2.8117, grad_fn=<NllLoss2DBackward0>)"
      ]
     },
     "execution_count": 30,
     "metadata": {},
     "output_type": "execute_result"
    }
   ],
   "source": [
    "criterion(\n",
    "    torch.softmax(y, dim=2).transpose(1, 2), \n",
    "    torch.argmax(x, dim=2)\n",
    ")"
   ]
  }
 ],
 "metadata": {
  "kernelspec": {
   "display_name": "Python 3 (ipykernel)",
   "language": "python",
   "name": "python3"
  },
  "language_info": {
   "codemirror_mode": {
    "name": "ipython",
    "version": 3
   },
   "file_extension": ".py",
   "mimetype": "text/x-python",
   "name": "python",
   "nbconvert_exporter": "python",
   "pygments_lexer": "ipython3",
   "version": "3.10.6"
  }
 },
 "nbformat": 4,
 "nbformat_minor": 5
}
