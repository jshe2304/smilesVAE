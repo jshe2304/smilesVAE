{
 "cells": [
  {
   "cell_type": "code",
   "execution_count": 23,
   "id": "31a54e9b-fa99-41a4-a20c-f51a562d7dd9",
   "metadata": {
    "tags": []
   },
   "outputs": [
    {
     "name": "stdout",
     "output_type": "stream",
     "text": [
      "The autoreload extension is already loaded. To reload it, use:\n",
      "  %reload_ext autoreload\n"
     ]
    }
   ],
   "source": [
    "import torch\n",
    "import torch.nn as nn\n",
    "import torch.nn.functional as F\n",
    "import torch.optim as optim\n",
    "from torch.utils.data import DataLoader\n",
    "\n",
    "import matplotlib.pyplot as plt\n",
    "import numpy as np\n",
    "import pandas as pd\n",
    "\n",
    "import time\n",
    "import os\n",
    "import random\n",
    "\n",
    "from utils import *\n",
    "from encoder import Encoder\n",
    "from decoder import DecodeNext, Decoder\n",
    "\n",
    "%load_ext autoreload\n",
    "%autoreload 2"
   ]
  },
  {
   "cell_type": "markdown",
   "id": "d35b48d8-6721-45ed-b02b-cfc930beca36",
   "metadata": {},
   "source": [
    "### Data & Model Parameters"
   ]
  },
  {
   "cell_type": "code",
   "execution_count": 24,
   "id": "0502c3c8-8d00-4168-944e-b97398dba0e5",
   "metadata": {
    "tags": []
   },
   "outputs": [],
   "source": [
    "smiles = list(fetch_smiles_gdb13('./data/gdb13/')[0])\n",
    "smiles = random.sample(smiles, 50000)"
   ]
  },
  {
   "cell_type": "code",
   "execution_count": 25,
   "id": "fb0dadff-a3a2-4e62-aaef-fa3ee61ef1c0",
   "metadata": {
    "tags": []
   },
   "outputs": [],
   "source": [
    "params = make_params(smiles=smiles, GRU_HIDDEN_DIM=256, to_file='gdb13_params.json')\n",
    "#params = make_params(from_file='gdb13_params.json')"
   ]
  },
  {
   "cell_type": "code",
   "execution_count": 26,
   "id": "d8d5af9c-9dd9-4146-af19-c3526b9745b3",
   "metadata": {
    "tags": []
   },
   "outputs": [
    {
     "name": "stdout",
     "output_type": "stream",
     "text": [
      "total_n = 50000\n",
      "train_n = 50000\n",
      "test_n = 0\n"
     ]
    }
   ],
   "source": [
    "total_n = 50000\n",
    "train_n = 50000\n",
    "test_n = total_n - train_n\n",
    "\n",
    "one_hots = to_one_hot(smiles, params)\n",
    "\n",
    "train_dataloader = DataLoader(one_hots[:train_n], batch_size=5, shuffle=True)\n",
    "#test_dataloader = DataLoader(one_hots[train_n:], batch_size=5, shuffle=True)\n",
    "\n",
    "print(f'total_n = {total_n}')\n",
    "print(f'train_n = {train_n}')\n",
    "print(f'test_n = {test_n}')"
   ]
  },
  {
   "cell_type": "markdown",
   "id": "a5af90e7-e697-4a7d-8267-397ec07f8e01",
   "metadata": {},
   "source": [
    "### Model"
   ]
  },
  {
   "cell_type": "code",
   "execution_count": 27,
   "id": "448dd116-efbd-48c4-b88b-fe3c1dcbe967",
   "metadata": {
    "tags": []
   },
   "outputs": [],
   "source": [
    "encoder = Encoder(params)\n",
    "decoder = Decoder(params)"
   ]
  },
  {
   "cell_type": "markdown",
   "id": "ed4473a9-fe6a-40e3-8861-49787af4901c",
   "metadata": {},
   "source": [
    "### Train"
   ]
  },
  {
   "cell_type": "code",
   "execution_count": 28,
   "id": "d50f6ffe-2ccd-4e0b-ab0f-3d571d65c0fd",
   "metadata": {
    "tags": []
   },
   "outputs": [],
   "source": [
    "LR = 0.0001\n",
    "EPOCHS = 3"
   ]
  },
  {
   "cell_type": "code",
   "execution_count": 11,
   "id": "f8f4c48e-4b4f-44de-8280-c4538ee4cfa6",
   "metadata": {},
   "outputs": [],
   "source": [
    "encoder_optimizer = optim.Adam(encoder.parameters(), lr=LR)\n",
    "decoder_optimizer = optim.Adam(decoder.parameters(), lr=LR)\n",
    "\n",
    "criterion = nn.CrossEntropyLoss()\n",
    "\n",
    "losses = []\n",
    "\n",
    "encoder.train()\n",
    "decoder.train()\n",
    "\n",
    "for epoch_n in range(EPOCHS):\n",
    "    for x in train_dataloader:\n",
    "        \n",
    "        # x.shape = (N, L, C)\n",
    "        \n",
    "        encoder_optimizer.zero_grad()\n",
    "        decoder_optimizer.zero_grad()\n",
    "        \n",
    "        latents = encoder(x)\n",
    "        \n",
    "        y = decoder(latents, target=x)\n",
    "        \n",
    "        loss = criterion(y.transpose(1, 2), torch.argmax(x, dim=2))\n",
    "\n",
    "        losses.append(float(loss))\n",
    "        \n",
    "        loss.backward()\n",
    "        \n",
    "        encoder_optimizer.step()\n",
    "        decoder_optimizer.step()\n",
    "        \n",
    "torch.save(mo)"
   ]
  },
  {
   "cell_type": "code",
   "execution_count": 12,
   "id": "60be97bf-56ed-495a-bf17-2fbba02d660b",
   "metadata": {
    "tags": []
   },
   "outputs": [
    {
     "data": {
      "text/plain": [
       "[<matplotlib.lines.Line2D at 0x7f2f3d4de610>]"
      ]
     },
     "execution_count": 12,
     "metadata": {},
     "output_type": "execute_result"
    },
    {
     "data": {
      "image/png": "[encoded data removed]",
      "text/plain": [
       "<Figure size 640x480 with 1 Axes>"
      ]
     },
     "metadata": {},
     "output_type": "display_data"
    }
   ],
   "source": [
    "plt.plot(losses)"
   ]
  },
  {
   "cell_type": "code",
   "execution_count": 13,
   "id": "44cc54ff-7012-493b-b432-4d9fa619f146",
   "metadata": {
    "tags": []
   },
   "outputs": [],
   "source": [
    "x = one_hots[0:1]\n",
    "\n",
    "latent = encoder(x)\n",
    "\n",
    "y = decoder(latent)"
   ]
  },
  {
   "cell_type": "code",
   "execution_count": 14,
   "id": "6bb7f05f-a15a-4031-9165-025e259315fb",
   "metadata": {
    "tags": []
   },
   "outputs": [
    {
     "data": {
      "text/plain": [
       "tensor(2.7316, grad_fn=<NllLoss2DBackward0>)"
      ]
     },
     "execution_count": 14,
     "metadata": {},
     "output_type": "execute_result"
    }
   ],
   "source": [
    "criterion(\n",
    "    torch.softmax(y, dim=2).transpose(1, 2), \n",
    "    torch.argmax(x, dim=2)\n",
    ")"
   ]
  },
  {
   "cell_type": "code",
   "execution_count": 16,
   "id": "c48c4704-e539-4189-8561-3c3cba5029d1",
   "metadata": {
    "tags": []
   },
   "outputs": [
    {
     "data": {
      "text/plain": [
       "['C1C2OC3CNC4C2C[NH+]1CC4O3']"
      ]
     },
     "execution_count": 16,
     "metadata": {},
     "output_type": "execute_result"
    }
   ],
   "source": [
    "from_one_hot(x, params)"
   ]
  },
  {
   "cell_type": "code",
   "execution_count": 20,
   "id": "9df59850-0393-4f55-8311-ee1d6209bc85",
   "metadata": {
    "tags": []
   },
   "outputs": [
    {
     "data": {
      "text/plain": [
       "tensor([[[1.1965e-01, 4.4017e-02, 4.4017e-02, 4.4017e-02, 4.4017e-02,\n",
       "          4.4017e-02, 4.4017e-02, 4.4017e-02, 4.4017e-02, 4.4017e-02,\n",
       "          4.4017e-02, 4.4017e-02, 4.4017e-02, 4.4017e-02, 4.4017e-02,\n",
       "          4.4017e-02, 4.4017e-02, 4.4017e-02, 4.4017e-02, 4.4017e-02,\n",
       "          4.4017e-02],\n",
       "         [3.8687e-04, 3.8687e-04, 3.8687e-04, 3.8687e-04, 3.8687e-04,\n",
       "          3.8687e-04, 3.8687e-04, 3.8687e-04, 3.8687e-04, 3.8687e-04,\n",
       "          3.8687e-04, 3.8687e-04, 4.6169e-01, 3.8687e-04, 1.6583e-02,\n",
       "          5.1476e-01, 3.8687e-04, 3.8687e-04, 3.8687e-04, 3.8687e-04,\n",
       "          3.8687e-04],\n",
       "         [1.9538e-11, 1.9538e-11, 1.9538e-11, 1.9538e-11, 1.9538e-11,\n",
       "          1.0000e+00, 4.0958e-08, 1.9538e-11, 1.9538e-11, 1.9538e-11,\n",
       "          1.9538e-11, 1.2233e-07, 2.0147e-10, 1.9538e-11, 1.9538e-11,\n",
       "          1.9538e-11, 1.9538e-11, 1.9538e-11, 1.9538e-11, 1.9538e-11,\n",
       "          1.9538e-11],\n",
       "         [1.7230e-08, 1.7230e-08, 1.7230e-08, 1.7230e-08, 1.7230e-08,\n",
       "          1.7230e-08, 1.7230e-08, 1.7230e-08, 1.7230e-08, 1.7230e-08,\n",
       "          1.7230e-08, 1.7230e-08, 2.8413e-02, 1.7230e-08, 4.6421e-07,\n",
       "          1.1407e-05, 1.7230e-08, 1.7230e-08, 1.7230e-08, 1.7230e-08,\n",
       "          9.7157e-01],\n",
       "         [1.3175e-18, 1.3175e-18, 1.3175e-18, 1.3175e-18, 1.3175e-18,\n",
       "          3.5643e-18, 9.4264e-18, 1.3175e-18, 1.3175e-18, 1.3175e-18,\n",
       "          1.3175e-18, 1.3175e-18, 5.2290e-17, 1.3175e-18, 1.3175e-18,\n",
       "          1.3175e-18, 1.3175e-18, 1.3175e-18, 1.3175e-18, 1.3175e-18,\n",
       "          1.0000e+00],\n",
       "         [6.6874e-20, 6.6874e-20, 6.6874e-20, 6.6874e-20, 6.6874e-20,\n",
       "          6.6874e-20, 1.2154e-19, 6.6874e-20, 6.6874e-20, 6.6874e-20,\n",
       "          6.6874e-20, 6.6874e-20, 1.1841e-19, 6.6874e-20, 6.6874e-20,\n",
       "          6.6874e-20, 6.6874e-20, 6.6874e-20, 6.6874e-20, 6.6874e-20,\n",
       "          1.0000e+00],\n",
       "         [5.8547e-20, 5.8547e-20, 5.8547e-20, 5.8547e-20, 5.8547e-20,\n",
       "          5.8547e-20, 9.5005e-20, 5.8547e-20, 5.8547e-20, 5.8547e-20,\n",
       "          5.8547e-20, 5.8547e-20, 1.2308e-19, 5.8547e-20, 5.8547e-20,\n",
       "          5.8547e-20, 5.8547e-20, 5.8547e-20, 5.8547e-20, 5.8547e-20,\n",
       "          1.0000e+00],\n",
       "         [5.8411e-20, 5.8411e-20, 5.8411e-20, 5.8411e-20, 5.8411e-20,\n",
       "          5.8411e-20, 9.2880e-20, 5.8411e-20, 5.8411e-20, 5.8411e-20,\n",
       "          5.8411e-20, 5.8411e-20, 1.2396e-19, 5.8411e-20, 5.8411e-20,\n",
       "          5.8411e-20, 5.8411e-20, 5.8411e-20, 5.8411e-20, 5.8411e-20,\n",
       "          1.0000e+00],\n",
       "         [5.8804e-20, 5.8804e-20, 5.8804e-20, 5.8804e-20, 5.8804e-20,\n",
       "          5.8804e-20, 9.1287e-20, 5.8804e-20, 5.8804e-20, 5.8804e-20,\n",
       "          5.8804e-20, 5.8804e-20, 1.2420e-19, 5.8804e-20, 5.8804e-20,\n",
       "          5.8804e-20, 5.8804e-20, 5.8804e-20, 5.8804e-20, 5.8804e-20,\n",
       "          1.0000e+00],\n",
       "         [5.9228e-20, 5.9228e-20, 5.9228e-20, 5.9228e-20, 5.9228e-20,\n",
       "          5.9228e-20, 8.9736e-20, 5.9228e-20, 5.9228e-20, 5.9228e-20,\n",
       "          5.9228e-20, 5.9228e-20, 1.2447e-19, 5.9228e-20, 5.9228e-20,\n",
       "          5.9228e-20, 5.9228e-20, 5.9228e-20, 5.9228e-20, 5.9228e-20,\n",
       "          1.0000e+00],\n",
       "         [5.9646e-20, 5.9646e-20, 5.9646e-20, 5.9646e-20, 5.9646e-20,\n",
       "          5.9646e-20, 8.8277e-20, 5.9646e-20, 5.9646e-20, 5.9646e-20,\n",
       "          5.9646e-20, 5.9646e-20, 1.2474e-19, 5.9646e-20, 5.9646e-20,\n",
       "          5.9646e-20, 5.9646e-20, 5.9646e-20, 5.9646e-20, 5.9646e-20,\n",
       "          1.0000e+00],\n",
       "         [6.0060e-20, 6.0060e-20, 6.0060e-20, 6.0060e-20, 6.0060e-20,\n",
       "          6.0060e-20, 8.6908e-20, 6.0060e-20, 6.0060e-20, 6.0060e-20,\n",
       "          6.0060e-20, 6.0060e-20, 1.2501e-19, 6.0060e-20, 6.0060e-20,\n",
       "          6.0060e-20, 6.0060e-20, 6.0060e-20, 6.0060e-20, 6.0060e-20,\n",
       "          1.0000e+00],\n",
       "         [6.0471e-20, 6.0471e-20, 6.0471e-20, 6.0471e-20, 6.0471e-20,\n",
       "          6.0471e-20, 8.5622e-20, 6.0471e-20, 6.0471e-20, 6.0471e-20,\n",
       "          6.0471e-20, 6.0471e-20, 1.2530e-19, 6.0471e-20, 6.0471e-20,\n",
       "          6.0471e-20, 6.0471e-20, 6.0471e-20, 6.0471e-20, 6.0471e-20,\n",
       "          1.0000e+00],\n",
       "         [6.0879e-20, 6.0879e-20, 6.0879e-20, 6.0879e-20, 6.0879e-20,\n",
       "          6.0879e-20, 8.4412e-20, 6.0879e-20, 6.0879e-20, 6.0879e-20,\n",
       "          6.0879e-20, 6.0879e-20, 1.2559e-19, 6.0879e-20, 6.0879e-20,\n",
       "          6.0879e-20, 6.0879e-20, 6.0879e-20, 6.0879e-20, 6.0879e-20,\n",
       "          1.0000e+00],\n",
       "         [6.1284e-20, 6.1284e-20, 6.1284e-20, 6.1284e-20, 6.1284e-20,\n",
       "          6.1284e-20, 8.3272e-20, 6.1284e-20, 6.1284e-20, 6.1284e-20,\n",
       "          6.1284e-20, 6.1284e-20, 1.2588e-19, 6.1284e-20, 6.1284e-20,\n",
       "          6.1284e-20, 6.1284e-20, 6.1284e-20, 6.1284e-20, 6.1284e-20,\n",
       "          1.0000e+00],\n",
       "         [6.1685e-20, 6.1685e-20, 6.1685e-20, 6.1685e-20, 6.1685e-20,\n",
       "          6.1685e-20, 8.2199e-20, 6.1685e-20, 6.1685e-20, 6.1685e-20,\n",
       "          6.1685e-20, 6.1685e-20, 1.2618e-19, 6.1685e-20, 6.1685e-20,\n",
       "          6.1685e-20, 6.1685e-20, 6.1685e-20, 6.1685e-20, 6.1685e-20,\n",
       "          1.0000e+00],\n",
       "         [6.2084e-20, 6.2084e-20, 6.2084e-20, 6.2084e-20, 6.2084e-20,\n",
       "          6.2084e-20, 8.1186e-20, 6.2084e-20, 6.2084e-20, 6.2084e-20,\n",
       "          6.2084e-20, 6.2084e-20, 1.2649e-19, 6.2084e-20, 6.2084e-20,\n",
       "          6.2084e-20, 6.2084e-20, 6.2084e-20, 6.2084e-20, 6.2084e-20,\n",
       "          1.0000e+00],\n",
       "         [6.2479e-20, 6.2479e-20, 6.2479e-20, 6.2479e-20, 6.2479e-20,\n",
       "          6.2479e-20, 8.0230e-20, 6.2479e-20, 6.2479e-20, 6.2479e-20,\n",
       "          6.2479e-20, 6.2479e-20, 1.2680e-19, 6.2479e-20, 6.2479e-20,\n",
       "          6.2479e-20, 6.2479e-20, 6.2479e-20, 6.2479e-20, 6.2479e-20,\n",
       "          1.0000e+00],\n",
       "         [6.2871e-20, 6.2871e-20, 6.2871e-20, 6.2871e-20, 6.2871e-20,\n",
       "          6.2871e-20, 7.9328e-20, 6.2871e-20, 6.2871e-20, 6.2871e-20,\n",
       "          6.2871e-20, 6.2871e-20, 1.2711e-19, 6.2871e-20, 6.2871e-20,\n",
       "          6.2871e-20, 6.2871e-20, 6.2871e-20, 6.2871e-20, 6.2871e-20,\n",
       "          1.0000e+00],\n",
       "         [6.3261e-20, 6.3261e-20, 6.3261e-20, 6.3261e-20, 6.3261e-20,\n",
       "          6.3261e-20, 7.8475e-20, 6.3261e-20, 6.3261e-20, 6.3261e-20,\n",
       "          6.3261e-20, 6.3261e-20, 1.2743e-19, 6.3261e-20, 6.3261e-20,\n",
       "          6.3261e-20, 6.3261e-20, 6.3261e-20, 6.3261e-20, 6.3261e-20,\n",
       "          1.0000e+00],\n",
       "         [6.3647e-20, 6.3647e-20, 6.3647e-20, 6.3647e-20, 6.3647e-20,\n",
       "          6.3647e-20, 7.7668e-20, 6.3647e-20, 6.3647e-20, 6.3647e-20,\n",
       "          6.3647e-20, 6.3647e-20, 1.2775e-19, 6.3647e-20, 6.3647e-20,\n",
       "          6.3647e-20, 6.3647e-20, 6.3647e-20, 6.3647e-20, 6.3647e-20,\n",
       "          1.0000e+00],\n",
       "         [6.4031e-20, 6.4031e-20, 6.4031e-20, 6.4031e-20, 6.4031e-20,\n",
       "          6.4031e-20, 7.6905e-20, 6.4031e-20, 6.4031e-20, 6.4031e-20,\n",
       "          6.4031e-20, 6.4031e-20, 1.2808e-19, 6.4031e-20, 6.4031e-20,\n",
       "          6.4031e-20, 6.4031e-20, 6.4031e-20, 6.4031e-20, 6.4031e-20,\n",
       "          1.0000e+00],\n",
       "         [6.4412e-20, 6.4412e-20, 6.4412e-20, 6.4412e-20, 6.4412e-20,\n",
       "          6.4412e-20, 7.6182e-20, 6.4412e-20, 6.4412e-20, 6.4412e-20,\n",
       "          6.4412e-20, 6.4412e-20, 1.2841e-19, 6.4412e-20, 6.4412e-20,\n",
       "          6.4412e-20, 6.4412e-20, 6.4412e-20, 6.4412e-20, 6.4412e-20,\n",
       "          1.0000e+00],\n",
       "         [6.4790e-20, 6.4790e-20, 6.4790e-20, 6.4790e-20, 6.4790e-20,\n",
       "          6.4790e-20, 7.5497e-20, 6.4790e-20, 6.4790e-20, 6.4790e-20,\n",
       "          6.4790e-20, 6.4790e-20, 1.2874e-19, 6.4790e-20, 6.4790e-20,\n",
       "          6.4790e-20, 6.4790e-20, 6.4790e-20, 6.4790e-20, 6.4790e-20,\n",
       "          1.0000e+00],\n",
       "         [6.5166e-20, 6.5166e-20, 6.5166e-20, 6.5166e-20, 6.5166e-20,\n",
       "          6.5166e-20, 7.4848e-20, 6.5166e-20, 6.5166e-20, 6.5166e-20,\n",
       "          6.5166e-20, 6.5166e-20, 1.2907e-19, 6.5166e-20, 6.5166e-20,\n",
       "          6.5166e-20, 6.5166e-20, 6.5166e-20, 6.5166e-20, 6.5166e-20,\n",
       "          1.0000e+00],\n",
       "         [6.5539e-20, 6.5539e-20, 6.5539e-20, 6.5539e-20, 6.5539e-20,\n",
       "          6.5539e-20, 7.4233e-20, 6.5539e-20, 6.5539e-20, 6.5539e-20,\n",
       "          6.5539e-20, 6.5539e-20, 1.2941e-19, 6.5539e-20, 6.5539e-20,\n",
       "          6.5539e-20, 6.5539e-20, 6.5539e-20, 6.5539e-20, 6.5539e-20,\n",
       "          1.0000e+00],\n",
       "         [6.5910e-20, 6.5910e-20, 6.5910e-20, 6.5910e-20, 6.5910e-20,\n",
       "          6.5910e-20, 7.3650e-20, 6.5910e-20, 6.5910e-20, 6.5910e-20,\n",
       "          6.5910e-20, 6.5910e-20, 1.2975e-19, 6.5910e-20, 6.5910e-20,\n",
       "          6.5910e-20, 6.5910e-20, 6.5910e-20, 6.5910e-20, 6.5910e-20,\n",
       "          1.0000e+00],\n",
       "         [6.6279e-20, 6.6279e-20, 6.6279e-20, 6.6279e-20, 6.6279e-20,\n",
       "          6.6279e-20, 7.3097e-20, 6.6279e-20, 6.6279e-20, 6.6279e-20,\n",
       "          6.6279e-20, 6.6279e-20, 1.3009e-19, 6.6279e-20, 6.6279e-20,\n",
       "          6.6279e-20, 6.6279e-20, 6.6279e-20, 6.6279e-20, 6.6279e-20,\n",
       "          1.0000e+00],\n",
       "         [6.6644e-20, 6.6644e-20, 6.6644e-20, 6.6644e-20, 6.6644e-20,\n",
       "          6.6644e-20, 7.2572e-20, 6.6644e-20, 6.6644e-20, 6.6644e-20,\n",
       "          6.6644e-20, 6.6644e-20, 1.3043e-19, 6.6644e-20, 6.6644e-20,\n",
       "          6.6644e-20, 6.6644e-20, 6.6644e-20, 6.6644e-20, 6.6644e-20,\n",
       "          1.0000e+00],\n",
       "         [6.7008e-20, 6.7008e-20, 6.7008e-20, 6.7008e-20, 6.7008e-20,\n",
       "          6.7008e-20, 7.2074e-20, 6.7008e-20, 6.7008e-20, 6.7008e-20,\n",
       "          6.7008e-20, 6.7008e-20, 1.3078e-19, 6.7008e-20, 6.7008e-20,\n",
       "          6.7008e-20, 6.7008e-20, 6.7008e-20, 6.7008e-20, 6.7008e-20,\n",
       "          1.0000e+00],\n",
       "         [6.7370e-20, 6.7370e-20, 6.7370e-20, 6.7370e-20, 6.7370e-20,\n",
       "          6.7370e-20, 7.1601e-20, 6.7370e-20, 6.7370e-20, 6.7370e-20,\n",
       "          6.7370e-20, 6.7370e-20, 1.3112e-19, 6.7370e-20, 6.7370e-20,\n",
       "          6.7370e-20, 6.7370e-20, 6.7370e-20, 6.7370e-20, 6.7370e-20,\n",
       "          1.0000e+00],\n",
       "         [6.7729e-20, 6.7729e-20, 6.7729e-20, 6.7729e-20, 6.7729e-20,\n",
       "          6.7729e-20, 7.1153e-20, 6.7729e-20, 6.7729e-20, 6.7729e-20,\n",
       "          6.7729e-20, 6.7729e-20, 1.3147e-19, 6.7729e-20, 6.7729e-20,\n",
       "          6.7729e-20, 6.7729e-20, 6.7729e-20, 6.7729e-20, 6.7729e-20,\n",
       "          1.0000e+00],\n",
       "         [6.8086e-20, 6.8086e-20, 6.8086e-20, 6.8086e-20, 6.8086e-20,\n",
       "          6.8086e-20, 7.0727e-20, 6.8086e-20, 6.8086e-20, 6.8086e-20,\n",
       "          6.8086e-20, 6.8086e-20, 1.3182e-19, 6.8086e-20, 6.8086e-20,\n",
       "          6.8086e-20, 6.8086e-20, 6.8086e-20, 6.8086e-20, 6.8086e-20,\n",
       "          1.0000e+00],\n",
       "         [6.8441e-20, 6.8441e-20, 6.8441e-20, 6.8441e-20, 6.8441e-20,\n",
       "          6.8441e-20, 7.0322e-20, 6.8441e-20, 6.8441e-20, 6.8441e-20,\n",
       "          6.8441e-20, 6.8441e-20, 1.3217e-19, 6.8441e-20, 6.8441e-20,\n",
       "          6.8441e-20, 6.8441e-20, 6.8441e-20, 6.8441e-20, 6.8441e-20,\n",
       "          1.0000e+00],\n",
       "         [6.8795e-20, 6.8795e-20, 6.8795e-20, 6.8795e-20, 6.8795e-20,\n",
       "          6.8795e-20, 6.9938e-20, 6.8795e-20, 6.8795e-20, 6.8795e-20,\n",
       "          6.8795e-20, 6.8795e-20, 1.3253e-19, 6.8795e-20, 6.8795e-20,\n",
       "          6.8795e-20, 6.8795e-20, 6.8795e-20, 6.8795e-20, 6.8795e-20,\n",
       "          1.0000e+00],\n",
       "         [6.9146e-20, 6.9146e-20, 6.9146e-20, 6.9146e-20, 6.9146e-20,\n",
       "          6.9146e-20, 6.9574e-20, 6.9146e-20, 6.9146e-20, 6.9146e-20,\n",
       "          6.9146e-20, 6.9146e-20, 1.3288e-19, 6.9146e-20, 6.9146e-20,\n",
       "          6.9146e-20, 6.9146e-20, 6.9146e-20, 6.9146e-20, 6.9146e-20,\n",
       "          1.0000e+00],\n",
       "         [6.9495e-20, 6.9495e-20, 6.9495e-20, 6.9495e-20, 6.9495e-20,\n",
       "          6.9495e-20, 6.9495e-20, 6.9495e-20, 6.9495e-20, 6.9495e-20,\n",
       "          6.9495e-20, 6.9495e-20, 1.3323e-19, 6.9495e-20, 6.9495e-20,\n",
       "          6.9495e-20, 6.9495e-20, 6.9495e-20, 6.9495e-20, 6.9495e-20,\n",
       "          1.0000e+00],\n",
       "         [6.9902e-20, 6.9902e-20, 6.9902e-20, 6.9902e-20, 6.9902e-20,\n",
       "          6.9902e-20, 6.9902e-20, 6.9902e-20, 6.9902e-20, 6.9902e-20,\n",
       "          6.9902e-20, 6.9902e-20, 1.3366e-19, 6.9902e-20, 6.9902e-20,\n",
       "          6.9902e-20, 6.9902e-20, 6.9902e-20, 6.9902e-20, 6.9902e-20,\n",
       "          1.0000e+00],\n",
       "         [7.0396e-20, 7.0396e-20, 7.0396e-20, 7.0396e-20, 7.0396e-20,\n",
       "          7.0396e-20, 7.0396e-20, 7.0396e-20, 7.0396e-20, 7.0396e-20,\n",
       "          7.0396e-20, 7.0396e-20, 1.3420e-19, 7.0396e-20, 7.0396e-20,\n",
       "          7.0396e-20, 7.0396e-20, 7.0396e-20, 7.0396e-20, 7.0396e-20,\n",
       "          1.0000e+00],\n",
       "         [7.0895e-20, 7.0895e-20, 7.0895e-20, 7.0895e-20, 7.0895e-20,\n",
       "          7.0895e-20, 7.0895e-20, 7.0895e-20, 7.0895e-20, 7.0895e-20,\n",
       "          7.0895e-20, 7.0895e-20, 1.3475e-19, 7.0895e-20, 7.0895e-20,\n",
       "          7.0895e-20, 7.0895e-20, 7.0895e-20, 7.0895e-20, 7.0895e-20,\n",
       "          1.0000e+00]]], grad_fn=<SoftmaxBackward0>)"
      ]
     },
     "execution_count": 20,
     "metadata": {},
     "output_type": "execute_result"
    }
   ],
   "source": [
    "torch.softmax(y, dim=2)"
   ]
  },
  {
   "cell_type": "code",
   "execution_count": null,
   "id": "60e345d2-e614-4d9c-81d0-37c8d00bc742",
   "metadata": {},
   "outputs": [],
   "source": []
  }
 ],
 "metadata": {
  "kernelspec": {
   "display_name": "Python 3 (ipykernel)",
   "language": "python",
   "name": "python3"
  },
  "language_info": {
   "codemirror_mode": {
    "name": "ipython",
    "version": 3
   },
   "file_extension": ".py",
   "mimetype": "text/x-python",
   "name": "python",
   "nbconvert_exporter": "python",
   "pygments_lexer": "ipython3",
   "version": "3.11.5"
  }
 },
 "nbformat": 4,
 "nbformat_minor": 5
}
