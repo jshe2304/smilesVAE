{
 "cells": [
  {
   "cell_type": "code",
   "execution_count": 1,
   "id": "31a54e9b-fa99-41a4-a20c-f51a562d7dd9",
   "metadata": {
    "tags": []
   },
   "outputs": [],
   "source": [
    "import torch\n",
    "import torch.nn as nn\n",
    "import torch.nn.functional as F\n",
    "import torch.optim as optim\n",
    "from torch.utils.data import DataLoader\n",
    "\n",
    "import matplotlib.pyplot as plt\n",
    "import numpy as np\n",
    "import pandas as pd\n",
    "\n",
    "import time\n",
    "import os\n",
    "import random\n",
    "\n",
    "from utils import *\n",
    "from encoder import Encoder\n",
    "from decoder import DecodeNext, Decoder\n",
    "\n",
    "%load_ext autoreload\n",
    "%autoreload 2"
   ]
  },
  {
   "cell_type": "markdown",
   "id": "d35b48d8-6721-45ed-b02b-cfc930beca36",
   "metadata": {
    "tags": []
   },
   "source": [
    "### Data & Model Parameters"
   ]
  },
  {
   "cell_type": "code",
   "execution_count": 3,
   "id": "0502c3c8-8d00-4168-944e-b97398dba0e5",
   "metadata": {
    "tags": []
   },
   "outputs": [],
   "source": [
    "smiles = list(fetch_smiles_gdb13('./data/gdb13/')[0])"
   ]
  },
  {
   "cell_type": "code",
   "execution_count": 4,
   "id": "fb0dadff-a3a2-4e62-aaef-fa3ee61ef1c0",
   "metadata": {
    "tags": []
   },
   "outputs": [],
   "source": [
    "params = make_params(smiles=smiles, GRU_HIDDEN_DIM=256, LATENT_DIM=128, to_file='gdb13_params.json')\n",
    "#params = make_params(from_file='gdb13_params.json')"
   ]
  },
  {
   "cell_type": "markdown",
   "id": "a5af90e7-e697-4a7d-8267-397ec07f8e01",
   "metadata": {},
   "source": [
    "### Model"
   ]
  },
  {
   "cell_type": "code",
   "execution_count": 5,
   "id": "448dd116-efbd-48c4-b88b-fe3c1dcbe967",
   "metadata": {
    "tags": []
   },
   "outputs": [],
   "source": [
    "encoder = Encoder(params)\n",
    "decoder = Decoder(params)"
   ]
  },
  {
   "cell_type": "code",
   "execution_count": 6,
   "id": "1e64e725-0e16-4fba-8afa-6020018896fe",
   "metadata": {
    "tags": []
   },
   "outputs": [
    {
     "data": {
      "text/plain": [
       "<All keys matched successfully>"
      ]
     },
     "execution_count": 6,
     "metadata": {},
     "output_type": "execute_result"
    }
   ],
   "source": [
    "encoder.load_state_dict(torch.load('weights/encoder_weights.pth'))\n",
    "decoder.load_state_dict(torch.load('weights/decoder_weights.pth'))"
   ]
  },
  {
   "cell_type": "markdown",
   "id": "c03e54ee-e95d-472a-a8f9-36ad587fb6ee",
   "metadata": {},
   "source": [
    "## Test"
   ]
  },
  {
   "cell_type": "code",
   "execution_count": 9,
   "id": "5b7067bd-1055-4927-9f61-6d4355e4c8cb",
   "metadata": {
    "tags": []
   },
   "outputs": [
    {
     "name": "stdout",
     "output_type": "stream",
     "text": [
      "mean token matching: 0.1872750073671341\n",
      "\n",
      "['[NH3+]C1COC2=C1SC1=C2COCO1', '[NH2+]=C1NCC2CC1N1CCOC2C1', 'O=C1CC2[NH2+]CCC2C2=C1C=NS2', 'O=C1CNC2CC3=C(OC=C3)C12', 'OC1C2OCC11C[NH2+]C(C1)CCO2', '[NH3+]C1C2CC3CC4COC3C(O2)C14', 'OC1C2CCC(O2)C1C1=CC=CN1', 'OC12CCOCC34CC1[NH+](CC23)C4', 'OC1COC2=C(C1)C1=C(O2)C=NS1', 'NC1=C2C=CC3=NCCN3C2=CO1']\n",
      "['<BOS>2--2<EOS>-]22<EOS><EOS><EOS>]]]22<EOS>2l<EOS>2<EOS><EOS><EOS><EOS>=N2<EOS><EOS>22l<EOS>2<EOS>2<EOS>', '<BOS>2--2<EOS>-]222<EOS>2<EOS>25+<EOS><EOS><EOS><EOS>22H2)]==N)N3+]22<EOS>2=', '<BOS>C254=C=N=-]221<EOS>13H<EOS><EOS><EOS>2<EOS><EOS><EOS>2<EOS><EOS><EOS><EOS>2<EOS><EOS><EOS><EOS>=<EOS><EOS><EOS>', '<BOS>2--2<EOS>-]22<EOS><EOS><EOS>]]]2<EOS>2<EOS><EOS>2N1<EOS>22222<EOS>22-CN2<EOS>22', '<BOS>C2S1==NNNNNNN=N2N=NHH<EOS><EOS>2)<EOS>11<EOS>1HH<EOS><EOS><EOS><EOS><EOS><EOS><EOS>', '<BOS>OS1N=NN1HH<EOS><EOS>2<EOS><EOS><EOS><EOS>C2l<EOS><EOS>5l<EOS>222<EOS>2<EOS>l)N12lHN', '<BOS>C251=C=N=N==C=H<EOS>2=<EOS>2l<EOS>N2]1]==H22]<EOS><EOS>2<EOS><EOS>=', '<BOS>C254=C=N=-]<EOS>21<EOS>2<EOS><EOS><EOS>3<EOS>2<EOS><EOS>23C5)C1=C5+]<EOS><EOS>-', '<BOS>C254=C=N=-]<EOS><EOS><EOS><EOS>23H1<EOS><EOS>=<EOS><EOS><EOS><EOS><EOS><EOS><EOS><EOS><EOS>2<EOS><EOS>134=H', '<BOS>C251=C=N=N==122<EOS>]<EOS>21Hl<EOS>23H2l<EOS>255H11C2-]']\n"
     ]
    }
   ],
   "source": [
    "evaluate_ae(encoder, decoder, smiles, 1000, params=params)"
   ]
  },
  {
   "cell_type": "code",
   "execution_count": null,
   "id": "2ecad31b-c318-4255-bf1a-546b82477594",
   "metadata": {},
   "outputs": [],
   "source": []
  }
 ],
 "metadata": {
  "kernelspec": {
   "display_name": "Python 3 (ipykernel)",
   "language": "python",
   "name": "python3"
  },
  "language_info": {
   "codemirror_mode": {
    "name": "ipython",
    "version": 3
   },
   "file_extension": ".py",
   "mimetype": "text/x-python",
   "name": "python",
   "nbconvert_exporter": "python",
   "pygments_lexer": "ipython3",
   "version": "3.10.6"
  }
 },
 "nbformat": 4,
 "nbformat_minor": 5
}
