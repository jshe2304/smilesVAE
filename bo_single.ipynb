{
 "cells": [
  {
   "cell_type": "markdown",
   "id": "28dcff94-3df8-4910-8f6b-4645ddacf416",
   "metadata": {
    "tags": []
   },
   "source": [
    "# Single Objective Bayesian Optimization"
   ]
  },
  {
   "cell_type": "code",
   "execution_count": 77,
   "id": "a7d3f2ab-1bb3-4d60-b699-afca04e7005d",
   "metadata": {
    "tags": []
   },
   "outputs": [
    {
     "name": "stdout",
     "output_type": "stream",
     "text": [
      "The autoreload extension is already loaded. To reload it, use:\n",
      "  %reload_ext autoreload\n"
     ]
    }
   ],
   "source": [
    "from botorch.utils.transforms import normalize, unnormalize\n",
    "from botorch.models.transforms import Standardize, Normalize\n",
    "from botorch.models import SingleTaskGP\n",
    "from gpytorch.mlls import ExactMarginalLogLikelihood\n",
    "from botorch.fit import fit_gpytorch_mll\n",
    "from botorch.optim import optimize_acqf\n",
    "from botorch.acquisition.monte_carlo import qExpectedImprovement\n",
    "\n",
    "import sys\n",
    "from rdkit.Chem import MolFromSmiles, RDConfig\n",
    "from rdkit.Chem.QED import qed as QED\n",
    "sys.path.append(os.path.join(RDConfig.RDContribDir, 'SA_Score'))\n",
    "from sascorer import calculateScore as SAS\n",
    "\n",
    "from matplotlib import pyplot as plt\n",
    "from tqdm import tqdm\n",
    "\n",
    "from utils.utils import *\n",
    "from utils.dataset import *\n",
    "from rnn_vae.encoder import Encoder\n",
    "from rnn_vae.decoder import Decoder\n",
    "from rnn_vae.predictor import Predictor\n",
    "\n",
    "%load_ext autoreload\n",
    "%autoreload 2"
   ]
  },
  {
   "cell_type": "markdown",
   "id": "5544bdfe-7ac1-444b-81de-1f08724234fa",
   "metadata": {},
   "source": [
    "### Models"
   ]
  },
  {
   "cell_type": "code",
   "execution_count": 78,
   "id": "66b93607-5e96-427e-bdd4-f48df11e5520",
   "metadata": {
    "tags": []
   },
   "outputs": [],
   "source": [
    "dataspec = fetch_params('./data/gdb13/spec.json')\n",
    "OUTDIR = './run11/'\n",
    "\n",
    "L = 128\n",
    "\n",
    "encoder = Encoder(L, dataspec)\n",
    "encoder.load_state_dict(torch.load(OUTDIR + 'encoder_weights.pth', map_location=torch.device('cpu')))\n",
    "encoder.eval()\n",
    "\n",
    "decoder = Decoder(L, dataspec)\n",
    "decoder.load_state_dict(torch.load(OUTDIR + 'decoder_weights.pth', map_location=torch.device('cpu')))\n",
    "decoder.eval()\n",
    "\n",
    "predictor = Predictor(L)\n",
    "predictor.load_state_dict(torch.load(OUTDIR + 'predictor_weights.pth', map_location=torch.device('cpu')))\n",
    "predictor.eval()\n",
    "None"
   ]
  },
  {
   "cell_type": "markdown",
   "id": "8d8a474f-086c-4f98-944e-a520350c5ce4",
   "metadata": {},
   "source": [
    "### Data"
   ]
  },
  {
   "cell_type": "code",
   "execution_count": 79,
   "id": "229ad950-9b1b-4de2-9ec6-3a9222f83554",
   "metadata": {
    "tags": []
   },
   "outputs": [],
   "source": [
    "trainset, testset = make_data('./data/gdb13', n=1000)\n",
    "\n",
    "means, stds = get_latent_distributions(encoder, testset.hots)\n",
    "\n",
    "uncompressed_dims = get_important_dimensions(testset.hots, encoder, decoder)\n",
    "\n",
    "compressed_means = means[uncompressed_dims]\n",
    "compressed_stds = stds[uncompressed_dims]\n",
    "\n",
    "bounds = torch.stack((\n",
    "    (compressed_means - 5 * compressed_stds), \n",
    "    (compressed_means + 5 * compressed_stds)\n",
    "))"
   ]
  },
  {
   "cell_type": "markdown",
   "id": "9544e28e-acf9-4029-8041-bfd4275f2b6b",
   "metadata": {},
   "source": [
    "## Optimization"
   ]
  },
  {
   "cell_type": "markdown",
   "id": "47bb3173-80db-4c75-aa43-95e5fc95c542",
   "metadata": {},
   "source": [
    "### Objective Function"
   ]
  },
  {
   "cell_type": "code",
   "execution_count": 4,
   "id": "cb47ff69-decf-44a3-afbe-13fbecb504c7",
   "metadata": {
    "tags": []
   },
   "outputs": [],
   "source": [
    "def score(z, compressed=True):\n",
    "    # Decompress from only critical dimensions to full latent vector\n",
    "    if compressed: z = decompress(z, uncompressed_dims, L)\n",
    "\n",
    "    logp, qed, sas = predictor(z) # Replace with rdkit true scores\n",
    "    \n",
    "    return 5 * qed - sas"
   ]
  },
  {
   "cell_type": "code",
   "execution_count": 64,
   "id": "4ed6c652-3871-4aee-8169-f0a2366bbfcd",
   "metadata": {
    "tags": []
   },
   "outputs": [],
   "source": [
    "def score(z, compressed=True):\n",
    "    # Decompress from only critical dimensions to full latent vector\n",
    "    if compressed: z = decompress(z, uncompressed_dims, L)\n",
    "\n",
    "    hots = decoder(z)\n",
    "    \n",
    "    smiles = from_hot(hots, dataspec.alphabet)\n",
    "    \n",
    "    scores = []\n",
    "    for smile in smiles:\n",
    "        mol = MolFromSmiles(smile)\n",
    "        if mol: scores.append(5 * QED(mol) - SAS(mol))\n",
    "        else: scores.append(-10)\n",
    "    \n",
    "    return torch.Tensor(scores).unsqueeze(-1)"
   ]
  },
  {
   "cell_type": "markdown",
   "id": "3e59f63f-1865-4f48-a2d5-ab96d7ccfb38",
   "metadata": {},
   "source": [
    "### Get Initial Sample"
   ]
  },
  {
   "cell_type": "code",
   "execution_count": 67,
   "id": "38cf7ce4-f9a5-4361-9147-2a0a91a294b5",
   "metadata": {
    "tags": []
   },
   "outputs": [],
   "source": [
    "def get_sample(n=10):\n",
    "    # Get sample of SMILES\n",
    "    compressed_z = None\n",
    "    while compressed_z is None or torch.any(compressed_z < bounds[0]) or torch.any(compressed_z > bounds[1]):\n",
    "        sample_indices = torch.randperm(len(testset))[:n]\n",
    "        z, _, _ = encoder(testset.hots[sample_indices])\n",
    "\n",
    "        compressed_z = z[:, uncompressed_dims]\n",
    "\n",
    "    scores = score(compressed_z)\n",
    "    best_score = scores.max().item()\n",
    "    \n",
    "    return compressed_z, scores"
   ]
  },
  {
   "cell_type": "markdown",
   "id": "76590d29-d709-4a38-ac78-5c9c04ce3d5d",
   "metadata": {},
   "source": [
    "### Surrogate Model"
   ]
  },
  {
   "cell_type": "code",
   "execution_count": 68,
   "id": "ec7f6fd3-2945-415a-b249-ceb3244a3f68",
   "metadata": {
    "tags": []
   },
   "outputs": [],
   "source": [
    "def fit_surrogate(x, scores, state_dict=None):\n",
    "    \n",
    "    # Define Gaussian Process Surrogate Model\n",
    "    model = SingleTaskGP(\n",
    "        train_X=normalize(x, bounds).detach(), \n",
    "        train_Y=scores.detach(), \n",
    "        outcome_transform=Standardize(m=1)\n",
    "    )\n",
    "    \n",
    "    if state_dict is not None:\n",
    "        model.load_state_dict(state_dict)\n",
    "\n",
    "    # Optimize on Data\n",
    "    mll = ExactMarginalLogLikelihood(model.likelihood, model).to(x)\n",
    "    fit_gpytorch_mll(mll)\n",
    "    \n",
    "    return model"
   ]
  },
  {
   "cell_type": "markdown",
   "id": "c437d507-fd63-4dcb-a868-e4a817da8292",
   "metadata": {},
   "source": [
    "### Acquisition Function"
   ]
  },
  {
   "cell_type": "code",
   "execution_count": 69,
   "id": "37390fa8-5da0-4997-8647-d90a9d88df15",
   "metadata": {
    "tags": []
   },
   "outputs": [],
   "source": [
    "def get_candidates(acq_func):\n",
    "    # Optimize Acquisition Function on Normalized Bounds\n",
    "    candidates, _ = optimize_acqf(\n",
    "        acq_function=acq_func,\n",
    "        bounds=torch.stack([\n",
    "            torch.zeros(len(uncompressed_dims)),\n",
    "            torch.ones(len(uncompressed_dims)),\n",
    "        ]),\n",
    "        q=16, \n",
    "        num_restarts=10,\n",
    "        raw_samples=256,\n",
    "    )\n",
    "    \n",
    "    # Unnormalize and Score\n",
    "    x = unnormalize(candidates.detach(), bounds=bounds)\n",
    "    y = score(x)\n",
    "    \n",
    "    return x, y"
   ]
  },
  {
   "cell_type": "markdown",
   "id": "18e1240b-a092-4388-ba87-9a21ab6b7077",
   "metadata": {},
   "source": [
    "### Optimization Loop"
   ]
  },
  {
   "cell_type": "code",
   "execution_count": 70,
   "id": "431286c1-21ea-482d-9f19-ca02bf87dfed",
   "metadata": {
    "tags": []
   },
   "outputs": [],
   "source": [
    "%%capture\n",
    "# Best candidate from each iteration\n",
    "candidates = []\n",
    "\n",
    "# Initial Sample\n",
    "x, scores = get_sample(n=32)\n",
    "candidates.append(x[torch.argmax(scores)])\n",
    "\n",
    "state_dict = None\n",
    "\n",
    "print(f\"\\nRunning BO...\")\n",
    "for iteration in tqdm(range(64)):\n",
    "    \n",
    "    # Get new surrogate model\n",
    "    surrogate = fit_surrogate(x, scores, state_dict)\n",
    "\n",
    "    # Get new candidates\n",
    "    acq_function = qExpectedImprovement(\n",
    "        model=surrogate, best_f=scores.max()\n",
    "    )\n",
    "    new_x, new_scores = get_candidates(acq_function)\n",
    "    \n",
    "    # Add new candidates to list of past candidates\n",
    "    x = torch.cat((x, new_x))\n",
    "    scores = torch.cat((scores, new_scores))\n",
    "    \n",
    "    # Check for new best\n",
    "    best = x[torch.argmax(scores)]\n",
    "    candidates.append(best)\n",
    "\n",
    "    state_dict = surrogate.state_dict()"
   ]
  },
  {
   "cell_type": "code",
   "execution_count": 72,
   "id": "a62fe0f0-1be5-4811-bd70-6e37825cfb2b",
   "metadata": {
    "tags": []
   },
   "outputs": [
    {
     "data": {
      "text/plain": [
       "<matplotlib.collections.PathCollection at 0x7f24d88d38d0>"
      ]
     },
     "execution_count": 72,
     "metadata": {},
     "output_type": "execute_result"
    },
    {
     "data": {
      "image/png": "[encoded data removed]",
      "text/plain": [
       "<Figure size 640x480 with 1 Axes>"
      ]
     },
     "metadata": {},
     "output_type": "display_data"
    }
   ],
   "source": [
    "plt.scatter(x=range(len(scores)), y=scores.detach())"
   ]
  },
  {
   "cell_type": "code",
   "execution_count": 74,
   "id": "7644cc19-4925-40fe-a779-1216a25e07f4",
   "metadata": {
    "tags": []
   },
   "outputs": [],
   "source": [
    "%%capture\n",
    "\n",
    "valid_candidates = {}\n",
    "\n",
    "for candidate in candidates:\n",
    "    \n",
    "    z = decompress(candidate, uncompressed_dims, L)\n",
    "    \n",
    "    for i in range(32):\n",
    "        noised_z = z + 0.005 * torch.randn(L).unsqueeze(0)\n",
    "        \n",
    "        x_hat = decoder(noised_z)\n",
    "        \n",
    "        smile = from_hot(x_hat, dataspec.alphabet)[0].replace('L', 'Cl')\n",
    "        \n",
    "        mol = MolFromSmiles(smile)\n",
    "        \n",
    "        if mol:\n",
    "            valid_candidates[smile] = float(score(noised_z, compressed=False))\n",
    "            break"
   ]
  },
  {
   "cell_type": "code",
   "execution_count": 75,
   "id": "47dcfd2a-598d-4249-9ec7-d2a86541eb3e",
   "metadata": {
    "tags": []
   },
   "outputs": [
    {
     "data": {
      "text/plain": [
       "{'ClC1=CC2=C(OCC2)C2=CNN=C12': 0.27162498235702515,\n",
       " 'ClC1=CC2=C(OCCC2)C2=NNC=C12': 0.4264204800128937}"
      ]
     },
     "execution_count": 75,
     "metadata": {},
     "output_type": "execute_result"
    }
   ],
   "source": [
    "valid_candidates"
   ]
  },
  {
   "cell_type": "code",
   "execution_count": 80,
   "id": "8c16c9e4-53c2-45e8-816e-b2529eda532e",
   "metadata": {},
   "outputs": [
    {
     "data": {
      "image/png": "[encoded data removed]",
      "text/plain": [
       "<rdkit.Chem.rdchem.Mol at 0x7f25547e4e40>"
      ]
     },
     "execution_count": 80,
     "metadata": {},
     "output_type": "execute_result"
    }
   ],
   "source": [
    "MolFromSmiles('ClC1=CC2=C(OCCC2)C2=NNC=C12')"
   ]
  },
  {
   "cell_type": "code",
   "execution_count": null,
   "id": "71aeacfd-7c96-4e10-8f99-b07db27f6f5c",
   "metadata": {},
   "outputs": [],
   "source": []
  }
 ],
 "metadata": {
  "kernelspec": {
   "display_name": "Python 3 (ipykernel)",
   "language": "python",
   "name": "python3"
  },
  "language_info": {
   "codemirror_mode": {
    "name": "ipython",
    "version": 3
   },
   "file_extension": ".py",
   "mimetype": "text/x-python",
   "name": "python",
   "nbconvert_exporter": "python",
   "pygments_lexer": "ipython3",
   "version": "3.11.5"
  }
 },
 "nbformat": 4,
 "nbformat_minor": 5
}
