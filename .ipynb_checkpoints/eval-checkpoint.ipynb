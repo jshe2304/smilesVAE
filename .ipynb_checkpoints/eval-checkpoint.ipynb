{
 "cells": [
  {
   "cell_type": "code",
   "execution_count": null,
   "id": "31a54e9b-fa99-41a4-a20c-f51a562d7dd9",
   "metadata": {
    "tags": []
   },
   "outputs": [],
   "source": [
    "import torch\n",
    "\n",
    "import matplotlib.pyplot as plt\n",
    "import numpy as np\n",
    "import pandas as pd\n",
    "\n",
    "import time\n",
    "import os\n",
    "import random\n",
    "\n",
    "from utils import *\n",
    "from dataset import *\n",
    "from encoder import Encoder\n",
    "from decoder import DecodeNext, Decoder\n",
    "from predictor import Predictor\n",
    "\n",
    "from IPython.display import Image\n",
    "%load_ext autoreload\n",
    "%autoreload 2\n",
    "\n",
    "# write gpu wiki page"
   ]
  },
  {
   "cell_type": "code",
   "execution_count": null,
   "id": "07985831-181e-46b2-aa92-19297f74d55c",
   "metadata": {
    "tags": []
   },
   "outputs": [],
   "source": [
    "DATADIR = './data/gdb13/'\n",
    "OUTDIR = './run-6/'\n",
    "LOGFILE = os.path.join(OUTDIR, 'log.csv')\n",
    "\n",
    "modelspec = make_params(hidden_dim=512, latent_dim=256, pred_dim=64, dropout=0.15)"
   ]
  },
  {
   "cell_type": "markdown",
   "id": "d35b48d8-6721-45ed-b02b-cfc930beca36",
   "metadata": {
    "tags": []
   },
   "source": [
    "### Data & Model Parameters"
   ]
  },
  {
   "cell_type": "code",
   "execution_count": null,
   "id": "3ffb1156-7e1b-461a-bbd2-2710e68f2cba",
   "metadata": {
    "tags": []
   },
   "outputs": [],
   "source": [
    "smiles_train, smiles_test = fetch_gdb13(DATADIR)"
   ]
  },
  {
   "cell_type": "code",
   "execution_count": null,
   "id": "fb0dadff-a3a2-4e62-aaef-fa3ee61ef1c0",
   "metadata": {
    "tags": []
   },
   "outputs": [],
   "source": [
    "# make_params(smiles=smiles_train + smiles_test, fname=OUTDIR + 'params.json')\n",
    "params = fetch_params(OUTDIR + 'params.json')"
   ]
  },
  {
   "cell_type": "markdown",
   "id": "a5af90e7-e697-4a7d-8267-397ec07f8e01",
   "metadata": {
    "tags": []
   },
   "source": [
    "### Model"
   ]
  },
  {
   "cell_type": "code",
   "execution_count": null,
   "id": "448dd116-efbd-48c4-b88b-fe3c1dcbe967",
   "metadata": {
    "tags": []
   },
   "outputs": [],
   "source": [
    "encoder = Encoder(params)\n",
    "encoder.load_state_dict(torch.load(OUTDIR + 'encoder_weights.pth'))\n",
    "\n",
    "decoder = Decoder(params)\n",
    "decoder.load_state_dict(torch.load(OUTDIR + 'decoder_weights.pth'))"
   ]
  },
  {
   "cell_type": "code",
   "execution_count": null,
   "id": "4b4f387f-9079-4714-937b-6d1d1e4eea53",
   "metadata": {
    "tags": []
   },
   "outputs": [],
   "source": [
    "smile = random.choice(smiles_test)\n",
    "print(f'Original:\\t{smile}')\n",
    "x = to_one_hot(smile, params)\n",
    "\n",
    "mean, logvar, z = encoder(x)\n",
    "\n",
    "epsilon = torch.randn(256)\n",
    "\n",
    "print(f'Decode Mean:\\t{from_one_hot(decoder(mean), params)[0]}')\n",
    "print(f'Decode Sample:\\t{from_one_hot(decoder(mean + epsilon), params)[0]}')"
   ]
  },
  {
   "cell_type": "code",
   "execution_count": null,
   "id": "78c613d9-f2df-4033-84e3-9f0b75ac5cec",
   "metadata": {
    "tags": []
   },
   "outputs": [],
   "source": [
    "s1, s2 = random.sample(smiles_test, 2)\n",
    "print(f'{s1}\\t\\t{s2}')\n",
    "\n",
    "s1 = to_one_hot(s1, params)\n",
    "s2 = to_one_hot(s2, params)\n",
    "\n",
    "mu1, logvar1, z1 = encoder(s1)\n",
    "mu2, logvar2, z2 = encoder(s2)\n",
    "\n",
    "s1_pred = decoder(z1)\n",
    "s2_pred = decoder(z2)\n",
    "\n",
    "print(f'{from_one_hot(s1_pred, params)[0]}\\t\\t{from_one_hot(s2_pred, params)[0]}')\n",
    "\n",
    "print(f\"Euclidean Distance of Means: {float(torch.pow(torch.sum(torch.pow(mu1 - mu2, 2)), 0.5))}\")\n",
    "print(f\"Euclidean Distance of Samples: {float(torch.pow(torch.sum(torch.pow(z1 - z2, 2)), 0.5))}\")\n",
    "\n",
    "fig, (ax1, ax2, ax3, ax4) = plt.subplots(1, 4, sharex=True, sharey=True)\n",
    "\n",
    "ax1.imshow(torch.softmax(s1_pred, dim=2).squeeze(0).detach().numpy())\n",
    "ax2.imshow(torch.softmax(s1, dim=2).squeeze(0).detach().numpy())\n",
    "\n",
    "ax3.imshow(torch.softmax(s2_pred, dim=2).squeeze(0).detach().numpy())\n",
    "ax4.imshow(torch.softmax(s2, dim=2).squeeze(0).detach().numpy())\n",
    "\n",
    "plt.subplots_adjust(wspace=0, hspace=0)"
   ]
  },
  {
   "cell_type": "markdown",
   "id": "c03e54ee-e95d-472a-a8f9-36ad587fb6ee",
   "metadata": {
    "tags": []
   },
   "source": [
    "## Test"
   ]
  },
  {
   "cell_type": "code",
   "execution_count": null,
   "id": "5b7067bd-1055-4927-9f61-6d4355e4c8cb",
   "metadata": {
    "tags": []
   },
   "outputs": [],
   "source": [
    "evaluate_ae(encoder, decoder, smiles_test, 10, params=params)"
   ]
  },
  {
   "cell_type": "code",
   "execution_count": null,
   "id": "7fc46e16-71e9-4e44-9c81-5fb60ef5641d",
   "metadata": {
    "tags": []
   },
   "outputs": [],
   "source": [
    "log = pd.read_csv('run7/log.csv')\n",
    "\n",
    "fig, (ax1, ax2, ax3) = plt.subplots(3, 1, sharex=True)\n",
    "\n",
    "every = 1\n",
    "\n",
    "epoch = log['i'] * (32/1280000)\n",
    "\n",
    "ax1.set_ylabel('loss')\n",
    "ax1.plot(epoch, log['ce'][::every], color='red', alpha=0.5)\n",
    "ax1.plot(epoch, 0.1*log['kl'][::every], color='blue', alpha=0.5)\n",
    "ax1.plot(epoch, log['loss'][::every], color='purple')\n",
    "ax1.grid()\n",
    "\n",
    "ax2.set_ylabel('error')\n",
    "ax2.plot(epoch, log['logp'][::every], color='red')\n",
    "ax2.plot(epoch, log['qed'][::every], color='green')\n",
    "#ax2.plot(log['sas'][::every], color='blue')\n",
    "ax2.grid()\n",
    "\n",
    "ax3.set_ylabel('accuracy')\n",
    "ax3.plot(epoch, log['accuracy'][::every], color='blue')\n",
    "ax3.plot(epoch, log['prec'][::every], color='green')\n",
    "ax3.grid()\n",
    "\n",
    "#plt.savefig('run.png')\n",
    "\n",
    "plt.tight_layout()"
   ]
  },
  {
   "cell_type": "code",
   "execution_count": null,
   "id": "12990962-29c1-4a9d-b68e-fc397a31108b",
   "metadata": {},
   "outputs": [],
   "source": []
  }
 ],
 "metadata": {
  "kernelspec": {
   "display_name": "Python 3 (ipykernel)",
   "language": "python",
   "name": "python3"
  },
  "language_info": {
   "codemirror_mode": {
    "name": "ipython",
    "version": 3
   },
   "file_extension": ".py",
   "mimetype": "text/x-python",
   "name": "python",
   "nbconvert_exporter": "python",
   "pygments_lexer": "ipython3",
   "version": "3.11.5"
  }
 },
 "nbformat": 4,
 "nbformat_minor": 5
}
