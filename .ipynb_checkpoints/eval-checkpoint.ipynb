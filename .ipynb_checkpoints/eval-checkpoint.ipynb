{
 "cells": [
  {
   "cell_type": "code",
   "execution_count": null,
   "id": "31a54e9b-fa99-41a4-a20c-f51a562d7dd9",
   "metadata": {
    "tags": []
   },
   "outputs": [],
   "source": [
    "import torch\n",
    "\n",
    "import matplotlib.pyplot as plt\n",
    "import numpy as np\n",
    "import pandas as pd\n",
    "\n",
    "import time\n",
    "import os\n",
    "import random\n",
    "\n",
    "from utils.utils import *\n",
    "from utils.dataset import *\n",
    "from rnn_vae.encoder import Encoder\n",
    "from rnn_vae.decoder import Decoder\n",
    "from rnn_vae.predictor import Predictor\n",
    "\n",
    "%load_ext autoreload\n",
    "%autoreload 2"
   ]
  },
  {
   "cell_type": "code",
   "execution_count": null,
   "id": "07985831-181e-46b2-aa92-19297f74d55c",
   "metadata": {
    "tags": []
   },
   "outputs": [],
   "source": [
    "DATADIR = './data/gdb13/'\n",
    "OUTDIR = './runs/run13.32/'\n",
    "LOGFILE = os.path.join(OUTDIR, 'log.csv')\n",
    "DATASPEC_FILE = os.path.join(DATADIR, 'spec.json')\n",
    "RUNSPEC_FILE = os.path.join(OUTDIR, 'runspec.json')\n",
    "\n",
    "dataspec = fetch_params(DATASPEC_FILE)\n",
    "runspec = fetch_params(RUNSPEC_FILE)"
   ]
  },
  {
   "cell_type": "markdown",
   "id": "d35b48d8-6721-45ed-b02b-cfc930beca36",
   "metadata": {
    "tags": []
   },
   "source": [
    "## Data"
   ]
  },
  {
   "cell_type": "code",
   "execution_count": null,
   "id": "3ffb1156-7e1b-461a-bbd2-2710e68f2cba",
   "metadata": {
    "tags": []
   },
   "outputs": [],
   "source": [
    "trainset, testset = make_data(DATADIR, n=1000)"
   ]
  },
  {
   "cell_type": "markdown",
   "id": "a5af90e7-e697-4a7d-8267-397ec07f8e01",
   "metadata": {
    "tags": []
   },
   "source": [
    "## Model"
   ]
  },
  {
   "cell_type": "code",
   "execution_count": null,
   "id": "448dd116-efbd-48c4-b88b-fe3c1dcbe967",
   "metadata": {
    "tags": []
   },
   "outputs": [],
   "source": [
    "encoder = Encoder(runspec.L)\n",
    "encoder.load_state_dict(torch.load(OUTDIR + 'encoder_weights.pth', map_location=torch.device('cpu')))\n",
    "\n",
    "decoder = Decoder(runspec.L)\n",
    "decoder.load_state_dict(torch.load(OUTDIR + 'decoder_weights.pth', map_location=torch.device('cpu')))\n",
    "\n",
    "predictor = Predictor(runspec.L)\n",
    "predictor.load_state_dict(torch.load(OUTDIR + 'predictor_weights.pth', map_location=torch.device('cpu')))"
   ]
  },
  {
   "cell_type": "code",
   "execution_count": null,
   "id": "d25cbb29-79e8-48dd-bf3e-1a7874456813",
   "metadata": {
    "tags": []
   },
   "outputs": [],
   "source": [
    "x, *_ = testset.sample(5)\n",
    "z, *_ = encoder(x)\n",
    "decoder(z, target=x).shape"
   ]
  },
  {
   "cell_type": "markdown",
   "id": "dc789ecd-3ff1-49af-a02c-0754d6327621",
   "metadata": {},
   "source": [
    "## Token Confidence"
   ]
  },
  {
   "cell_type": "code",
   "execution_count": null,
   "id": "78c613d9-f2df-4033-84e3-9f0b75ac5cec",
   "metadata": {
    "tags": []
   },
   "outputs": [],
   "source": [
    "sample = testset.hots[random.sample(range(1, len(testset)), 2)]\n",
    "\n",
    "s1, s2 = sample[0:1], sample[1:]\n",
    "\n",
    "print(f'{from_hot(s1, dataspec.alphabet)[0]}\\t\\t{from_hot(s2, dataspec.alphabet)[0]}')\n",
    "\n",
    "mu1, logvar1, z1 = encoder(s1)\n",
    "mu2, logvar2, z2 = encoder(s2)\n",
    "\n",
    "s1_pred = decoder(z1)\n",
    "s2_pred = decoder(z2)\n",
    "\n",
    "d1 = torch.argmax(s1, dim=2) != torch.argmax(s1_pred, dim=2)\n",
    "\n",
    "print(f'{from_hot(s1_pred, dataspec.alphabet)[0]}\\t\\t{from_hot(s2_pred, dataspec.alphabet)[0]}')\n",
    "\n",
    "print(f\"Euclidean Distance of Means: {float(torch.pow(torch.sum(torch.pow(mu1 - mu2, 2)), 0.5))}\")\n",
    "print(f\"Euclidean Distance of Samples: {float(torch.pow(torch.sum(torch.pow(z1 - z2, 2)), 0.5))}\")\n",
    "\n",
    "fig, (ax1, ax2, ax3) = plt.subplots(1, 3, sharex=True, sharey=True)\n",
    "\n",
    "ax1.imshow(torch.softmax(s1_pred, dim=2).squeeze(0).detach().numpy())\n",
    "ax2.imshow(d1.permute(1, 0).detach().numpy(), cmap='gray')\n",
    "ax3.imshow(torch.softmax(s1, dim=2).squeeze(0).detach().numpy())\n",
    "\n",
    "plt.subplots_adjust(wspace=0, hspace=0)"
   ]
  },
  {
   "cell_type": "markdown",
   "id": "c03e54ee-e95d-472a-a8f9-36ad587fb6ee",
   "metadata": {
    "tags": []
   },
   "source": [
    "## Loss and Accuracy Plots"
   ]
  },
  {
   "cell_type": "code",
   "execution_count": null,
   "id": "7fc46e16-71e9-4e44-9c81-5fb60ef5641d",
   "metadata": {
    "tags": []
   },
   "outputs": [],
   "source": [
    "import pandas as pd\n",
    "import matplotlib.pyplot as plt\n",
    "\n",
    "log = pd.read_csv(LOGFILE)\n",
    "\n",
    "fig, (ax0, ax1, ax2, ax3) = plt.subplots(4, 1, sharex=True, figsize=(8, 8))\n",
    "\n",
    "ax0.set_ylabel('loss')\n",
    "ax0.set_title('Total Loss')\n",
    "ax0.plot(log['loss'], color='purple', label='total loss')\n",
    "ax0.grid()\n",
    "ax0.legend(prop={'size': 8})\n",
    "\n",
    "ax1.set_ylabel('loss')\n",
    "ax1.set_title('Autoencoder Loss')\n",
    "ax1.plot(log['ce'], color='red', label='cross entropy')\n",
    "ax1.plot(log['kl'] * 0.1, color='blue', label='kl divergence')\n",
    "ax1.grid()\n",
    "ax1.legend(prop={'size': 8})\n",
    "\n",
    "ax2.set_ylabel('error')\n",
    "ax2.set_title('Property Predictor Loss')\n",
    "ax2.plot(log['logp'], color='red', label='logp error')\n",
    "ax2.plot(log['qed'], color='green', label='qed error')\n",
    "ax2.plot(log['sas'], color='blue', label='sas error')\n",
    "ax2.grid()\n",
    "ax2.legend(prop={'size': 8})\n",
    "\n",
    "ax3.set_ylabel('accuracy')\n",
    "ax3.set_title('Reconstruction Metrics')\n",
    "ax3.plot(log['accuracy'], color='blue', label='token accuracy')\n",
    "ax3.plot(log['accuracy'] ** 40, color='purple', label='expected full reconstruction')\n",
    "ax3.plot(log['prec'], color='red', label='full reconstruction')\n",
    "ax3.grid()\n",
    "ax3.legend(prop={'size': 8})\n",
    "ax3.set_xlabel('epoch')"
   ]
  },
  {
   "cell_type": "code",
   "execution_count": null,
   "id": "f8bf2a2a-c7c3-4be2-a3c6-b6aa0144aa5b",
   "metadata": {},
   "outputs": [],
   "source": []
  }
 ],
 "metadata": {
  "kernelspec": {
   "display_name": "Python 3 (ipykernel)",
   "language": "python",
   "name": "python3"
  },
  "language_info": {
   "codemirror_mode": {
    "name": "ipython",
    "version": 3
   },
   "file_extension": ".py",
   "mimetype": "text/x-python",
   "name": "python",
   "nbconvert_exporter": "python",
   "pygments_lexer": "ipython3",
   "version": "3.11.5"
  }
 },
 "nbformat": 4,
 "nbformat_minor": 5
}
