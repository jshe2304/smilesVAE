{
 "cells": [
  {
   "cell_type": "code",
   "execution_count": 1,
   "id": "31a54e9b-fa99-41a4-a20c-f51a562d7dd9",
   "metadata": {
    "tags": []
   },
   "outputs": [],
   "source": [
    "import torch\n",
    "import torch.nn as nn\n",
    "import torch.nn.functional as F\n",
    "import torch.optim as optim\n",
    "from torch.utils.data import DataLoader\n",
    "\n",
    "import matplotlib.pyplot as plt\n",
    "from matplotlib import gridspec\n",
    "import numpy as np\n",
    "import pandas as pd\n",
    "\n",
    "import time\n",
    "import os\n",
    "import random\n",
    "\n",
    "from utils import *\n",
    "from embedding_utils import *\n",
    "from encoder import Encoder\n",
    "from decoder import DecodeNext, Decoder\n",
    "\n",
    "%load_ext autoreload\n",
    "%autoreload 2"
   ]
  },
  {
   "cell_type": "markdown",
   "id": "d35b48d8-6721-45ed-b02b-cfc930beca36",
   "metadata": {
    "tags": []
   },
   "source": [
    "### Data & Model Parameters"
   ]
  },
  {
   "cell_type": "code",
   "execution_count": 2,
   "id": "3ffb1156-7e1b-461a-bbd2-2710e68f2cba",
   "metadata": {
    "tags": []
   },
   "outputs": [],
   "source": [
    "smiles = fetch_smiles_gdb13('./data/gdb13').values.tolist()\n",
    "\n",
    "for i, smile in enumerate(smiles):\n",
    "    smiles[i] = smile.replace('Cl', 'L')"
   ]
  },
  {
   "cell_type": "markdown",
   "id": "a5af90e7-e697-4a7d-8267-397ec07f8e01",
   "metadata": {
    "tags": []
   },
   "source": [
    "### Model"
   ]
  },
  {
   "cell_type": "code",
   "execution_count": 3,
   "id": "fb0dadff-a3a2-4e62-aaef-fa3ee61ef1c0",
   "metadata": {
    "tags": []
   },
   "outputs": [],
   "source": [
    "params = make_params(smiles=smiles, GRU_HIDDEN_DIM=512, LATENT_DIM=256)"
   ]
  },
  {
   "cell_type": "code",
   "execution_count": 4,
   "id": "448dd116-efbd-48c4-b88b-fe3c1dcbe967",
   "metadata": {
    "tags": []
   },
   "outputs": [
    {
     "data": {
      "text/plain": [
       "<All keys matched successfully>"
      ]
     },
     "execution_count": 4,
     "metadata": {},
     "output_type": "execute_result"
    }
   ],
   "source": [
    "encoder = Encoder(params)\n",
    "encoder.load_state_dict(torch.load('weights-5/encoder_weights.pth'))\n",
    "\n",
    "decoder = Decoder(params)\n",
    "decoder.load_state_dict(torch.load('weights-5/decoder_weights.pth'))"
   ]
  },
  {
   "cell_type": "code",
   "execution_count": 11,
   "id": "78c613d9-f2df-4033-84e3-9f0b75ac5cec",
   "metadata": {
    "tags": []
   },
   "outputs": [
    {
     "name": "stdout",
     "output_type": "stream",
     "text": [
      "[NH3+]C1C2CCC3COCC13CCO2\t\tLC1=CN2C3COC(C3)C(=O)C2=C1\n",
      "[NH3+]C1C2CCCCCCCCCCCCO2\t\tLC1=C2CCCCCCCCCCCCCC)C2=C1\n",
      "Euclidean Distance of Means: 40.38181686401367\n",
      "Euclidean Distance of Samples: 40.37693405151367\n"
     ]
    },
    {
     "data": {
      "text/plain": [
       "<matplotlib.image.AxesImage at 0x7ffa6765af90>"
      ]
     },
     "execution_count": 11,
     "metadata": {},
     "output_type": "execute_result"
    },
    {
     "data": {
      "image/png": "[encoded data removed]",
      "text/plain": [
       "<Figure size 640x480 with 4 Axes>"
      ]
     },
     "metadata": {},
     "output_type": "display_data"
    }
   ],
   "source": [
    "s1, s2 = random.sample(smiles, 2)\n",
    "print(f'{s1}\\t\\t{s2}')\n",
    "\n",
    "s1 = to_one_hot(s1, params)\n",
    "s2 = to_one_hot(s2, params)\n",
    "\n",
    "mu1, logvar1, z1 = encoder(s1)\n",
    "mu2, logvar2, z2 = encoder(s2)\n",
    "\n",
    "s1_pred = decoder(z1)\n",
    "s2_pred = decoder(z2)\n",
    "\n",
    "print(f'{from_one_hot(s1_pred, params)[0]}\\t\\t{from_one_hot(s2_pred, params)[0]}')\n",
    "\n",
    "print(f\"Euclidean Distance of Means: {float(torch.pow(torch.sum(torch.pow(mu1 - mu2, 2)), 0.5))}\")\n",
    "print(f\"Euclidean Distance of Samples: {float(torch.pow(torch.sum(torch.pow(z1 - z2, 2)), 0.5))}\")\n",
    "\n",
    "fig, ((ax1, ax2), (ax3, ax4)) = plt.subplots(2, 2, sharex=True, sharey=True)\n",
    "\n",
    "ax1.imshow(torch.softmax(s1_pred, dim=2).squeeze(0).detach().numpy())\n",
    "ax2.imshow(torch.softmax(s1, dim=2).squeeze(0).detach().numpy())\n",
    "\n",
    "ax3.imshow(torch.softmax(s2_pred, dim=2).squeeze(0).detach().numpy())\n",
    "ax4.imshow(torch.softmax(s2, dim=2).squeeze(0).detach().numpy())"
   ]
  },
  {
   "cell_type": "markdown",
   "id": "c03e54ee-e95d-472a-a8f9-36ad587fb6ee",
   "metadata": {
    "tags": []
   },
   "source": [
    "## Test"
   ]
  },
  {
   "cell_type": "code",
   "execution_count": 6,
   "id": "5b7067bd-1055-4927-9f61-6d4355e4c8cb",
   "metadata": {
    "tags": []
   },
   "outputs": [
    {
     "data": {
      "text/html": [
       "<div>\n",
       "<style scoped>\n",
       "    .dataframe tbody tr th:only-of-type {\n",
       "        vertical-align: middle;\n",
       "    }\n",
       "\n",
       "    .dataframe tbody tr th {\n",
       "        vertical-align: top;\n",
       "    }\n",
       "\n",
       "    .dataframe thead th {\n",
       "        text-align: right;\n",
       "    }\n",
       "</style>\n",
       "<table border=\"1\" class=\"dataframe\">\n",
       "  <thead>\n",
       "    <tr style=\"text-align: right;\">\n",
       "      <th></th>\n",
       "      <th>target</th>\n",
       "      <th>predicted</th>\n",
       "    </tr>\n",
       "  </thead>\n",
       "  <tbody>\n",
       "    <tr>\n",
       "      <th>0</th>\n",
       "      <td>S1C=NC(=C1)C1=NC=CN=C1</td>\n",
       "      <td>O1C=CC2=CCCCCC=C=SC=C1</td>\n",
       "    </tr>\n",
       "    <tr>\n",
       "      <th>1</th>\n",
       "      <td>C1CC23CC11CC2CC(CO3)C[NH2+]1</td>\n",
       "      <td>C1CC2CCCCCCCCCCCCCCCC[NH2+]1</td>\n",
       "    </tr>\n",
       "    <tr>\n",
       "      <th>2</th>\n",
       "      <td>[NH3+]C1CCC2CC3COC1(C2)O3</td>\n",
       "      <td>[NH3+]C1CCC2CCCCCCCCC1)O2</td>\n",
       "    </tr>\n",
       "    <tr>\n",
       "      <th>3</th>\n",
       "      <td>C1C2CC3OCC22CC[NH2+]C1C3N2</td>\n",
       "      <td>C1CC2CCCCCCCCC[NH2+]CCC1O1</td>\n",
       "    </tr>\n",
       "    <tr>\n",
       "      <th>4</th>\n",
       "      <td>[NH3+]C12CCC3CC1C1=NSN=C1C23</td>\n",
       "      <td>[NH3+]C12CCCCCCCCCCCCCC1)C24</td>\n",
       "    </tr>\n",
       "    <tr>\n",
       "      <th>5</th>\n",
       "      <td>OC1CCC2COCC3COCC123</td>\n",
       "      <td>OC1CCC2CCCCCCCC2C1</td>\n",
       "    </tr>\n",
       "    <tr>\n",
       "      <th>6</th>\n",
       "      <td>C1CC23[NH2+]CC4CCC2CC1C3O4</td>\n",
       "      <td>C1CC2C[NH2+]CCCCCCCCCCC1O2</td>\n",
       "    </tr>\n",
       "    <tr>\n",
       "      <th>7</th>\n",
       "      <td>[NH3+]C1C2COC11C3OC2C1CCO3</td>\n",
       "      <td>[NH3+]C1C2CC3CCCCCCCCC1CO2</td>\n",
       "    </tr>\n",
       "    <tr>\n",
       "      <th>8</th>\n",
       "      <td>[NH2+]=C1CCC2CCN3N=CC=C3N12</td>\n",
       "      <td>[NH2+]=C1CCC2CCCCCCCCCC)C12</td>\n",
       "    </tr>\n",
       "    <tr>\n",
       "      <th>9</th>\n",
       "      <td>C1C2CC3C1C1C2C2C[NH2+]C1CN32</td>\n",
       "      <td>C1CC2CCCCCCCCCCC[NH2+]C3)C12</td>\n",
       "    </tr>\n",
       "  </tbody>\n",
       "</table>\n",
       "</div>"
      ],
      "text/plain": [
       "                         target                     predicted\n",
       "0        S1C=NC(=C1)C1=NC=CN=C1        O1C=CC2=CCCCCC=C=SC=C1\n",
       "1  C1CC23CC11CC2CC(CO3)C[NH2+]1  C1CC2CCCCCCCCCCCCCCCC[NH2+]1\n",
       "2     [NH3+]C1CCC2CC3COC1(C2)O3     [NH3+]C1CCC2CCCCCCCCC1)O2\n",
       "3    C1C2CC3OCC22CC[NH2+]C1C3N2    C1CC2CCCCCCCCC[NH2+]CCC1O1\n",
       "4  [NH3+]C12CCC3CC1C1=NSN=C1C23  [NH3+]C12CCCCCCCCCCCCCC1)C24\n",
       "5           OC1CCC2COCC3COCC123            OC1CCC2CCCCCCCC2C1\n",
       "6    C1CC23[NH2+]CC4CCC2CC1C3O4    C1CC2C[NH2+]CCCCCCCCCCC1O2\n",
       "7    [NH3+]C1C2COC11C3OC2C1CCO3    [NH3+]C1C2CC3CCCCCCCCC1CO2\n",
       "8   [NH2+]=C1CCC2CCN3N=CC=C3N12   [NH2+]=C1CCC2CCCCCCCCCC)C12\n",
       "9  C1C2CC3C1C1C2C2C[NH2+]C1CN32  C1CC2CCCCCCCCCCC[NH2+]C3)C12"
      ]
     },
     "execution_count": 6,
     "metadata": {},
     "output_type": "execute_result"
    }
   ],
   "source": [
    "evaluate_ae(encoder, decoder, smiles, 10, params=params)"
   ]
  },
  {
   "cell_type": "code",
   "execution_count": 22,
   "id": "7fc46e16-71e9-4e44-9c81-5fb60ef5641d",
   "metadata": {
    "tags": []
   },
   "outputs": [
    {
     "data": {
      "text/plain": [
       "[<matplotlib.lines.Line2D at 0x7ffa642f0f50>]"
      ]
     },
     "execution_count": 22,
     "metadata": {},
     "output_type": "execute_result"
    },
    {
     "data": {
      "image/png": "[encoded data removed]",
      "text/plain": [
       "<Figure size 640x480 with 2 Axes>"
      ]
     },
     "metadata": {},
     "output_type": "display_data"
    }
   ],
   "source": [
    "log = pd.read_csv('./logs/log-5.csv')\n",
    "\n",
    "fig, (ax1, ax2) = plt.subplots(2, 1)\n",
    "\n",
    "ax1.set_ylabel('loss')\n",
    "ax1.plot(log['i'], log['loss'], color='red')\n",
    "\n",
    "ax2.set_ylabel('accuracy')\n",
    "ax2.plot(log['i'], log['similarity'])"
   ]
  },
  {
   "cell_type": "code",
   "execution_count": null,
   "id": "7cf2f498-3020-490f-8096-f7c071309bbf",
   "metadata": {},
   "outputs": [],
   "source": []
  }
 ],
 "metadata": {
  "kernelspec": {
   "display_name": "Python 3 (ipykernel)",
   "language": "python",
   "name": "python3"
  },
  "language_info": {
   "codemirror_mode": {
    "name": "ipython",
    "version": 3
   },
   "file_extension": ".py",
   "mimetype": "text/x-python",
   "name": "python",
   "nbconvert_exporter": "python",
   "pygments_lexer": "ipython3",
   "version": "3.11.5"
  }
 },
 "nbformat": 4,
 "nbformat_minor": 5
}
