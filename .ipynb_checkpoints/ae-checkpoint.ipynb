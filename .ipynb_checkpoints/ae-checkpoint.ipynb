{
 "cells": [
  {
   "cell_type": "code",
   "execution_count": 1,
   "id": "31a54e9b-fa99-41a4-a20c-f51a562d7dd9",
   "metadata": {
    "tags": []
   },
   "outputs": [],
   "source": [
    "import torch\n",
    "import torch.nn as nn\n",
    "import torch.nn.functional as F\n",
    "import torch.optim as optim\n",
    "from torch.utils.data import DataLoader\n",
    "\n",
    "import matplotlib.pyplot as plt\n",
    "import numpy as np\n",
    "import pandas as pd\n",
    "\n",
    "import time\n",
    "import os\n",
    "import random\n",
    "\n",
    "from utils import *\n",
    "from embedding_utils import *\n",
    "from encoder import Encoder\n",
    "from decoder import DecodeNext, Decoder\n",
    "\n",
    "%load_ext autoreload\n",
    "%autoreload 2"
   ]
  },
  {
   "cell_type": "markdown",
   "id": "d35b48d8-6721-45ed-b02b-cfc930beca36",
   "metadata": {
    "tags": []
   },
   "source": [
    "### Data & Model Parameters"
   ]
  },
  {
   "cell_type": "code",
   "execution_count": 6,
   "id": "3ffb1156-7e1b-461a-bbd2-2710e68f2cba",
   "metadata": {
    "tags": []
   },
   "outputs": [],
   "source": [
    "smiles = fetch_smiles_gdb13('./data/gdb13').values.tolist()\n",
    "\n",
    "for i, smile in enumerate(smiles):\n",
    "    smiles[i] = smile.replace('Cl', 'L')\n",
    "    \n",
    "vocab = ['<pad>'] + sorted(list({c for smile in smiles for c in smile}))\n",
    "\n",
    "ctoi = {c: i for i, c in enumerate(vocab)}"
   ]
  },
  {
   "cell_type": "code",
   "execution_count": 10,
   "id": "a2eeb7d9-c832-4d4a-a8cc-c9caa5f377e1",
   "metadata": {
    "tags": []
   },
   "outputs": [],
   "source": [
    "smiles_sample = random.sample(smiles, 100)\n",
    "\n",
    "smiles_pack = pack(smiles_sample, ctoi)"
   ]
  },
  {
   "cell_type": "markdown",
   "id": "a5af90e7-e697-4a7d-8267-397ec07f8e01",
   "metadata": {
    "tags": []
   },
   "source": [
    "### Model"
   ]
  },
  {
   "cell_type": "code",
   "execution_count": null,
   "id": "fb0dadff-a3a2-4e62-aaef-fa3ee61ef1c0",
   "metadata": {
    "tags": []
   },
   "outputs": [],
   "source": [
    "params = make_params(smiles=smiles, GRU_HIDDEN_DIM=256, LATENT_DIM=128)"
   ]
  },
  {
   "cell_type": "code",
   "execution_count": null,
   "id": "448dd116-efbd-48c4-b88b-fe3c1dcbe967",
   "metadata": {
    "tags": []
   },
   "outputs": [],
   "source": [
    "encoder = Encoder(params)\n",
    "encoder.load_state_dict(torch.load('weights/encoder_weights.pth'))\n",
    "\n",
    "decoder = Decoder(params)\n",
    "decoder.load_state_dict(torch.load('weights/decoder_weights.pth'))"
   ]
  },
  {
   "cell_type": "code",
   "execution_count": null,
   "id": "24f00712-ef04-47c2-8855-600e8cfd8681",
   "metadata": {
    "tags": []
   },
   "outputs": [],
   "source": [
    "test_smile = [\"S2C=CC=C1\"]\n",
    "x = smiles[2]\n",
    "print(x)\n",
    "x = to_one_hot(x, params)\n",
    "y = to_one_hot(test_smile, params)"
   ]
  },
  {
   "cell_type": "code",
   "execution_count": null,
   "id": "b8d7bda6-7774-4a59-963c-5d31c1629a85",
   "metadata": {
    "tags": []
   },
   "outputs": [],
   "source": [
    "encoder = Encoder(params)\n",
    "\n",
    "z_mean, z_logvar, z = encoder(x)\n",
    "y_hat = decoder(z)\n",
    "\n",
    "plt.imshow(torch.softmax(y_hat, dim=2).squeeze(0).detach().numpy())"
   ]
  },
  {
   "cell_type": "code",
   "execution_count": null,
   "id": "166883f1-9b03-4262-bb5c-cd2d5d96ac69",
   "metadata": {
    "tags": []
   },
   "outputs": [],
   "source": [
    "CE_loss = nn.CrossEntropyLoss()\n",
    "KL_divergence = lambda z_mean, z_logvar : -0.5 * torch.mean(1 + z_logvar - z_mean ** 2 - torch.exp(z_logvar))\n",
    "CE_loss(y_hat.transpose(1, 2), torch.argmax(x, dim=2))"
   ]
  },
  {
   "cell_type": "markdown",
   "id": "c03e54ee-e95d-472a-a8f9-36ad587fb6ee",
   "metadata": {
    "jp-MarkdownHeadingCollapsed": true,
    "tags": []
   },
   "source": [
    "## Test"
   ]
  },
  {
   "cell_type": "code",
   "execution_count": null,
   "id": "5b7067bd-1055-4927-9f61-6d4355e4c8cb",
   "metadata": {
    "tags": []
   },
   "outputs": [],
   "source": [
    "evaluate_ae(encoder, decoder, smiles, 1000, params=params)"
   ]
  },
  {
   "cell_type": "code",
   "execution_count": null,
   "id": "2ecad31b-c318-4255-bf1a-546b82477594",
   "metadata": {},
   "outputs": [],
   "source": [
    "log = pd.read_csv('train_output/log.csv')"
   ]
  },
  {
   "cell_type": "code",
   "execution_count": null,
   "id": "7fc46e16-71e9-4e44-9c81-5fb60ef5641d",
   "metadata": {
    "tags": []
   },
   "outputs": [],
   "source": [
    "fig, (ax1, ax2) = plt.subplots(2, 1)\n",
    "\n",
    "ax1.set_ylabel('loss')\n",
    "ax1.plot(log['i'], log['loss'], color='red')\n",
    "\n",
    "ax2.set_ylabel('accuracy')\n",
    "ax2.plot(log['i'], log['similarity'])\n",
    "\n",
    "fig.tight_layout()"
   ]
  }
 ],
 "metadata": {
  "kernelspec": {
   "display_name": "Python 3 (ipykernel)",
   "language": "python",
   "name": "python3"
  },
  "language_info": {
   "codemirror_mode": {
    "name": "ipython",
    "version": 3
   },
   "file_extension": ".py",
   "mimetype": "text/x-python",
   "name": "python",
   "nbconvert_exporter": "python",
   "pygments_lexer": "ipython3",
   "version": "3.10.6"
  }
 },
 "nbformat": 4,
 "nbformat_minor": 5
}
