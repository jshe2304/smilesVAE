{
 "cells": [
  {
   "cell_type": "code",
   "execution_count": null,
   "id": "31a54e9b-fa99-41a4-a20c-f51a562d7dd9",
   "metadata": {
    "tags": []
   },
   "outputs": [],
   "source": [
    "import torch\n",
    "import torch.nn as nn\n",
    "import torch.nn.functional as F\n",
    "import torch.optim as optim\n",
    "from torch.utils.data import DataLoader\n",
    "\n",
    "import matplotlib.pyplot as plt\n",
    "import numpy as np\n",
    "import pandas as pd\n",
    "\n",
    "import time\n",
    "import os\n",
    "import random\n",
    "\n",
    "from utils import *\n",
    "from embedding_utils import *\n",
    "from encoder import Encoder\n",
    "from decoder import DecodeNext, Decoder\n",
    "\n",
    "%load_ext autoreload\n",
    "%autoreload 2"
   ]
  },
  {
   "cell_type": "markdown",
   "id": "d35b48d8-6721-45ed-b02b-cfc930beca36",
   "metadata": {
    "tags": []
   },
   "source": [
    "### Data & Model Parameters"
   ]
  },
  {
   "cell_type": "code",
   "execution_count": null,
   "id": "0502c3c8-8d00-4168-944e-b97398dba0e5",
   "metadata": {
    "tags": []
   },
   "outputs": [],
   "source": [
    "smiles = list(fetch_smiles_gdb13('./data/gdb13/')[0])"
   ]
  },
  {
   "cell_type": "code",
   "execution_count": null,
   "id": "fb0dadff-a3a2-4e62-aaef-fa3ee61ef1c0",
   "metadata": {
    "tags": []
   },
   "outputs": [],
   "source": [
    "params = make_params(smiles=smiles, GRU_HIDDEN_DIM=256, LATENT_DIM=128)"
   ]
  },
  {
   "cell_type": "markdown",
   "id": "a5af90e7-e697-4a7d-8267-397ec07f8e01",
   "metadata": {},
   "source": [
    "### Model"
   ]
  },
  {
   "cell_type": "code",
   "execution_count": null,
   "id": "448dd116-efbd-48c4-b88b-fe3c1dcbe967",
   "metadata": {
    "tags": []
   },
   "outputs": [],
   "source": [
    "encoder = Encoder(params)\n",
    "decoder = Decoder(params)"
   ]
  },
  {
   "cell_type": "code",
   "execution_count": null,
   "id": "1e64e725-0e16-4fba-8afa-6020018896fe",
   "metadata": {
    "tags": []
   },
   "outputs": [],
   "source": [
    "encoder.load_state_dict(torch.load('weights/encoder_weights.pth'))\n",
    "decoder.load_state_dict(torch.load('weights/decoder_weights.pth'))"
   ]
  },
  {
   "cell_type": "code",
   "execution_count": null,
   "id": "24f00712-ef04-47c2-8855-600e8cfd8681",
   "metadata": {
    "tags": []
   },
   "outputs": [],
   "source": [
    "test_smile = [\"S1C=CC=C1\"]\n",
    "\n",
    "x = to_one_hot(smiles[0], params)\n",
    "y = to_one_hot(test_smile, params)\n",
    "\n",
    "print(smiles[0])\n",
    "print(test_smile)"
   ]
  },
  {
   "cell_type": "code",
   "execution_count": null,
   "id": "b8d7bda6-7774-4a59-963c-5d31c1629a85",
   "metadata": {
    "tags": []
   },
   "outputs": [],
   "source": [
    "z_mean, z_logvar, z = encoder(x)\n",
    "y_hat = decoder(z)"
   ]
  },
  {
   "cell_type": "code",
   "execution_count": null,
   "id": "166883f1-9b03-4262-bb5c-cd2d5d96ac69",
   "metadata": {
    "tags": []
   },
   "outputs": [],
   "source": [
    "# Loss\n",
    "\n",
    "CE_loss = lambda predicted, target : torch.mean(-torch.sum(target * torch.log(predicted)))/21\n",
    "\n",
    "KL_divergence = lambda z_mean, z_logvar : -0.5 * torch.sum(1 + z_logvar - z_mean ** 2 - torch.exp(z_logvar))\n",
    "\n",
    "loss = CE_loss(y_hat, x)# + KL_divergence(z_mean, z_logvar) * 0.01"
   ]
  },
  {
   "cell_type": "code",
   "execution_count": null,
   "id": "d3b0e6c6-b187-4957-82a5-0902f152eee3",
   "metadata": {
    "tags": []
   },
   "outputs": [],
   "source": [
    "loss"
   ]
  },
  {
   "cell_type": "code",
   "execution_count": null,
   "id": "285ba4e7-9b25-4104-bf6e-1e71521ca636",
   "metadata": {
    "tags": []
   },
   "outputs": [],
   "source": [
    "KL_divergence(z_mean, z_logvar)"
   ]
  },
  {
   "cell_type": "code",
   "execution_count": null,
   "id": "a1ebfa80-663c-494d-a998-703c7cb14311",
   "metadata": {
    "tags": []
   },
   "outputs": [],
   "source": [
    "from_one_hot(y_hat, params)"
   ]
  },
  {
   "cell_type": "markdown",
   "id": "c03e54ee-e95d-472a-a8f9-36ad587fb6ee",
   "metadata": {},
   "source": [
    "## Test"
   ]
  },
  {
   "cell_type": "code",
   "execution_count": null,
   "id": "5b7067bd-1055-4927-9f61-6d4355e4c8cb",
   "metadata": {
    "tags": []
   },
   "outputs": [],
   "source": [
    "evaluate_ae(encoder, decoder, smiles, 1000, params=params)"
   ]
  },
  {
   "cell_type": "code",
   "execution_count": null,
   "id": "2ecad31b-c318-4255-bf1a-546b82477594",
   "metadata": {},
   "outputs": [],
   "source": [
    "log = pd.read_csv('log.csv')"
   ]
  },
  {
   "cell_type": "code",
   "execution_count": null,
   "id": "7fc46e16-71e9-4e44-9c81-5fb60ef5641d",
   "metadata": {
    "tags": []
   },
   "outputs": [],
   "source": [
    "plt.plot(log['i'], log[' similarity'])"
   ]
  },
  {
   "cell_type": "code",
   "execution_count": null,
   "id": "fe6483a1-9fe0-4076-9878-de6da35987b3",
   "metadata": {},
   "outputs": [],
   "source": []
  }
 ],
 "metadata": {
  "kernelspec": {
   "display_name": "Python 3 (ipykernel)",
   "language": "python",
   "name": "python3"
  },
  "language_info": {
   "codemirror_mode": {
    "name": "ipython",
    "version": 3
   },
   "file_extension": ".py",
   "mimetype": "text/x-python",
   "name": "python",
   "nbconvert_exporter": "python",
   "pygments_lexer": "ipython3",
   "version": "3.10.6"
  }
 },
 "nbformat": 4,
 "nbformat_minor": 5
}
