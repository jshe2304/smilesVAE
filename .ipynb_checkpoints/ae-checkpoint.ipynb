{
 "cells": [
  {
   "cell_type": "code",
   "execution_count": 79,
   "id": "31a54e9b-fa99-41a4-a20c-f51a562d7dd9",
   "metadata": {
    "tags": []
   },
   "outputs": [
    {
     "name": "stdout",
     "output_type": "stream",
     "text": [
      "The autoreload extension is already loaded. To reload it, use:\n",
      "  %reload_ext autoreload\n"
     ]
    }
   ],
   "source": [
    "import torch\n",
    "import torch.nn as nn\n",
    "import torch.nn.functional as F\n",
    "import torch.optim as optim\n",
    "from torch.utils.data import DataLoader\n",
    "\n",
    "import matplotlib.pyplot as plt\n",
    "from matplotlib import gridspec\n",
    "import numpy as np\n",
    "import pandas as pd\n",
    "\n",
    "import time\n",
    "import os\n",
    "import random\n",
    "\n",
    "from utils import *\n",
    "from embedding_utils import *\n",
    "from encoder import Encoder\n",
    "from decoder import DecodeNext, Decoder\n",
    "\n",
    "%load_ext autoreload\n",
    "%autoreload 2"
   ]
  },
  {
   "cell_type": "markdown",
   "id": "d35b48d8-6721-45ed-b02b-cfc930beca36",
   "metadata": {
    "tags": []
   },
   "source": [
    "### Data & Model Parameters"
   ]
  },
  {
   "cell_type": "code",
   "execution_count": 80,
   "id": "3ffb1156-7e1b-461a-bbd2-2710e68f2cba",
   "metadata": {
    "tags": []
   },
   "outputs": [],
   "source": [
    "smiles = fetch_smiles_gdb13('./data/gdb13').values.tolist()\n",
    "\n",
    "for i, smile in enumerate(smiles):\n",
    "    smiles[i] = smile.replace('Cl', 'L')"
   ]
  },
  {
   "cell_type": "markdown",
   "id": "a5af90e7-e697-4a7d-8267-397ec07f8e01",
   "metadata": {
    "tags": []
   },
   "source": [
    "### Model"
   ]
  },
  {
   "cell_type": "code",
   "execution_count": 81,
   "id": "fb0dadff-a3a2-4e62-aaef-fa3ee61ef1c0",
   "metadata": {
    "tags": []
   },
   "outputs": [],
   "source": [
    "params = make_params(smiles=smiles, GRU_HIDDEN_DIM=512, LATENT_DIM=256)"
   ]
  },
  {
   "cell_type": "code",
   "execution_count": 82,
   "id": "448dd116-efbd-48c4-b88b-fe3c1dcbe967",
   "metadata": {
    "tags": []
   },
   "outputs": [
    {
     "data": {
      "text/plain": [
       "<All keys matched successfully>"
      ]
     },
     "execution_count": 82,
     "metadata": {},
     "output_type": "execute_result"
    }
   ],
   "source": [
    "encoder = Encoder(params)\n",
    "encoder.load_state_dict(torch.load('weights-3/encoder_weights.pth'))\n",
    "\n",
    "decoder = Decoder(params)\n",
    "decoder.load_state_dict(torch.load('weights-3/decoder_weights.pth'))"
   ]
  },
  {
   "cell_type": "code",
   "execution_count": 86,
   "id": "78c613d9-f2df-4033-84e3-9f0b75ac5cec",
   "metadata": {
    "tags": []
   },
   "outputs": [
    {
     "name": "stdout",
     "output_type": "stream",
     "text": [
      "N=C1SC=C2N1C=NC1=CSC=C21\t\tC1COC2=CC3=C(OC=N3)C=C2O1\n",
      "O1CCCCCCCCCCCCCCCCCCCCCC\t\tC1CCCCCCCCCCCCCCCCCCCCCO\n",
      "Euclidean Distance of Means: 8.489216270390898e-05\n",
      "Euclidean Distance of Samples: 22.423572540283203\n"
     ]
    },
    {
     "data": {
      "text/plain": [
       "<matplotlib.image.AxesImage at 0x7f5d38bf21d0>"
      ]
     },
     "execution_count": 86,
     "metadata": {},
     "output_type": "execute_result"
    },
    {
     "data": {
      "image/png": "[encoded data removed]",
      "text/plain": [
       "<Figure size 640x480 with 4 Axes>"
      ]
     },
     "metadata": {},
     "output_type": "display_data"
    }
   ],
   "source": [
    "s1, s2 = random.sample(smiles, 2)\n",
    "print(f'{s1}\\t\\t{s2}')\n",
    "\n",
    "s1 = to_one_hot(s1, params)\n",
    "s2 = to_one_hot(s2, params)\n",
    "\n",
    "mu1, logvar1, z1 = encoder(s1)\n",
    "mu2, logvar2, z2 = encoder(s2)\n",
    "\n",
    "s1_pred = decoder(z1)\n",
    "s2_pred = decoder(z2)\n",
    "\n",
    "print(f'{from_one_hot(s1_pred, params)[0]}\\t\\t{from_one_hot(s2_pred, params)[0]}')\n",
    "\n",
    "print(f\"Euclidean Distance of Means: {float(torch.pow(torch.sum(torch.pow(mu1 - mu2, 2)), 0.5))}\")\n",
    "print(f\"Euclidean Distance of Samples: {float(torch.pow(torch.sum(torch.pow(z1 - z2, 2)), 0.5))}\")\n",
    "\n",
    "fig, ((ax1, ax2), (ax3, ax4)) = plt.subplots(2, 2, sharex=True, sharey=True)\n",
    "\n",
    "ax1.imshow(torch.softmax(s1_pred, dim=2).squeeze(0).detach().numpy())\n",
    "ax2.imshow(torch.softmax(s1, dim=2).squeeze(0).detach().numpy())\n",
    "\n",
    "ax3.imshow(torch.softmax(s2_pred, dim=2).squeeze(0).detach().numpy())\n",
    "ax4.imshow(torch.softmax(s2, dim=2).squeeze(0).detach().numpy())"
   ]
  },
  {
   "cell_type": "markdown",
   "id": "c03e54ee-e95d-472a-a8f9-36ad587fb6ee",
   "metadata": {
    "tags": []
   },
   "source": [
    "## Test"
   ]
  },
  {
   "cell_type": "code",
   "execution_count": 84,
   "id": "5b7067bd-1055-4927-9f61-6d4355e4c8cb",
   "metadata": {
    "tags": []
   },
   "outputs": [
    {
     "data": {
      "text/html": [
       "<div>\n",
       "<style scoped>\n",
       "    .dataframe tbody tr th:only-of-type {\n",
       "        vertical-align: middle;\n",
       "    }\n",
       "\n",
       "    .dataframe tbody tr th {\n",
       "        vertical-align: top;\n",
       "    }\n",
       "\n",
       "    .dataframe thead th {\n",
       "        text-align: right;\n",
       "    }\n",
       "</style>\n",
       "<table border=\"1\" class=\"dataframe\">\n",
       "  <thead>\n",
       "    <tr style=\"text-align: right;\">\n",
       "      <th></th>\n",
       "      <th>target</th>\n",
       "      <th>predicted</th>\n",
       "    </tr>\n",
       "  </thead>\n",
       "  <tbody>\n",
       "    <tr>\n",
       "      <th>0</th>\n",
       "      <td>C1[NH2+]C2C3CC11NCC(CC21)CC3</td>\n",
       "      <td>O1CCCCCCCCCCCCCCCCCCCCCCO</td>\n",
       "    </tr>\n",
       "    <tr>\n",
       "      <th>1</th>\n",
       "      <td>OC1COCC11C[NH+]2CCC1CC2</td>\n",
       "      <td>O1CCCCCCCCCCCCCCCCCCCCCO</td>\n",
       "    </tr>\n",
       "    <tr>\n",
       "      <th>2</th>\n",
       "      <td>O=C1C[NH+]2CCC3CCC2CCC13</td>\n",
       "      <td>O1CCCCCCCCCCCCCCCCCCCCCO</td>\n",
       "    </tr>\n",
       "    <tr>\n",
       "      <th>3</th>\n",
       "      <td>C1C2[NH2+]CC3OC1C1COC3CC21</td>\n",
       "      <td>O1CCCCCCCCCCCCCCCCCCCCO</td>\n",
       "    </tr>\n",
       "    <tr>\n",
       "      <th>4</th>\n",
       "      <td>OC12CCC3(CC1)CC2CCCO3</td>\n",
       "      <td>O1CCCCCCCCCCCCCCCCCCCCCC</td>\n",
       "    </tr>\n",
       "    <tr>\n",
       "      <th>5</th>\n",
       "      <td>OC1C[NH2+]C2CC1C1=NSC=C21</td>\n",
       "      <td>C1CCCCCCCCCCCCCCCCCCCCCCO</td>\n",
       "    </tr>\n",
       "    <tr>\n",
       "      <th>6</th>\n",
       "      <td>[NH3+]C1CC2CC3OC4C1CC2C4O3</td>\n",
       "      <td>O1CCCCCCCCCCCCCCCCCCCCCO</td>\n",
       "    </tr>\n",
       "    <tr>\n",
       "      <th>7</th>\n",
       "      <td>[NH2+]=C1CCCC23CCC(CC2)(C3)N1</td>\n",
       "      <td>C1CCCCCCCCCCCCCCCCCCCCCCO</td>\n",
       "    </tr>\n",
       "    <tr>\n",
       "      <th>8</th>\n",
       "      <td>OC1C[NH+]2CC11CC3CC2CN3C1</td>\n",
       "      <td>O1CCCCCCCCCCCCCCCCCCCCO</td>\n",
       "    </tr>\n",
       "    <tr>\n",
       "      <th>9</th>\n",
       "      <td>C1[NH2+]CC2C1C1COC2OCC1</td>\n",
       "      <td>O1CCCCCCCCCCCCCCCCCCCCCO</td>\n",
       "    </tr>\n",
       "  </tbody>\n",
       "</table>\n",
       "</div>"
      ],
      "text/plain": [
       "                          target                  predicted\n",
       "0   C1[NH2+]C2C3CC11NCC(CC21)CC3  O1CCCCCCCCCCCCCCCCCCCCCCO\n",
       "1        OC1COCC11C[NH+]2CCC1CC2   O1CCCCCCCCCCCCCCCCCCCCCO\n",
       "2       O=C1C[NH+]2CCC3CCC2CCC13   O1CCCCCCCCCCCCCCCCCCCCCO\n",
       "3     C1C2[NH2+]CC3OC1C1COC3CC21    O1CCCCCCCCCCCCCCCCCCCCO\n",
       "4          OC12CCC3(CC1)CC2CCCO3   O1CCCCCCCCCCCCCCCCCCCCCC\n",
       "5      OC1C[NH2+]C2CC1C1=NSC=C21  C1CCCCCCCCCCCCCCCCCCCCCCO\n",
       "6     [NH3+]C1CC2CC3OC4C1CC2C4O3   O1CCCCCCCCCCCCCCCCCCCCCO\n",
       "7  [NH2+]=C1CCCC23CCC(CC2)(C3)N1  C1CCCCCCCCCCCCCCCCCCCCCCO\n",
       "8      OC1C[NH+]2CC11CC3CC2CN3C1    O1CCCCCCCCCCCCCCCCCCCCO\n",
       "9        C1[NH2+]CC2C1C1COC2OCC1   O1CCCCCCCCCCCCCCCCCCCCCO"
      ]
     },
     "execution_count": 84,
     "metadata": {},
     "output_type": "execute_result"
    }
   ],
   "source": [
    "evaluate_ae(encoder, decoder, smiles, 10, params=params)"
   ]
  },
  {
   "cell_type": "code",
   "execution_count": 85,
   "id": "7fc46e16-71e9-4e44-9c81-5fb60ef5641d",
   "metadata": {
    "tags": []
   },
   "outputs": [
    {
     "data": {
      "text/plain": [
       "[<matplotlib.lines.Line2D at 0x7f5d2d31fc90>]"
      ]
     },
     "execution_count": 85,
     "metadata": {},
     "output_type": "execute_result"
    },
    {
     "data": {
      "image/png": "[encoded data removed]",
      "text/plain": [
       "<Figure size 640x480 with 2 Axes>"
      ]
     },
     "metadata": {},
     "output_type": "display_data"
    }
   ],
   "source": [
    "log = pd.read_csv('./logs/log-3.csv')\n",
    "\n",
    "fig, (ax1, ax2) = plt.subplots(2, 1)\n",
    "\n",
    "ax1.set_ylabel('loss')\n",
    "ax1.plot(log['i'], log['loss'], color='red')\n",
    "\n",
    "ax2.set_ylabel('accuracy')\n",
    "ax2.plot(log['i'], log['similarity'])"
   ]
  }
 ],
 "metadata": {
  "kernelspec": {
   "display_name": "Python 3 (ipykernel)",
   "language": "python",
   "name": "python3"
  },
  "language_info": {
   "codemirror_mode": {
    "name": "ipython",
    "version": 3
   },
   "file_extension": ".py",
   "mimetype": "text/x-python",
   "name": "python",
   "nbconvert_exporter": "python",
   "pygments_lexer": "ipython3",
   "version": "3.11.5"
  }
 },
 "nbformat": 4,
 "nbformat_minor": 5
}
