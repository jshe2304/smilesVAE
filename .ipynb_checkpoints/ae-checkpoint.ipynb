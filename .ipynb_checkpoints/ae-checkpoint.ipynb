{
 "cells": [
  {
   "cell_type": "code",
   "execution_count": 1,
   "id": "31a54e9b-fa99-41a4-a20c-f51a562d7dd9",
   "metadata": {
    "tags": []
   },
   "outputs": [],
   "source": [
    "import torch\n",
    "import torch.nn as nn\n",
    "import torch.nn.functional as F\n",
    "import torch.optim as optim\n",
    "from torch.utils.data import DataLoader\n",
    "\n",
    "import matplotlib.pyplot as plt\n",
    "import numpy as np\n",
    "import pandas as pd\n",
    "\n",
    "import time\n",
    "import os\n",
    "import random\n",
    "\n",
    "from utils import *\n",
    "from embedding_utils import *\n",
    "from encoder import Encoder\n",
    "from decoder import DecodeNext, Decoder\n",
    "\n",
    "%load_ext autoreload\n",
    "%autoreload 2"
   ]
  },
  {
   "cell_type": "markdown",
   "id": "d35b48d8-6721-45ed-b02b-cfc930beca36",
   "metadata": {
    "tags": []
   },
   "source": [
    "### Data & Model Parameters"
   ]
  },
  {
   "cell_type": "code",
   "execution_count": 2,
   "id": "0502c3c8-8d00-4168-944e-b97398dba0e5",
   "metadata": {
    "tags": []
   },
   "outputs": [],
   "source": [
    "smiles = list(fetch_smiles_gdb13('./data/gdb13/')[0])"
   ]
  },
  {
   "cell_type": "code",
   "execution_count": 3,
   "id": "fb0dadff-a3a2-4e62-aaef-fa3ee61ef1c0",
   "metadata": {
    "tags": []
   },
   "outputs": [],
   "source": [
    "params = make_params(smiles=smiles, GRU_HIDDEN_DIM=256, LATENT_DIM=128)"
   ]
  },
  {
   "cell_type": "markdown",
   "id": "a5af90e7-e697-4a7d-8267-397ec07f8e01",
   "metadata": {},
   "source": [
    "### Model"
   ]
  },
  {
   "cell_type": "code",
   "execution_count": 75,
   "id": "448dd116-efbd-48c4-b88b-fe3c1dcbe967",
   "metadata": {
    "tags": []
   },
   "outputs": [],
   "source": [
    "encoder = Encoder(params)\n",
    "decoder = Decoder(params)"
   ]
  },
  {
   "cell_type": "code",
   "execution_count": 76,
   "id": "1e64e725-0e16-4fba-8afa-6020018896fe",
   "metadata": {
    "tags": []
   },
   "outputs": [
    {
     "data": {
      "text/plain": [
       "<All keys matched successfully>"
      ]
     },
     "execution_count": 76,
     "metadata": {},
     "output_type": "execute_result"
    }
   ],
   "source": [
    "encoder.load_state_dict(torch.load('weights/encoder_weights.pth'))\n",
    "decoder.load_state_dict(torch.load('weights/decoder_weights.pth'))"
   ]
  },
  {
   "cell_type": "code",
   "execution_count": 77,
   "id": "24f00712-ef04-47c2-8855-600e8cfd8681",
   "metadata": {
    "tags": []
   },
   "outputs": [
    {
     "name": "stdout",
     "output_type": "stream",
     "text": [
      "S1C=CC=C1\n",
      "['S2C=CC=C1']\n"
     ]
    }
   ],
   "source": [
    "test_smile = [\"S2C=CC=C1\"]\n",
    "\n",
    "x = to_one_hot(smiles[0], params)\n",
    "y = to_one_hot(test_smile, params)\n",
    "\n",
    "print(smiles[0])\n",
    "print(test_smile)"
   ]
  },
  {
   "cell_type": "code",
   "execution_count": 82,
   "id": "b8d7bda6-7774-4a59-963c-5d31c1629a85",
   "metadata": {
    "tags": []
   },
   "outputs": [
    {
     "data": {
      "text/plain": [
       "tensor([[-0.0293,  0.3044, -0.8461,  0.8532,  0.5610, -2.4536, -0.2135,  0.3596,\n",
       "         -0.1283,  0.4310,  0.9255,  0.5294, -0.0625,  0.3720,  0.4099,  1.4524,\n",
       "         -0.2214,  0.8135,  2.0206, -1.3092, -0.7950, -1.0104, -0.1721,  0.0718,\n",
       "          0.3241, -0.2505,  0.4959, -0.1410,  1.9225,  0.1589, -1.3031, -0.0691,\n",
       "         -0.4422, -0.5300, -0.7683,  0.1582, -0.9318,  1.1483,  0.8612,  1.1154,\n",
       "         -1.0879,  0.2394,  1.9449,  0.3463,  0.7930, -1.2179, -1.2671, -0.4124,\n",
       "         -0.4228, -0.4520, -0.1823, -1.7690, -0.1925,  0.8398,  0.1736,  1.5701,\n",
       "         -1.4646, -0.6372,  1.1339,  1.4038, -1.2714,  0.6222, -0.7176, -1.1553,\n",
       "         -0.1408, -0.6864, -0.8107,  0.1453, -0.2167, -0.4863, -0.0517,  1.1871,\n",
       "          0.0827,  1.0707, -1.9015,  0.0614,  0.4131, -0.0577, -0.5127, -0.0232,\n",
       "         -0.8334,  1.3177, -1.2465,  1.4582,  0.1110, -1.9745, -1.4200,  0.1783,\n",
       "          2.5513,  0.4498, -0.5361,  1.4343,  0.2904, -0.1585, -0.2263, -0.1185,\n",
       "          1.0557, -0.7236, -2.5690, -1.5674,  1.3525, -2.1712, -0.1206, -0.0563,\n",
       "          0.2475, -1.1085,  0.9007, -0.6520, -0.2778,  0.1720, -0.5125,  1.7435,\n",
       "          1.4158, -0.7345,  0.2125,  1.8141, -1.3753, -0.3537,  1.7246,  0.1858,\n",
       "          0.0574,  0.5243,  0.3319, -0.2996, -0.0830,  1.0068, -0.0618,  0.3228]],\n",
       "       grad_fn=<AddBackward0>)"
      ]
     },
     "execution_count": 82,
     "metadata": {},
     "output_type": "execute_result"
    }
   ],
   "source": [
    "encoder = Encoder(params)\n",
    "\n",
    "z_mean, z_logvar, z = encoder(x)\n",
    "y_hat = decoder(z)\n",
    "\n",
    "z"
   ]
  },
  {
   "cell_type": "code",
   "execution_count": 65,
   "id": "166883f1-9b03-4262-bb5c-cd2d5d96ac69",
   "metadata": {
    "tags": []
   },
   "outputs": [
    {
     "data": {
      "text/plain": [
       "tensor(2.5000)"
      ]
     },
     "execution_count": 65,
     "metadata": {},
     "output_type": "execute_result"
    }
   ],
   "source": [
    "CE_loss = nn.CrossEntropyLoss()\n",
    "KL_divergence = lambda z_mean, z_logvar : -0.5 * torch.sum(1 + z_logvar - z_mean ** 2 - torch.exp(z_logvar))\n",
    "\n",
    "CE_loss((y.transpose(1, 2) - 0.5)*100, torch.argmax(x, dim=2))\n",
    "\n"
   ]
  },
  {
   "cell_type": "code",
   "execution_count": null,
   "id": "d3b0e6c6-b187-4957-82a5-0902f152eee3",
   "metadata": {
    "tags": []
   },
   "outputs": [],
   "source": [
    "loss"
   ]
  },
  {
   "cell_type": "code",
   "execution_count": null,
   "id": "285ba4e7-9b25-4104-bf6e-1e71521ca636",
   "metadata": {
    "tags": []
   },
   "outputs": [],
   "source": [
    "KL_divergence(z_mean, z_logvar)"
   ]
  },
  {
   "cell_type": "code",
   "execution_count": null,
   "id": "a1ebfa80-663c-494d-a998-703c7cb14311",
   "metadata": {
    "tags": []
   },
   "outputs": [],
   "source": [
    "from_one_hot(y_hat, params)"
   ]
  },
  {
   "cell_type": "markdown",
   "id": "c03e54ee-e95d-472a-a8f9-36ad587fb6ee",
   "metadata": {},
   "source": [
    "## Test"
   ]
  },
  {
   "cell_type": "code",
   "execution_count": 12,
   "id": "5b7067bd-1055-4927-9f61-6d4355e4c8cb",
   "metadata": {
    "tags": []
   },
   "outputs": [
    {
     "name": "stdout",
     "output_type": "stream",
     "text": [
      "mean token matching: 0.06502500176429749\n",
      "\n",
      "['C1CC23C4OCC2N2CC3(CC42)O1', 'OC1CC2CC3=C(SC=C3O)N2C1', 'C1OC2OC3CCCCOCC2C13', 'OC1C2CCCC1COCOCC2', '[NH3+]C12CCOC1CC1=CSC=C1C2', 'C1[NH2+]C2COC3CC22OCC(O3)C12', 'C1C[NH2+]C(C1)C1CN2N=NC=C2N1', 'C1OC2CC3[NH2+]CC(COC13)O2', 'C1C2C3CC4CC5(CC3[NH+]1C5)C2[NH2+]4', 'OC1C2C[NH+]3CC(CC13)CC(O)C2']\n",
      "['<BOS>C1H+]]]]]]]]]]]]]]]]]]]]]]]]]]]22222222', '<BOS>C1H+]]]]]]]]]]]]]]]]]]]]]]]]]]]22222222', '<BOS>C1H+]]]]]]]]]]]]]]]]]]]]]]]]]]]22222222', '<BOS>C1H+]]]]]]]]]]]]]]]]]]]]]]]]]]]22222222', '<BOS>C1H+]]]]]]]]]]]]]]]]]]]]]]]]]]]22222222', '<BOS>C1H+]]]]]]]]]]]]]]]]]]]]]]]]]]]22222222', '<BOS>C1H+]]]]]]]]]]]]]]]]]]]]]]]]]]]22222222', '<BOS>C1H+]]]]]]]]]]]]]]]]]]]]]]]]]]]22222222', '<BOS>C1H+]]]]]]]]]]]]]]]]]]]]]]]]]]]22222222', '<BOS>C1H+]]]]]]]]]]]]]]]]]]]]]]]]]]]22222222']\n"
     ]
    }
   ],
   "source": [
    "evaluate_ae(encoder, decoder, smiles, 1000, params=params)"
   ]
  },
  {
   "cell_type": "code",
   "execution_count": 3,
   "id": "2ecad31b-c318-4255-bf1a-546b82477594",
   "metadata": {},
   "outputs": [],
   "source": [
    "log = pd.read_csv('log.csv')"
   ]
  },
  {
   "cell_type": "code",
   "execution_count": 7,
   "id": "7fc46e16-71e9-4e44-9c81-5fb60ef5641d",
   "metadata": {
    "tags": []
   },
   "outputs": [
    {
     "data": {
      "text/plain": [
       "[<matplotlib.lines.Line2D at 0x17dcc9a20>]"
      ]
     },
     "execution_count": 7,
     "metadata": {},
     "output_type": "execute_result"
    },
    {
     "data": {
      "image/png": "[encoded data removed]",
      "text/plain": [
       "<Figure size 640x480 with 1 Axes>"
      ]
     },
     "metadata": {},
     "output_type": "display_data"
    }
   ],
   "source": [
    "plt.plot(log['i'], log['similarity'])"
   ]
  },
  {
   "cell_type": "code",
   "execution_count": null,
   "id": "fe6483a1-9fe0-4076-9878-de6da35987b3",
   "metadata": {},
   "outputs": [],
   "source": []
  }
 ],
 "metadata": {
  "kernelspec": {
   "display_name": "Python 3 (ipykernel)",
   "language": "python",
   "name": "python3"
  },
  "language_info": {
   "codemirror_mode": {
    "name": "ipython",
    "version": 3
   },
   "file_extension": ".py",
   "mimetype": "text/x-python",
   "name": "python",
   "nbconvert_exporter": "python",
   "pygments_lexer": "ipython3",
   "version": "3.10.6"
  }
 },
 "nbformat": 4,
 "nbformat_minor": 5
}
